{
 "cells": [
  {
   "cell_type": "markdown",
   "metadata": {},
   "source": [
    "# ASSIGNMENT3_DEEPLEARNING"
   ]
  },
  {
   "cell_type": "markdown",
   "metadata": {},
   "source": [
    "# ABSTRACT"
   ]
  },
  {
   "cell_type": "markdown",
   "metadata": {},
   "source": [
    "This is a grocery dataset which contain various common household grocery items like fruits like apple and melon, vegetables like tomatoes and packages like milk, juice and yogurt. The dataset consists of 6 classes. \n",
    "https://github.com/marcusklasson/GroceryStoreDataset\n",
    "\n",
    "In this assignment I have used cnn to classify the images and calculate the accuracy for the test data. The assignment is divided into multiple parts with Initial part I have build the base model and then changed the hyperparameters of this base model to find the accuracy and the network plateau with different hyperparameters.\n",
    "\n",
    "The assignment is divided into multiple parts. Initially I have processed the all the images by resizing the images and then converting them to grayscale. In part A i have build the base model with 50 epochs, relu as the activation function, adam as the optimizer, categorical_crossentropy as the cost function. This gave an accuracy of 0.77 on the test data. In Part B, I have tried three different activation function 'tanh' with an accuracy of 0.75, 'elu' with accuracy of 0.78 and 'sigmoid' with accuracy of 0.55. In Part c, I have tried three different cost functions namely 'mean_squared_error' with an accuracy of 0.77, 'categorical_hinge' with an accuracy of 0.13  and 'cosine_proximity' with an accuracy of 0.80. In Part D, I have changed the number of epochs from 50 to 75 which increased the accuracy from 0.77 to 0.80 and increasing the epochs from 50 to 100 increases the accuracy from 0.77 to 0.86. In Part E, I have changed the optimizer from 'Adam' to 'RMSProp' which increases the accuracy from 0.77 to 0.80 and then to 'Adagrad' which has no impact on accuracy which is at 0.77.\n",
    "In Part F, I have changed the network architecture from changing the number of layers from 2 to 3 and then to 4. I also changed the filters and it marginally increased the accuracy to 0.79. In Part G, I have changed the network initializer from 'glorot_uniform' to 'Zeroes' which reduced the accuracy from 0.77 to 0.27 and then to'randomuniform' which yields an accuracy of 0.75."
   ]
  },
  {
   "cell_type": "code",
   "execution_count": 1,
   "metadata": {},
   "outputs": [
    {
     "name": "stderr",
     "output_type": "stream",
     "text": [
      "C:\\Users\\jaina\\Anaconda3\\lib\\site-packages\\h5py\\__init__.py:36: FutureWarning: Conversion of the second argument of issubdtype from `float` to `np.floating` is deprecated. In future, it will be treated as `np.float64 == np.dtype(float).type`.\n",
      "  from ._conv import register_converters as _register_converters\n",
      "C:\\Users\\jaina\\Anaconda3\\lib\\site-packages\\sklearn\\cross_validation.py:41: DeprecationWarning: This module was deprecated in version 0.18 in favor of the model_selection module into which all the refactored classes and functions are moved. Also note that the interface of the new CV iterators are different from that of this module. This module will be removed in 0.20.\n",
      "  \"This module will be removed in 0.20.\", DeprecationWarning)\n"
     ]
    }
   ],
   "source": [
    "import tensorflow as tf\n",
    "import numpy as np\n",
    "\n",
    "import os\n",
    "from PIL import Image\n",
    "from numpy import *\n",
    "import matplotlib.pyplot as plt\n",
    "import matplotlib\n",
    "\n",
    "from sklearn.metrics import confusion_matrix\n",
    "import time\n",
    "from datetime import timedelta\n",
    "import math\n",
    "\n",
    "# SKLEARN\n",
    "from sklearn.utils import shuffle\n",
    "from sklearn.cross_validation import train_test_split"
   ]
  },
  {
   "cell_type": "markdown",
   "metadata": {},
   "source": [
    "http://learnandshare645.blogspot.com/2016/06/feeding-your-own-data-set-into-cnn.html"
   ]
  },
  {
   "cell_type": "code",
   "execution_count": 2,
   "metadata": {},
   "outputs": [],
   "source": [
    "# input image dimensions\n",
    "img_rows, img_cols = 32, 32\n",
    "\n",
    "# number of channels\n",
    "img_channels = 1\n",
    "\n",
    "path1 = 'trainf'    #path of folder of images    \n",
    "path2 = 'trainfinal'  #path of folder to save images   "
   ]
  },
  {
   "cell_type": "code",
   "execution_count": 3,
   "metadata": {},
   "outputs": [
    {
     "name": "stdout",
     "output_type": "stream",
     "text": [
      "1142\n"
     ]
    }
   ],
   "source": [
    "listing = os.listdir(path1) \n",
    "num_samples=size(listing)\n",
    "print(num_samples)"
   ]
  },
  {
   "cell_type": "code",
   "execution_count": 4,
   "metadata": {},
   "outputs": [],
   "source": [
    "for file in listing:\n",
    "    im = Image.open(path1 + '\\\\' + file)   \n",
    "    img = im.resize((img_rows,img_cols))\n",
    "    gray = img.convert('L')\n",
    "                #need to do some more processing here           \n",
    "    gray.save(path2 +'\\\\' +  file, \"JPEG\")"
   ]
  },
  {
   "cell_type": "code",
   "execution_count": 5,
   "metadata": {},
   "outputs": [],
   "source": [
    "imlist = os.listdir(path2)"
   ]
  },
  {
   "cell_type": "code",
   "execution_count": 6,
   "metadata": {},
   "outputs": [],
   "source": [
    "im1 = array(Image.open('trainfinal' + '\\\\'+ imlist[0])) # open one image to get size\n",
    "m,n = im1.shape[0:2] # get the size of the images\n",
    "imnbr = len(imlist) # get the number of images\n",
    "\n",
    "# create matrix to store all flattened images\n",
    "immatrix = array([array(Image.open('trainfinal'+ '\\\\' + im2)).flatten()\n",
    "              for im2 in imlist],'f')"
   ]
  },
  {
   "cell_type": "code",
   "execution_count": 7,
   "metadata": {},
   "outputs": [
    {
     "data": {
      "text/plain": [
       "(1142, 1024)"
      ]
     },
     "execution_count": 7,
     "metadata": {},
     "output_type": "execute_result"
    }
   ],
   "source": [
    "immatrix.shape"
   ]
  },
  {
   "cell_type": "code",
   "execution_count": 8,
   "metadata": {},
   "outputs": [],
   "source": [
    "label=np.ones((num_samples,),dtype = int)\n",
    "label[0:277]=0\n",
    "label[277:498]=1\n",
    "label[498:652]=2\n",
    "label[652:834]=3\n",
    "label[834:961]=4\n",
    "label[961:]=5"
   ]
  },
  {
   "cell_type": "code",
   "execution_count": 9,
   "metadata": {},
   "outputs": [],
   "source": [
    "data,Label = shuffle(immatrix,label, random_state=2)\n",
    "train_data = [data,Label]"
   ]
  },
  {
   "cell_type": "code",
   "execution_count": 10,
   "metadata": {},
   "outputs": [
    {
     "name": "stdout",
     "output_type": "stream",
     "text": [
      "X_train shape: (913, 32, 32, 1)\n",
      "913 train samples\n",
      "229 test samples\n"
     ]
    }
   ],
   "source": [
    "(X, y) = (train_data[0],train_data[1])\n",
    "\n",
    "\n",
    "# STEP 1: split X and y into training and testing sets\n",
    "\n",
    "X_train, X_test, y_train, y_test = train_test_split(X, y, test_size=0.2, random_state=4)\n",
    "\n",
    "\n",
    "X_train = X_train.reshape(X_train.shape[0], img_rows, img_cols,1)\n",
    "X_test = X_test.reshape(X_test.shape[0],  img_rows, img_cols,1)\n",
    "\n",
    "X_train = X_train.astype('float32')\n",
    "X_test = X_test.astype('float32')\n",
    "\n",
    "X_train /= 255\n",
    "X_test /= 255\n",
    "\n",
    "print('X_train shape:', X_train.shape)\n",
    "print(X_train.shape[0], 'train samples')\n",
    "print(X_test.shape[0], 'test samples')\n",
    "\n"
   ]
  },
  {
   "cell_type": "code",
   "execution_count": 11,
   "metadata": {},
   "outputs": [],
   "source": [
    "y_train=tf.keras.utils.to_categorical(\n",
    "    y_train,\n",
    "    num_classes=6,\n",
    "    dtype='float32'\n",
    ")"
   ]
  },
  {
   "cell_type": "code",
   "execution_count": 12,
   "metadata": {},
   "outputs": [],
   "source": [
    "y_test=tf.keras.utils.to_categorical(\n",
    "    y_test,\n",
    "    num_classes=6,\n",
    "    dtype='float32'\n",
    ")"
   ]
  },
  {
   "cell_type": "markdown",
   "metadata": {},
   "source": [
    "# PART A"
   ]
  },
  {
   "cell_type": "code",
   "execution_count": 13,
   "metadata": {},
   "outputs": [],
   "source": [
    "from tensorflow.keras.models import Sequential\n",
    "from tensorflow.keras.layers import Dense, Dropout, Activation, Flatten, Conv2D, MaxPooling2D,BatchNormalization"
   ]
  },
  {
   "cell_type": "markdown",
   "metadata": {},
   "source": [
    "https://medium.com/tensorflow/hello-deep-learning-fashion-mnist-with-keras-50fcff8cd74a"
   ]
  },
  {
   "cell_type": "code",
   "execution_count": 14,
   "metadata": {},
   "outputs": [
    {
     "name": "stdout",
     "output_type": "stream",
     "text": [
      "WARNING:tensorflow:From C:\\Users\\jaina\\Anaconda3\\lib\\site-packages\\tensorflow\\python\\ops\\resource_variable_ops.py:435: colocate_with (from tensorflow.python.framework.ops) is deprecated and will be removed in a future version.\n",
      "Instructions for updating:\n",
      "Colocations handled automatically by placer.\n",
      "WARNING:tensorflow:From C:\\Users\\jaina\\Anaconda3\\lib\\site-packages\\tensorflow\\python\\keras\\layers\\core.py:143: calling dropout (from tensorflow.python.ops.nn_ops) with keep_prob is deprecated and will be removed in a future version.\n",
      "Instructions for updating:\n",
      "Please use `rate` instead of `keep_prob`. Rate should be set to `rate = 1 - keep_prob`.\n"
     ]
    }
   ],
   "source": [
    "model = tf.keras.Sequential()\n",
    " #Must define the input shape in the first layer of the neural network\n",
    "    #layer 1\n",
    "model.add(tf.keras.layers.Conv2D(filters=64, kernel_size=2, padding='same', activation='relu', input_shape=(32,32,1),kernel_initializer ='glorot_uniform',bias_initializer ='glorot_uniform')) \n",
    "model.add(tf.keras.layers.MaxPooling2D(pool_size=2))\n",
    "model.add(tf.keras.layers.Dropout(0.3))\n",
    "    #layer 2\n",
    "model.add(tf.keras.layers.Conv2D(filters=32, kernel_size=2, padding='same', activation='relu',kernel_initializer ='glorot_uniform',bias_initializer ='glorot_uniform'))\n",
    "model.add(tf.keras.layers.MaxPooling2D(pool_size=2))\n",
    "model.add(tf.keras.layers.Dropout(0.3))\n",
    "    #flatenning the layer\n",
    "model.add(tf.keras.layers.Flatten())\n",
    "model.add(tf.keras.layers.Dropout(0.5))\n",
    "model.add(tf.keras.layers.Dense(6, activation='softmax'))\n"
   ]
  },
  {
   "cell_type": "code",
   "execution_count": 15,
   "metadata": {},
   "outputs": [],
   "source": [
    "model.compile(loss='categorical_crossentropy',\n",
    "             optimizer='adam',\n",
    "             metrics=['accuracy'])"
   ]
  },
  {
   "cell_type": "code",
   "execution_count": 16,
   "metadata": {},
   "outputs": [
    {
     "name": "stdout",
     "output_type": "stream",
     "text": [
      "WARNING:tensorflow:From C:\\Users\\jaina\\Anaconda3\\lib\\site-packages\\tensorflow\\python\\ops\\math_ops.py:3066: to_int32 (from tensorflow.python.ops.math_ops) is deprecated and will be removed in a future version.\n",
      "Instructions for updating:\n",
      "Use tf.cast instead.\n",
      "Epoch 1/50\n",
      "25/25 [==============================] - 33s 1s/step - loss: 1.7607 - acc: 0.2332 - val_loss: 1.6962 - val_acc: 0.3275\n",
      "Epoch 2/50\n",
      "25/25 [==============================] - 37s 1s/step - loss: 1.5584 - acc: 0.3707 - val_loss: 1.3736 - val_acc: 0.5415\n",
      "Epoch 3/50\n",
      "25/25 [==============================] - 34s 1s/step - loss: 1.2849 - acc: 0.5221 - val_loss: 1.1980 - val_acc: 0.5677\n",
      "Epoch 4/50\n",
      "25/25 [==============================] - 33s 1s/step - loss: 1.1426 - acc: 0.5782 - val_loss: 1.0834 - val_acc: 0.6026\n",
      "Epoch 5/50\n",
      "25/25 [==============================] - 33s 1s/step - loss: 1.0325 - acc: 0.6188 - val_loss: 0.9956 - val_acc: 0.6550\n",
      "Epoch 6/50\n",
      "25/25 [==============================] - 33s 1s/step - loss: 0.9398 - acc: 0.6586 - val_loss: 0.9219 - val_acc: 0.6594\n",
      "Epoch 7/50\n",
      "25/25 [==============================] - 33s 1s/step - loss: 0.8512 - acc: 0.6932 - val_loss: 0.8575 - val_acc: 0.7031\n",
      "Epoch 8/50\n",
      "25/25 [==============================] - 33s 1s/step - loss: 0.7851 - acc: 0.7235 - val_loss: 0.8113 - val_acc: 0.7205\n",
      "Epoch 9/50\n",
      "25/25 [==============================] - 32s 1s/step - loss: 0.7180 - acc: 0.7463 - val_loss: 0.7675 - val_acc: 0.7511\n",
      "Epoch 10/50\n",
      "25/25 [==============================] - 36s 1s/step - loss: 0.6556 - acc: 0.7711 - val_loss: 0.7309 - val_acc: 0.7686\n",
      "Epoch 11/50\n",
      "25/25 [==============================] - 33s 1s/step - loss: 0.6061 - acc: 0.7878 - val_loss: 0.7009 - val_acc: 0.7642\n",
      "Epoch 12/50\n",
      "25/25 [==============================] - 36s 1s/step - loss: 0.5707 - acc: 0.8027 - val_loss: 0.6770 - val_acc: 0.7686\n",
      "Epoch 13/50\n",
      "25/25 [==============================] - 38s 2s/step - loss: 0.5341 - acc: 0.8122 - val_loss: 0.6604 - val_acc: 0.7642\n",
      "Epoch 14/50\n",
      "25/25 [==============================] - 32s 1s/step - loss: 0.5016 - acc: 0.8276 - val_loss: 0.6403 - val_acc: 0.7729\n",
      "Epoch 15/50\n",
      "25/25 [==============================] - 37s 1s/step - loss: 0.4763 - acc: 0.8333 - val_loss: 0.6300 - val_acc: 0.7686\n",
      "Epoch 16/50\n",
      "25/25 [==============================] - 32s 1s/step - loss: 0.4562 - acc: 0.8399 - val_loss: 0.6291 - val_acc: 0.7598\n",
      "Epoch 17/50\n",
      "25/25 [==============================] - 33s 1s/step - loss: 0.4337 - acc: 0.8478 - val_loss: 0.6078 - val_acc: 0.7686\n",
      "Epoch 18/50\n",
      "25/25 [==============================] - 36s 1s/step - loss: 0.4076 - acc: 0.8578 - val_loss: 0.6061 - val_acc: 0.7860\n",
      "Epoch 19/50\n",
      "25/25 [==============================] - 33s 1s/step - loss: 0.3970 - acc: 0.8605 - val_loss: 0.5925 - val_acc: 0.7729\n",
      "Epoch 20/50\n",
      "25/25 [==============================] - 33s 1s/step - loss: 0.3799 - acc: 0.8669 - val_loss: 0.5815 - val_acc: 0.7860\n",
      "Epoch 21/50\n",
      "25/25 [==============================] - 35s 1s/step - loss: 0.3534 - acc: 0.8763 - val_loss: 0.5883 - val_acc: 0.7598\n",
      "Epoch 22/50\n",
      "25/25 [==============================] - 37s 1s/step - loss: 0.3513 - acc: 0.8750 - val_loss: 0.5739 - val_acc: 0.7729\n",
      "Epoch 23/50\n",
      "25/25 [==============================] - 38s 2s/step - loss: 0.3337 - acc: 0.8833 - val_loss: 0.5644 - val_acc: 0.7729\n",
      "Epoch 24/50\n",
      "25/25 [==============================] - 39s 2s/step - loss: 0.3248 - acc: 0.8873 - val_loss: 0.5674 - val_acc: 0.7729\n",
      "Epoch 25/50\n",
      "25/25 [==============================] - 35s 1s/step - loss: 0.3135 - acc: 0.8903 - val_loss: 0.5690 - val_acc: 0.7948\n",
      "Epoch 26/50\n",
      "25/25 [==============================] - 35s 1s/step - loss: 0.2960 - acc: 0.8995 - val_loss: 0.5556 - val_acc: 0.7948\n",
      "Epoch 27/50\n",
      "25/25 [==============================] - 35s 1s/step - loss: 0.2897 - acc: 0.8990 - val_loss: 0.5544 - val_acc: 0.7904\n",
      "Epoch 28/50\n",
      "25/25 [==============================] - 33s 1s/step - loss: 0.2847 - acc: 0.9005 - val_loss: 0.5553 - val_acc: 0.7773\n",
      "Epoch 29/50\n",
      "25/25 [==============================] - 33s 1s/step - loss: 0.2778 - acc: 0.9033 - val_loss: 0.5577 - val_acc: 0.7948\n",
      "Epoch 30/50\n",
      "25/25 [==============================] - 33s 1s/step - loss: 0.2616 - acc: 0.9094 - val_loss: 0.5550 - val_acc: 0.7904\n",
      "Epoch 31/50\n",
      "25/25 [==============================] - 33s 1s/step - loss: 0.2580 - acc: 0.9099 - val_loss: 0.5531 - val_acc: 0.7860\n",
      "Epoch 32/50\n",
      "25/25 [==============================] - 33s 1s/step - loss: 0.2470 - acc: 0.9159 - val_loss: 0.5499 - val_acc: 0.8035\n",
      "Epoch 33/50\n",
      "25/25 [==============================] - 33s 1s/step - loss: 0.2465 - acc: 0.9118 - val_loss: 0.5534 - val_acc: 0.7904\n",
      "Epoch 34/50\n",
      "25/25 [==============================] - 33s 1s/step - loss: 0.2418 - acc: 0.9140 - val_loss: 0.5477 - val_acc: 0.7904\n",
      "Epoch 35/50\n",
      "25/25 [==============================] - 34s 1s/step - loss: 0.2365 - acc: 0.9184 - val_loss: 0.5503 - val_acc: 0.7817\n",
      "Epoch 36/50\n",
      "25/25 [==============================] - 33s 1s/step - loss: 0.2345 - acc: 0.9174 - val_loss: 0.5580 - val_acc: 0.7948\n",
      "Epoch 37/50\n",
      "25/25 [==============================] - 35s 1s/step - loss: 0.2286 - acc: 0.9191 - val_loss: 0.5542 - val_acc: 0.7948\n",
      "Epoch 38/50\n",
      "25/25 [==============================] - 34s 1s/step - loss: 0.2221 - acc: 0.9235 - val_loss: 0.5523 - val_acc: 0.7817\n",
      "Epoch 39/50\n",
      "25/25 [==============================] - 33s 1s/step - loss: 0.2151 - acc: 0.9244 - val_loss: 0.5483 - val_acc: 0.7904\n",
      "Epoch 40/50\n",
      "25/25 [==============================] - 33s 1s/step - loss: 0.2112 - acc: 0.9253 - val_loss: 0.5438 - val_acc: 0.7991\n",
      "Epoch 41/50\n",
      "25/25 [==============================] - 33s 1s/step - loss: 0.2033 - acc: 0.9308 - val_loss: 0.5565 - val_acc: 0.7948\n",
      "Epoch 42/50\n",
      "25/25 [==============================] - 33s 1s/step - loss: 0.2008 - acc: 0.9333 - val_loss: 0.5619 - val_acc: 0.7904\n",
      "Epoch 43/50\n",
      "25/25 [==============================] - 33s 1s/step - loss: 0.2032 - acc: 0.9274 - val_loss: 0.5601 - val_acc: 0.7817\n",
      "Epoch 44/50\n",
      "25/25 [==============================] - 33s 1s/step - loss: 0.2024 - acc: 0.9299 - val_loss: 0.5618 - val_acc: 0.7991\n",
      "Epoch 45/50\n",
      "25/25 [==============================] - 34s 1s/step - loss: 0.2000 - acc: 0.9301 - val_loss: 0.5709 - val_acc: 0.7904\n",
      "Epoch 46/50\n",
      "25/25 [==============================] - 33s 1s/step - loss: 0.1911 - acc: 0.9330 - val_loss: 0.5425 - val_acc: 0.7904\n",
      "Epoch 47/50\n",
      "25/25 [==============================] - 34s 1s/step - loss: 0.1858 - acc: 0.9352 - val_loss: 0.5754 - val_acc: 0.8035\n",
      "Epoch 48/50\n",
      "25/25 [==============================] - 34s 1s/step - loss: 0.1858 - acc: 0.9355 - val_loss: 0.5570 - val_acc: 0.8079\n",
      "Epoch 49/50\n",
      "25/25 [==============================] - 33s 1s/step - loss: 0.1883 - acc: 0.9352 - val_loss: 0.5521 - val_acc: 0.7860\n",
      "Epoch 50/50\n",
      "25/25 [==============================] - 33s 1s/step - loss: 0.1827 - acc: 0.9350 - val_loss: 0.5479 - val_acc: 0.7773\n"
     ]
    }
   ],
   "source": [
    "history=model.fit(X_train,\n",
    "         y_train,\n",
    "         batch_size=64,\n",
    "         steps_per_epoch=25,\n",
    "         validation_data=(X_test,y_test),\n",
    "         epochs=50)\n"
   ]
  },
  {
   "cell_type": "code",
   "execution_count": 17,
   "metadata": {},
   "outputs": [
    {
     "name": "stdout",
     "output_type": "stream",
     "text": [
      "\n",
      " Test accuracy: 0.77729255\n"
     ]
    }
   ],
   "source": [
    "# Evaluate the model on test set\n",
    "score = model.evaluate(X_test, y_test, verbose=0)\n",
    "# Print test accuracy\n",
    "print('\\n', 'Test accuracy:', score[1])"
   ]
  },
  {
   "cell_type": "code",
   "execution_count": 18,
   "metadata": {},
   "outputs": [],
   "source": [
    "def train_test_plot(history,epochs):\n",
    "    plt.figure()\n",
    "    plt.plot(history.history['acc'],'r')\n",
    "    plt.plot(history.history['val_acc'],'g')\n",
    "    plt.xticks(np.arange(0, epochs+1, 5.0))\n",
    "    plt.rcParams['figure.figsize'] = (10, 6)\n",
    "    plt.xlabel(\"Num of Epochs\")\n",
    "    plt.ylabel(\"Accuracy\")\n",
    "    plt.title(\"Training Accuracy vs Validation Accuracy\")\n",
    "    plt.legend(['train','validation'])\n"
   ]
  },
  {
   "cell_type": "code",
   "execution_count": 19,
   "metadata": {},
   "outputs": [
    {
     "data": {
      "image/png": "[encoded data removed]",
      "text/plain": [
       "<matplotlib.figure.Figure at 0x22f2b16a978>"
      ]
     },
     "metadata": {},
     "output_type": "display_data"
    }
   ],
   "source": [
    "train_test_plot(history,50)"
   ]
  },
  {
   "cell_type": "markdown",
   "metadata": {},
   "source": [
    "**The network plateaus after 15 epochs as the accuracy is almost same after 15 epochs and the accuracy is 0.78**"
   ]
  },
  {
   "cell_type": "markdown",
   "metadata": {},
   "source": [
    "### SUMMARY FOR MODEL\n",
    "**No of layers-2**\n",
    "\n",
    "**Activation function - relu**\n",
    "\n",
    "**Number of epochs -50**\n",
    "\n",
    "**Cost function-categorical_crossentropy**\n",
    "\n",
    "**Gradient Estimation- Adam**\n",
    "\n",
    "**Network Initialization-glorot_uniform**"
   ]
  },
  {
   "cell_type": "markdown",
   "metadata": {},
   "source": [
    "** The accuracy for initial model is 0.77**"
   ]
  },
  {
   "cell_type": "markdown",
   "metadata": {},
   "source": [
    "# PART B - ACTIVATION FUNCTION"
   ]
  },
  {
   "cell_type": "markdown",
   "metadata": {},
   "source": [
    "**Changing the activation function from 'relu' to 'tanh'.**"
   ]
  },
  {
   "cell_type": "code",
   "execution_count": 20,
   "metadata": {},
   "outputs": [],
   "source": [
    "model = tf.keras.Sequential()\n",
    " #Must define the input shape in the first layer of the neural network\n",
    "    #layer 1\n",
    "model.add(tf.keras.layers.Conv2D(filters=64, kernel_size=2, padding='same', activation='tanh', input_shape=(32,32,1),kernel_initializer ='glorot_uniform',bias_initializer ='glorot_uniform')) \n",
    "model.add(tf.keras.layers.MaxPooling2D(pool_size=2))\n",
    "model.add(tf.keras.layers.Dropout(0.3))\n",
    "   #layer 2\n",
    "model.add(tf.keras.layers.Conv2D(filters=32, kernel_size=2, padding='same', activation='tanh',kernel_initializer ='glorot_uniform',bias_initializer ='glorot_uniform'))\n",
    "model.add(tf.keras.layers.MaxPooling2D(pool_size=2))\n",
    "model.add(tf.keras.layers.Dropout(0.3))\n",
    "   #flattening\n",
    "model.add(tf.keras.layers.Flatten())\n",
    "model.add(tf.keras.layers.Dropout(0.5))\n",
    "model.add(tf.keras.layers.Dense(6, activation='softmax'))"
   ]
  },
  {
   "cell_type": "code",
   "execution_count": 21,
   "metadata": {},
   "outputs": [],
   "source": [
    "model.compile(loss='categorical_crossentropy',\n",
    "             optimizer='adam',\n",
    "             metrics=['accuracy'])"
   ]
  },
  {
   "cell_type": "code",
   "execution_count": 22,
   "metadata": {},
   "outputs": [
    {
     "name": "stdout",
     "output_type": "stream",
     "text": [
      "Epoch 1/50\n",
      "25/25 [==============================] - 36s 1s/step - loss: 1.7883 - acc: 0.2281 - val_loss: 1.6673 - val_acc: 0.3537\n",
      "Epoch 2/50\n",
      "25/25 [==============================] - 35s 1s/step - loss: 1.4836 - acc: 0.4186 - val_loss: 1.3806 - val_acc: 0.4847\n",
      "Epoch 3/50\n",
      "25/25 [==============================] - 34s 1s/step - loss: 1.2442 - acc: 0.5387 - val_loss: 1.2785 - val_acc: 0.5284\n",
      "Epoch 4/50\n",
      "25/25 [==============================] - 34s 1s/step - loss: 1.1150 - acc: 0.5921 - val_loss: 1.1834 - val_acc: 0.5284\n",
      "Epoch 5/50\n",
      "25/25 [==============================] - 34s 1s/step - loss: 0.9978 - acc: 0.6414 - val_loss: 1.0954 - val_acc: 0.5590\n",
      "Epoch 6/50\n",
      "25/25 [==============================] - 35s 1s/step - loss: 0.9010 - acc: 0.6765 - val_loss: 1.0049 - val_acc: 0.5895\n",
      "Epoch 7/50\n",
      "25/25 [==============================] - 34s 1s/step - loss: 0.8186 - acc: 0.7089 - val_loss: 0.9466 - val_acc: 0.6157\n",
      "Epoch 8/50\n",
      "25/25 [==============================] - 35s 1s/step - loss: 0.7401 - acc: 0.7411 - val_loss: 0.8867 - val_acc: 0.6332\n",
      "Epoch 9/50\n",
      "25/25 [==============================] - 34s 1s/step - loss: 0.6727 - acc: 0.7638 - val_loss: 0.8635 - val_acc: 0.6376\n",
      "Epoch 10/50\n",
      "25/25 [==============================] - 35s 1s/step - loss: 0.6212 - acc: 0.7827 - val_loss: 0.8129 - val_acc: 0.6812\n",
      "Epoch 11/50\n",
      "25/25 [==============================] - 41s 2s/step - loss: 0.5715 - acc: 0.7992 - val_loss: 0.8366 - val_acc: 0.6769\n",
      "Epoch 12/50\n",
      "25/25 [==============================] - 34s 1s/step - loss: 0.5346 - acc: 0.8129 - val_loss: 0.7904 - val_acc: 0.6769\n",
      "Epoch 13/50\n",
      "25/25 [==============================] - 34s 1s/step - loss: 0.5041 - acc: 0.8228 - val_loss: 0.8105 - val_acc: 0.6812\n",
      "Epoch 14/50\n",
      "25/25 [==============================] - 34s 1s/step - loss: 0.4682 - acc: 0.8335 - val_loss: 0.7641 - val_acc: 0.7205\n",
      "Epoch 15/50\n",
      "25/25 [==============================] - 34s 1s/step - loss: 0.4513 - acc: 0.8399 - val_loss: 0.7529 - val_acc: 0.7293\n",
      "Epoch 16/50\n",
      "25/25 [==============================] - 34s 1s/step - loss: 0.4267 - acc: 0.8503 - val_loss: 0.7492 - val_acc: 0.7336\n",
      "Epoch 17/50\n",
      "25/25 [==============================] - 34s 1s/step - loss: 0.4063 - acc: 0.8571 - val_loss: 0.7490 - val_acc: 0.7118\n",
      "Epoch 18/50\n",
      "25/25 [==============================] - 34s 1s/step - loss: 0.3953 - acc: 0.8574 - val_loss: 0.7044 - val_acc: 0.7205\n",
      "Epoch 19/50\n",
      "25/25 [==============================] - 34s 1s/step - loss: 0.3781 - acc: 0.8656 - val_loss: 0.7550 - val_acc: 0.7162\n",
      "Epoch 20/50\n",
      "25/25 [==============================] - 34s 1s/step - loss: 0.3638 - acc: 0.8686 - val_loss: 0.7357 - val_acc: 0.7467\n",
      "Epoch 21/50\n",
      "25/25 [==============================] - 34s 1s/step - loss: 0.3514 - acc: 0.8733 - val_loss: 0.6922 - val_acc: 0.7249\n",
      "Epoch 22/50\n",
      "25/25 [==============================] - 34s 1s/step - loss: 0.3438 - acc: 0.8771 - val_loss: 0.6972 - val_acc: 0.7336\n",
      "Epoch 23/50\n",
      "25/25 [==============================] - 34s 1s/step - loss: 0.3328 - acc: 0.8799 - val_loss: 0.7010 - val_acc: 0.7336\n",
      "Epoch 24/50\n",
      "25/25 [==============================] - 34s 1s/step - loss: 0.3258 - acc: 0.8788 - val_loss: 0.7016 - val_acc: 0.7555\n",
      "Epoch 25/50\n",
      "25/25 [==============================] - 34s 1s/step - loss: 0.3077 - acc: 0.8885 - val_loss: 0.6937 - val_acc: 0.7511\n",
      "Epoch 26/50\n",
      "25/25 [==============================] - 34s 1s/step - loss: 0.3027 - acc: 0.8874 - val_loss: 0.7073 - val_acc: 0.7424\n",
      "Epoch 27/50\n",
      "25/25 [==============================] - 34s 1s/step - loss: 0.2872 - acc: 0.8967 - val_loss: 0.7031 - val_acc: 0.7511\n",
      "Epoch 28/50\n",
      "25/25 [==============================] - 34s 1s/step - loss: 0.2869 - acc: 0.8966 - val_loss: 0.6995 - val_acc: 0.7555\n",
      "Epoch 29/50\n",
      "25/25 [==============================] - 34s 1s/step - loss: 0.2839 - acc: 0.8966 - val_loss: 0.7110 - val_acc: 0.7555\n",
      "Epoch 30/50\n",
      "25/25 [==============================] - 34s 1s/step - loss: 0.2778 - acc: 0.8970 - val_loss: 0.7194 - val_acc: 0.7555\n",
      "Epoch 31/50\n",
      "25/25 [==============================] - 34s 1s/step - loss: 0.2733 - acc: 0.9011 - val_loss: 0.6985 - val_acc: 0.7336\n",
      "Epoch 32/50\n",
      "25/25 [==============================] - 34s 1s/step - loss: 0.2665 - acc: 0.9033 - val_loss: 0.7056 - val_acc: 0.7467\n",
      "Epoch 33/50\n",
      "25/25 [==============================] - 34s 1s/step - loss: 0.2618 - acc: 0.9049 - val_loss: 0.7116 - val_acc: 0.7467\n",
      "Epoch 34/50\n",
      "25/25 [==============================] - 35s 1s/step - loss: 0.2600 - acc: 0.9048 - val_loss: 0.7053 - val_acc: 0.7511\n",
      "Epoch 35/50\n",
      "25/25 [==============================] - 36s 1s/step - loss: 0.2516 - acc: 0.9095 - val_loss: 0.6929 - val_acc: 0.7511\n",
      "Epoch 36/50\n",
      "25/25 [==============================] - 36s 1s/step - loss: 0.2498 - acc: 0.9104 - val_loss: 0.6939 - val_acc: 0.7511\n",
      "Epoch 37/50\n",
      "25/25 [==============================] - 35s 1s/step - loss: 0.2464 - acc: 0.9108 - val_loss: 0.7149 - val_acc: 0.7380\n",
      "Epoch 38/50\n",
      "25/25 [==============================] - 36s 1s/step - loss: 0.2393 - acc: 0.9123 - val_loss: 0.6955 - val_acc: 0.7598\n",
      "Epoch 39/50\n",
      "25/25 [==============================] - 36s 1s/step - loss: 0.2362 - acc: 0.9119 - val_loss: 0.6776 - val_acc: 0.7467\n",
      "Epoch 40/50\n",
      "25/25 [==============================] - 37s 1s/step - loss: 0.2276 - acc: 0.9171 - val_loss: 0.7084 - val_acc: 0.7293\n",
      "Epoch 41/50\n",
      "25/25 [==============================] - 36s 1s/step - loss: 0.2257 - acc: 0.9186 - val_loss: 0.7148 - val_acc: 0.7511\n",
      "Epoch 42/50\n",
      "25/25 [==============================] - 36s 1s/step - loss: 0.2277 - acc: 0.9169 - val_loss: 0.7156 - val_acc: 0.7511\n",
      "Epoch 43/50\n",
      "25/25 [==============================] - 35s 1s/step - loss: 0.2220 - acc: 0.9192 - val_loss: 0.7164 - val_acc: 0.7380\n",
      "Epoch 44/50\n",
      "25/25 [==============================] - 35s 1s/step - loss: 0.2138 - acc: 0.9216 - val_loss: 0.6892 - val_acc: 0.7511\n",
      "Epoch 45/50\n",
      "25/25 [==============================] - 34s 1s/step - loss: 0.2141 - acc: 0.9222 - val_loss: 0.7004 - val_acc: 0.7555\n",
      "Epoch 46/50\n",
      "25/25 [==============================] - 34s 1s/step - loss: 0.2071 - acc: 0.9259 - val_loss: 0.6982 - val_acc: 0.7467\n",
      "Epoch 47/50\n",
      "25/25 [==============================] - 60s 2s/step - loss: 0.2050 - acc: 0.9234 - val_loss: 0.7227 - val_acc: 0.7511\n",
      "Epoch 48/50\n",
      "25/25 [==============================] - 32s 1s/step - loss: 0.1976 - acc: 0.9273 - val_loss: 0.7160 - val_acc: 0.7511\n",
      "Epoch 49/50\n",
      "25/25 [==============================] - 33s 1s/step - loss: 0.2058 - acc: 0.9242 - val_loss: 0.7247 - val_acc: 0.7598\n",
      "Epoch 50/50\n",
      "25/25 [==============================] - 33s 1s/step - loss: 0.2017 - acc: 0.9255 - val_loss: 0.7206 - val_acc: 0.7555\n"
     ]
    }
   ],
   "source": [
    "history1=model.fit(X_train,\n",
    "         y_train,\n",
    "          batch_size=64,\n",
    "         steps_per_epoch=25,\n",
    "         validation_data=(X_test,y_test),\n",
    "         epochs=50)"
   ]
  },
  {
   "cell_type": "code",
   "execution_count": 23,
   "metadata": {},
   "outputs": [
    {
     "name": "stdout",
     "output_type": "stream",
     "text": [
      "\n",
      " Test accuracy: 0.75545853\n"
     ]
    }
   ],
   "source": [
    "# Evaluate the model on test set\n",
    "score = model.evaluate(X_test, y_test, verbose=0)\n",
    "# Print test accuracy\n",
    "print('\\n', 'Test accuracy:', score[1])"
   ]
  },
  {
   "cell_type": "code",
   "execution_count": 24,
   "metadata": {},
   "outputs": [
    {
     "data": {
      "image/png": "[encoded data removed]",
      "text/plain": [
       "<matplotlib.figure.Figure at 0x22f2b1dd550>"
      ]
     },
     "metadata": {},
     "output_type": "display_data"
    }
   ],
   "source": [
    "train_test_plot(history1,50)"
   ]
  },
  {
   "cell_type": "markdown",
   "metadata": {},
   "source": [
    "**The network plateaus after 25 epochs and and the accuracy remains to 0.75 **"
   ]
  },
  {
   "cell_type": "markdown",
   "metadata": {},
   "source": [
    "**The accuracy after changing the activation function from 'relu' to 'tanh' reduces the accuracy from 0.77 to 0.75 **"
   ]
  },
  {
   "cell_type": "markdown",
   "metadata": {},
   "source": [
    "**Changing the activation function from 'relu' to 'elu'**"
   ]
  },
  {
   "cell_type": "code",
   "execution_count": 25,
   "metadata": {},
   "outputs": [],
   "source": [
    "model = tf.keras.Sequential()\n",
    " #Must define the input shape in the first layer of the neural network\n",
    "    #layer 1\n",
    "model.add(tf.keras.layers.Conv2D(filters=64, kernel_size=2, padding='same', activation='elu', input_shape=(32,32,1),kernel_initializer ='glorot_uniform',bias_initializer ='glorot_uniform')) \n",
    "model.add(tf.keras.layers.MaxPooling2D(pool_size=2))\n",
    "model.add(tf.keras.layers.Dropout(0.3))\n",
    "    #layer 2\n",
    "model.add(tf.keras.layers.Conv2D(filters=32, kernel_size=2, padding='same', activation='elu',kernel_initializer ='glorot_uniform',bias_initializer ='glorot_uniform'))\n",
    "model.add(tf.keras.layers.MaxPooling2D(pool_size=2))\n",
    "model.add(tf.keras.layers.Dropout(0.3))\n",
    "    #flatenning the layer\n",
    "model.add(tf.keras.layers.Flatten())\n",
    "model.add(tf.keras.layers.Dropout(0.5))\n",
    "model.add(tf.keras.layers.Dense(6, activation='softmax'))\n"
   ]
  },
  {
   "cell_type": "code",
   "execution_count": 26,
   "metadata": {},
   "outputs": [],
   "source": [
    "model.compile(loss='categorical_crossentropy',\n",
    "             optimizer='adam',\n",
    "             metrics=['accuracy'])"
   ]
  },
  {
   "cell_type": "code",
   "execution_count": 27,
   "metadata": {},
   "outputs": [
    {
     "name": "stdout",
     "output_type": "stream",
     "text": [
      "Epoch 1/50\n",
      "25/25 [==============================] - 35s 1s/step - loss: 1.7461 - acc: 0.2566 - val_loss: 1.6063 - val_acc: 0.3755\n",
      "Epoch 2/50\n",
      "25/25 [==============================] - 35s 1s/step - loss: 1.4203 - acc: 0.4561 - val_loss: 1.3299 - val_acc: 0.5109\n",
      "Epoch 3/50\n",
      "25/25 [==============================] - 43s 2s/step - loss: 1.1956 - acc: 0.5607 - val_loss: 1.1897 - val_acc: 0.5371\n",
      "Epoch 4/50\n",
      "25/25 [==============================] - 38s 2s/step - loss: 1.0365 - acc: 0.6242 - val_loss: 1.0775 - val_acc: 0.5502\n",
      "Epoch 5/50\n",
      "25/25 [==============================] - 36s 1s/step - loss: 0.9129 - acc: 0.6767 - val_loss: 0.9970 - val_acc: 0.6070\n",
      "Epoch 6/50\n",
      "25/25 [==============================] - 37s 1s/step - loss: 0.8170 - acc: 0.7101 - val_loss: 0.9340 - val_acc: 0.6288\n",
      "Epoch 7/50\n",
      "25/25 [==============================] - 36s 1s/step - loss: 0.7394 - acc: 0.7381 - val_loss: 0.8886 - val_acc: 0.6594\n",
      "Epoch 8/50\n",
      "25/25 [==============================] - 37s 1s/step - loss: 0.6670 - acc: 0.7679 - val_loss: 0.8481 - val_acc: 0.6681\n",
      "Epoch 9/50\n",
      "25/25 [==============================] - 36s 1s/step - loss: 0.6101 - acc: 0.7857 - val_loss: 0.7968 - val_acc: 0.7118\n",
      "Epoch 10/50\n",
      "25/25 [==============================] - 36s 1s/step - loss: 0.5565 - acc: 0.8039 - val_loss: 0.7781 - val_acc: 0.6987\n",
      "Epoch 11/50\n",
      "25/25 [==============================] - 36s 1s/step - loss: 0.5153 - acc: 0.8177 - val_loss: 0.7334 - val_acc: 0.7511\n",
      "Epoch 12/50\n",
      "25/25 [==============================] - 39s 2s/step - loss: 0.4758 - acc: 0.8330 - val_loss: 0.7300 - val_acc: 0.7424\n",
      "Epoch 13/50\n",
      "25/25 [==============================] - 35s 1s/step - loss: 0.4511 - acc: 0.8408 - val_loss: 0.6814 - val_acc: 0.7511\n",
      "Epoch 14/50\n",
      "25/25 [==============================] - 35s 1s/step - loss: 0.4217 - acc: 0.8499 - val_loss: 0.6863 - val_acc: 0.7424\n",
      "Epoch 15/50\n",
      "25/25 [==============================] - 36s 1s/step - loss: 0.3975 - acc: 0.8567 - val_loss: 0.6579 - val_acc: 0.7642\n",
      "Epoch 16/50\n",
      "25/25 [==============================] - 35s 1s/step - loss: 0.3750 - acc: 0.8619 - val_loss: 0.6621 - val_acc: 0.7293\n",
      "Epoch 17/50\n",
      "25/25 [==============================] - 35s 1s/step - loss: 0.3626 - acc: 0.8666 - val_loss: 0.6386 - val_acc: 0.7598\n",
      "Epoch 18/50\n",
      "25/25 [==============================] - 35s 1s/step - loss: 0.3446 - acc: 0.8739 - val_loss: 0.6453 - val_acc: 0.7555\n",
      "Epoch 19/50\n",
      "25/25 [==============================] - 36s 1s/step - loss: 0.3303 - acc: 0.8784 - val_loss: 0.6394 - val_acc: 0.7642\n",
      "Epoch 20/50\n",
      "25/25 [==============================] - 35s 1s/step - loss: 0.3260 - acc: 0.8797 - val_loss: 0.6373 - val_acc: 0.7511\n",
      "Epoch 21/50\n",
      "25/25 [==============================] - 35s 1s/step - loss: 0.3069 - acc: 0.8872 - val_loss: 0.6590 - val_acc: 0.7336\n",
      "Epoch 22/50\n",
      "25/25 [==============================] - 35s 1s/step - loss: 0.2993 - acc: 0.8914 - val_loss: 0.6276 - val_acc: 0.7686\n",
      "Epoch 23/50\n",
      "25/25 [==============================] - 35s 1s/step - loss: 0.2844 - acc: 0.8939 - val_loss: 0.6361 - val_acc: 0.7686\n",
      "Epoch 24/50\n",
      "25/25 [==============================] - 35s 1s/step - loss: 0.2788 - acc: 0.8970 - val_loss: 0.6256 - val_acc: 0.7686\n",
      "Epoch 25/50\n",
      "25/25 [==============================] - 37s 1s/step - loss: 0.2725 - acc: 0.9008 - val_loss: 0.6689 - val_acc: 0.7555\n",
      "Epoch 26/50\n",
      "25/25 [==============================] - 35s 1s/step - loss: 0.2601 - acc: 0.9053 - val_loss: 0.6396 - val_acc: 0.7686\n",
      "Epoch 27/50\n",
      "25/25 [==============================] - 35s 1s/step - loss: 0.2607 - acc: 0.9048 - val_loss: 0.6370 - val_acc: 0.7598\n",
      "Epoch 28/50\n",
      "25/25 [==============================] - 35s 1s/step - loss: 0.2532 - acc: 0.9067 - val_loss: 0.6372 - val_acc: 0.7686\n",
      "Epoch 29/50\n",
      "25/25 [==============================] - 35s 1s/step - loss: 0.2560 - acc: 0.9076 - val_loss: 0.6458 - val_acc: 0.7598\n",
      "Epoch 30/50\n",
      "25/25 [==============================] - 38s 2s/step - loss: 0.2440 - acc: 0.9095 - val_loss: 0.6688 - val_acc: 0.7598\n",
      "Epoch 31/50\n",
      "25/25 [==============================] - 35s 1s/step - loss: 0.2390 - acc: 0.9121 - val_loss: 0.6804 - val_acc: 0.7511\n",
      "Epoch 32/50\n",
      "25/25 [==============================] - 37s 1s/step - loss: 0.2304 - acc: 0.9161 - val_loss: 0.6355 - val_acc: 0.7642\n",
      "Epoch 33/50\n",
      "25/25 [==============================] - 35s 1s/step - loss: 0.2293 - acc: 0.9137 - val_loss: 0.6308 - val_acc: 0.7598\n",
      "Epoch 34/50\n",
      "25/25 [==============================] - 35s 1s/step - loss: 0.2289 - acc: 0.9155 - val_loss: 0.6557 - val_acc: 0.7555\n",
      "Epoch 35/50\n",
      "25/25 [==============================] - 35s 1s/step - loss: 0.2234 - acc: 0.9185 - val_loss: 0.6483 - val_acc: 0.7773\n",
      "Epoch 36/50\n",
      "25/25 [==============================] - 36s 1s/step - loss: 0.2217 - acc: 0.9171 - val_loss: 0.6546 - val_acc: 0.7598\n",
      "Epoch 37/50\n",
      "25/25 [==============================] - 35s 1s/step - loss: 0.2179 - acc: 0.9182 - val_loss: 0.6692 - val_acc: 0.7642\n",
      "Epoch 38/50\n",
      "25/25 [==============================] - 35s 1s/step - loss: 0.2118 - acc: 0.9212 - val_loss: 0.6690 - val_acc: 0.7686\n",
      "Epoch 39/50\n",
      "25/25 [==============================] - 37s 1s/step - loss: 0.2035 - acc: 0.9248 - val_loss: 0.6654 - val_acc: 0.7555\n",
      "Epoch 40/50\n",
      "25/25 [==============================] - 35s 1s/step - loss: 0.2018 - acc: 0.9253 - val_loss: 0.6370 - val_acc: 0.7729\n",
      "Epoch 41/50\n",
      "25/25 [==============================] - 35s 1s/step - loss: 0.1956 - acc: 0.9279 - val_loss: 0.6385 - val_acc: 0.7773\n",
      "Epoch 42/50\n",
      "25/25 [==============================] - 35s 1s/step - loss: 0.1894 - acc: 0.9307 - val_loss: 0.6706 - val_acc: 0.7729\n",
      "Epoch 43/50\n",
      "25/25 [==============================] - 35s 1s/step - loss: 0.1913 - acc: 0.9289 - val_loss: 0.6591 - val_acc: 0.7817\n",
      "Epoch 44/50\n",
      "25/25 [==============================] - 35s 1s/step - loss: 0.1946 - acc: 0.9289 - val_loss: 0.6811 - val_acc: 0.7642\n",
      "Epoch 45/50\n",
      "25/25 [==============================] - 35s 1s/step - loss: 0.1876 - acc: 0.9318 - val_loss: 0.6718 - val_acc: 0.7729\n",
      "Epoch 46/50\n",
      "25/25 [==============================] - 35s 1s/step - loss: 0.1884 - acc: 0.9322 - val_loss: 0.6633 - val_acc: 0.7642\n",
      "Epoch 47/50\n",
      "25/25 [==============================] - 40s 2s/step - loss: 0.1811 - acc: 0.9322 - val_loss: 0.6475 - val_acc: 0.7729\n",
      "Epoch 48/50\n",
      "25/25 [==============================] - 38s 2s/step - loss: 0.1786 - acc: 0.9348 - val_loss: 0.6713 - val_acc: 0.7860\n",
      "Epoch 49/50\n",
      "25/25 [==============================] - 35s 1s/step - loss: 0.1723 - acc: 0.9369 - val_loss: 0.6923 - val_acc: 0.7598\n",
      "Epoch 50/50\n",
      "25/25 [==============================] - 36s 1s/step - loss: 0.1752 - acc: 0.9364 - val_loss: 0.6813 - val_acc: 0.7860\n"
     ]
    }
   ],
   "source": [
    "history2=model.fit(X_train,\n",
    "         y_train,\n",
    "          batch_size=64,\n",
    "         steps_per_epoch=25,\n",
    "        validation_data=(X_test,y_test),\n",
    "         epochs=50)"
   ]
  },
  {
   "cell_type": "code",
   "execution_count": 28,
   "metadata": {},
   "outputs": [
    {
     "name": "stdout",
     "output_type": "stream",
     "text": [
      "\n",
      " Test accuracy: 0.7860262\n"
     ]
    }
   ],
   "source": [
    "# Evaluate the model on test set\n",
    "score = model.evaluate(X_test, y_test, verbose=0)\n",
    "# Print test accuracy\n",
    "print('\\n', 'Test accuracy:', score[1])"
   ]
  },
  {
   "cell_type": "code",
   "execution_count": 29,
   "metadata": {},
   "outputs": [
    {
     "data": {
      "image/png": "[encoded data removed]",
      "text/plain": [
       "<matplotlib.figure.Figure at 0x22f2f99ae10>"
      ]
     },
     "metadata": {},
     "output_type": "display_data"
    }
   ],
   "source": [
    "train_test_plot(history2,50)"
   ]
  },
  {
   "cell_type": "markdown",
   "metadata": {},
   "source": [
    "**The network plateaus after 22 epochs as the accuracy remains almost same at 0.78 even after increasing the epochs**"
   ]
  },
  {
   "cell_type": "markdown",
   "metadata": {},
   "source": [
    "**Changing the activation function from 'relu' to 'elu' increases the accuracy from 0.77 to 0.78**"
   ]
  },
  {
   "cell_type": "markdown",
   "metadata": {},
   "source": [
    "**Changing the activation function from 'relu' to 'sigmoid'**"
   ]
  },
  {
   "cell_type": "code",
   "execution_count": 30,
   "metadata": {},
   "outputs": [],
   "source": [
    "model = tf.keras.Sequential()\n",
    " #Must define the input shape in the first layer of the neural network\n",
    "    #layer 1\n",
    "model.add(tf.keras.layers.Conv2D(filters=64, kernel_size=2, padding='same', activation='sigmoid', input_shape=(32,32,1),kernel_initializer ='glorot_uniform',bias_initializer ='glorot_uniform')) \n",
    "model.add(tf.keras.layers.MaxPooling2D(pool_size=2))\n",
    "model.add(tf.keras.layers.Dropout(0.3))\n",
    "    #layer 2\n",
    "model.add(tf.keras.layers.Conv2D(filters=32, kernel_size=2, padding='same', activation='sigmoid',kernel_initializer ='glorot_uniform',bias_initializer ='glorot_uniform'))\n",
    "model.add(tf.keras.layers.MaxPooling2D(pool_size=2))\n",
    "model.add(tf.keras.layers.Dropout(0.3))\n",
    "    #flattening layer\n",
    "model.add(tf.keras.layers.Flatten())\n",
    "model.add(tf.keras.layers.Dropout(0.5))\n",
    "model.add(tf.keras.layers.Dense(6, activation='softmax'))"
   ]
  },
  {
   "cell_type": "code",
   "execution_count": 31,
   "metadata": {},
   "outputs": [],
   "source": [
    "model.compile(loss='categorical_crossentropy',\n",
    "             optimizer='adam',\n",
    "             metrics=['accuracy'])"
   ]
  },
  {
   "cell_type": "code",
   "execution_count": 32,
   "metadata": {},
   "outputs": [
    {
     "name": "stdout",
     "output_type": "stream",
     "text": [
      "Epoch 1/50\n",
      "25/25 [==============================] - 33s 1s/step - loss: 2.0060 - acc: 0.1853 - val_loss: 1.7545 - val_acc: 0.2795\n",
      "Epoch 2/50\n",
      "25/25 [==============================] - 37s 1s/step - loss: 1.7949 - acc: 0.2067 - val_loss: 1.7557 - val_acc: 0.2795\n",
      "Epoch 3/50\n",
      "25/25 [==============================] - 40s 2s/step - loss: 1.7774 - acc: 0.2201 - val_loss: 1.7529 - val_acc: 0.2795\n",
      "Epoch 4/50\n",
      "25/25 [==============================] - 37s 1s/step - loss: 1.7726 - acc: 0.2229 - val_loss: 1.7527 - val_acc: 0.2795\n",
      "Epoch 5/50\n",
      "25/25 [==============================] - 37s 1s/step - loss: 1.7726 - acc: 0.2250 - val_loss: 1.7530 - val_acc: 0.2795\n",
      "Epoch 6/50\n",
      "25/25 [==============================] - 34s 1s/step - loss: 1.7705 - acc: 0.2289 - val_loss: 1.7528 - val_acc: 0.2795\n",
      "Epoch 7/50\n",
      "25/25 [==============================] - 36s 1s/step - loss: 1.7687 - acc: 0.2301 - val_loss: 1.7528 - val_acc: 0.2795\n",
      "Epoch 8/50\n",
      "25/25 [==============================] - 36s 1s/step - loss: 1.7680 - acc: 0.2302 - val_loss: 1.7524 - val_acc: 0.2795\n",
      "Epoch 9/50\n",
      "25/25 [==============================] - 36s 1s/step - loss: 1.7674 - acc: 0.2304 - val_loss: 1.7524 - val_acc: 0.2795\n",
      "Epoch 10/50\n",
      "25/25 [==============================] - 36s 1s/step - loss: 1.7671 - acc: 0.2313 - val_loss: 1.7521 - val_acc: 0.2795\n",
      "Epoch 11/50\n",
      "25/25 [==============================] - 36s 1s/step - loss: 1.7662 - acc: 0.2322 - val_loss: 1.7518 - val_acc: 0.2795\n",
      "Epoch 12/50\n",
      "25/25 [==============================] - 35s 1s/step - loss: 1.7661 - acc: 0.2330 - val_loss: 1.7518 - val_acc: 0.2795\n",
      "Epoch 13/50\n",
      "25/25 [==============================] - 34s 1s/step - loss: 1.7659 - acc: 0.2331 - val_loss: 1.7521 - val_acc: 0.2795\n",
      "Epoch 14/50\n",
      "25/25 [==============================] - 35s 1s/step - loss: 1.7656 - acc: 0.2333 - val_loss: 1.7516 - val_acc: 0.2795\n",
      "Epoch 15/50\n",
      "25/25 [==============================] - 36s 1s/step - loss: 1.7653 - acc: 0.2332 - val_loss: 1.7517 - val_acc: 0.2795\n",
      "Epoch 16/50\n",
      "25/25 [==============================] - 36s 1s/step - loss: 1.7647 - acc: 0.2331 - val_loss: 1.7512 - val_acc: 0.2795\n",
      "Epoch 17/50\n",
      "25/25 [==============================] - 36s 1s/step - loss: 1.7634 - acc: 0.2331 - val_loss: 1.7508 - val_acc: 0.2795\n",
      "Epoch 18/50\n",
      "25/25 [==============================] - 36s 1s/step - loss: 1.7627 - acc: 0.2333 - val_loss: 1.7507 - val_acc: 0.2795\n",
      "Epoch 19/50\n",
      "25/25 [==============================] - 36s 1s/step - loss: 1.7624 - acc: 0.2333 - val_loss: 1.7498 - val_acc: 0.2795\n",
      "Epoch 20/50\n",
      "25/25 [==============================] - 35s 1s/step - loss: 1.7591 - acc: 0.2339 - val_loss: 1.7489 - val_acc: 0.2795\n",
      "Epoch 21/50\n",
      "25/25 [==============================] - 36s 1s/step - loss: 1.7577 - acc: 0.2340 - val_loss: 1.7477 - val_acc: 0.2795\n",
      "Epoch 22/50\n",
      "25/25 [==============================] - 36s 1s/step - loss: 1.7503 - acc: 0.2365 - val_loss: 1.7401 - val_acc: 0.2795\n",
      "Epoch 23/50\n",
      "25/25 [==============================] - 37s 1s/step - loss: 1.7351 - acc: 0.2488 - val_loss: 1.7270 - val_acc: 0.3362\n",
      "Epoch 24/50\n",
      "25/25 [==============================] - 33s 1s/step - loss: 1.7014 - acc: 0.2759 - val_loss: 1.6908 - val_acc: 0.3493\n",
      "Epoch 25/50\n",
      "25/25 [==============================] - 34s 1s/step - loss: 1.6277 - acc: 0.3268 - val_loss: 1.6247 - val_acc: 0.3362\n",
      "Epoch 26/50\n",
      "25/25 [==============================] - 34s 1s/step - loss: 1.5545 - acc: 0.3642 - val_loss: 1.5899 - val_acc: 0.3406\n",
      "Epoch 27/50\n",
      "25/25 [==============================] - 32s 1s/step - loss: 1.5092 - acc: 0.3917 - val_loss: 1.5789 - val_acc: 0.3537\n",
      "Epoch 28/50\n",
      "25/25 [==============================] - 33s 1s/step - loss: 1.4781 - acc: 0.4060 - val_loss: 1.5582 - val_acc: 0.3450\n",
      "Epoch 29/50\n",
      "25/25 [==============================] - 34s 1s/step - loss: 1.4631 - acc: 0.4139 - val_loss: 1.5485 - val_acc: 0.3581\n",
      "Epoch 30/50\n",
      "25/25 [==============================] - 34s 1s/step - loss: 1.4301 - acc: 0.4346 - val_loss: 1.5062 - val_acc: 0.3799\n",
      "Epoch 31/50\n",
      "25/25 [==============================] - 36s 1s/step - loss: 1.4002 - acc: 0.4491 - val_loss: 1.4647 - val_acc: 0.3843\n",
      "Epoch 32/50\n",
      "25/25 [==============================] - 36s 1s/step - loss: 1.3577 - acc: 0.4711 - val_loss: 1.4173 - val_acc: 0.4279\n",
      "Epoch 33/50\n",
      "25/25 [==============================] - 34s 1s/step - loss: 1.3112 - acc: 0.4935 - val_loss: 1.3662 - val_acc: 0.4716\n",
      "Epoch 34/50\n",
      "25/25 [==============================] - 35s 1s/step - loss: 1.2741 - acc: 0.5138 - val_loss: 1.3235 - val_acc: 0.4891\n",
      "Epoch 35/50\n",
      "25/25 [==============================] - 32s 1s/step - loss: 1.2384 - acc: 0.5319 - val_loss: 1.2972 - val_acc: 0.4891\n",
      "Epoch 36/50\n",
      "25/25 [==============================] - 34s 1s/step - loss: 1.2217 - acc: 0.5408 - val_loss: 1.2739 - val_acc: 0.5240\n",
      "Epoch 37/50\n",
      "25/25 [==============================] - 34s 1s/step - loss: 1.1949 - acc: 0.5493 - val_loss: 1.2516 - val_acc: 0.5459\n",
      "Epoch 38/50\n",
      "25/25 [==============================] - 34s 1s/step - loss: 1.1792 - acc: 0.5535 - val_loss: 1.2353 - val_acc: 0.5371\n",
      "Epoch 39/50\n",
      "25/25 [==============================] - 38s 2s/step - loss: 1.1606 - acc: 0.5639 - val_loss: 1.2309 - val_acc: 0.5328\n",
      "Epoch 40/50\n",
      "25/25 [==============================] - 39s 2s/step - loss: 1.1461 - acc: 0.5678 - val_loss: 1.2139 - val_acc: 0.5328\n",
      "Epoch 41/50\n",
      "25/25 [==============================] - 38s 2s/step - loss: 1.1355 - acc: 0.5751 - val_loss: 1.2171 - val_acc: 0.5415\n",
      "Epoch 42/50\n",
      "25/25 [==============================] - 36s 1s/step - loss: 1.1168 - acc: 0.5801 - val_loss: 1.1997 - val_acc: 0.5502\n",
      "Epoch 43/50\n",
      "25/25 [==============================] - 35s 1s/step - loss: 1.1177 - acc: 0.5792 - val_loss: 1.1989 - val_acc: 0.5590\n",
      "Epoch 44/50\n",
      "25/25 [==============================] - 36s 1s/step - loss: 1.0957 - acc: 0.5876 - val_loss: 1.1904 - val_acc: 0.5459\n",
      "Epoch 45/50\n",
      "25/25 [==============================] - 35s 1s/step - loss: 1.0866 - acc: 0.5935 - val_loss: 1.1902 - val_acc: 0.5546\n",
      "Epoch 46/50\n",
      "25/25 [==============================] - 35s 1s/step - loss: 1.0789 - acc: 0.5964 - val_loss: 1.1859 - val_acc: 0.5502\n",
      "Epoch 47/50\n",
      "25/25 [==============================] - 38s 2s/step - loss: 1.0657 - acc: 0.6031 - val_loss: 1.1767 - val_acc: 0.5546\n",
      "Epoch 48/50\n",
      "25/25 [==============================] - 36s 1s/step - loss: 1.0502 - acc: 0.6055 - val_loss: 1.1720 - val_acc: 0.5590\n",
      "Epoch 49/50\n",
      "25/25 [==============================] - 40s 2s/step - loss: 1.0466 - acc: 0.6122 - val_loss: 1.1708 - val_acc: 0.5590\n",
      "Epoch 50/50\n",
      "25/25 [==============================] - 36s 1s/step - loss: 1.0193 - acc: 0.6225 - val_loss: 1.1639 - val_acc: 0.5546\n"
     ]
    }
   ],
   "source": [
    "history3=model.fit(X_train,\n",
    "         y_train,\n",
    "          batch_size=64,\n",
    "         steps_per_epoch=25,\n",
    "        validation_data=(X_test,y_test),\n",
    "         epochs=50)"
   ]
  },
  {
   "cell_type": "code",
   "execution_count": 33,
   "metadata": {},
   "outputs": [
    {
     "name": "stdout",
     "output_type": "stream",
     "text": [
      "\n",
      " Test accuracy: 0.55458516\n"
     ]
    }
   ],
   "source": [
    "# Evaluate the model on test set\n",
    "score = model.evaluate(X_test, y_test, verbose=0)\n",
    "# Print test accuracy\n",
    "print('\\n', 'Test accuracy:', score[1])"
   ]
  },
  {
   "cell_type": "code",
   "execution_count": 34,
   "metadata": {},
   "outputs": [
    {
     "data": {
      "image/png": "[encoded data removed]",
      "text/plain": [
       "<matplotlib.figure.Figure at 0x22f311c9978>"
      ]
     },
     "metadata": {},
     "output_type": "display_data"
    }
   ],
   "source": [
    "train_test_plot(history3,50)"
   ]
  },
  {
   "cell_type": "markdown",
   "metadata": {},
   "source": [
    "**The network plateaus after 42 epochs 0.53 for 'sigmoid' activation function**"
   ]
  },
  {
   "cell_type": "markdown",
   "metadata": {},
   "source": [
    "**Changing the activation function from 'relu' to 'sigmoid' reduces the accuracy from 0.77 to 0.55**"
   ]
  },
  {
   "cell_type": "markdown",
   "metadata": {},
   "source": [
    "### PART B SUMMARY\n",
    "**tanh-0.75**\n",
    "\n",
    "**elu-0.78**\n",
    "\n",
    "**sigmoid-0.55**"
   ]
  },
  {
   "cell_type": "markdown",
   "metadata": {},
   "source": [
    "# PART C- COST FUNCTION"
   ]
  },
  {
   "cell_type": "markdown",
   "metadata": {},
   "source": [
    "**Changing the cost function from 'categorical_crossentropy' to 'mean_squared_error'**"
   ]
  },
  {
   "cell_type": "code",
   "execution_count": 35,
   "metadata": {},
   "outputs": [],
   "source": [
    "model = tf.keras.Sequential()\n",
    " #Must define the input shape in the first layer of the neural network\n",
    "    #layer 1\n",
    "model.add(tf.keras.layers.Conv2D(filters=64, kernel_size=2, padding='same', activation='relu', input_shape=(32,32,1),kernel_initializer ='glorot_uniform',bias_initializer ='glorot_uniform')) \n",
    "model.add(tf.keras.layers.MaxPooling2D(pool_size=2))\n",
    "model.add(tf.keras.layers.Dropout(0.3))\n",
    "    #layer 2\n",
    "model.add(tf.keras.layers.Conv2D(filters=32, kernel_size=2, padding='same', activation='relu',kernel_initializer ='glorot_uniform',bias_initializer ='glorot_uniform'))\n",
    "model.add(tf.keras.layers.MaxPooling2D(pool_size=2))\n",
    "model.add(tf.keras.layers.Dropout(0.3))\n",
    "    #flattening the layer\n",
    "model.add(tf.keras.layers.Flatten())\n",
    "model.add(tf.keras.layers.Dropout(0.5))\n",
    "model.add(tf.keras.layers.Dense(6, activation='softmax'))\n"
   ]
  },
  {
   "cell_type": "code",
   "execution_count": 36,
   "metadata": {},
   "outputs": [
    {
     "name": "stdout",
     "output_type": "stream",
     "text": [
      "WARNING:tensorflow:From C:\\Users\\jaina\\Anaconda3\\lib\\site-packages\\tensorflow\\python\\keras\\utils\\losses_utils.py:170: to_float (from tensorflow.python.ops.math_ops) is deprecated and will be removed in a future version.\n",
      "Instructions for updating:\n",
      "Use tf.cast instead.\n"
     ]
    }
   ],
   "source": [
    "model.compile(loss='mean_squared_error',\n",
    "             optimizer='adam',\n",
    "             metrics=['accuracy'])"
   ]
  },
  {
   "cell_type": "code",
   "execution_count": 37,
   "metadata": {},
   "outputs": [
    {
     "name": "stdout",
     "output_type": "stream",
     "text": [
      "Epoch 1/50\n",
      "25/25 [==============================] - 35s 1s/step - loss: 0.1383 - acc: 0.2220 - val_loss: 0.1348 - val_acc: 0.3319\n",
      "Epoch 2/50\n",
      "25/25 [==============================] - 35s 1s/step - loss: 0.1265 - acc: 0.3697 - val_loss: 0.1128 - val_acc: 0.5371\n",
      "Epoch 3/50\n",
      "25/25 [==============================] - 35s 1s/step - loss: 0.1074 - acc: 0.5034 - val_loss: 0.1016 - val_acc: 0.5328\n",
      "Epoch 4/50\n",
      "25/25 [==============================] - 39s 2s/step - loss: 0.0969 - acc: 0.5665 - val_loss: 0.0951 - val_acc: 0.5546\n",
      "Epoch 5/50\n",
      "25/25 [==============================] - 34s 1s/step - loss: 0.0888 - acc: 0.6050 - val_loss: 0.0893 - val_acc: 0.5764\n",
      "Epoch 6/50\n",
      "25/25 [==============================] - 35s 1s/step - loss: 0.0821 - acc: 0.6424 - val_loss: 0.0852 - val_acc: 0.6070\n",
      "Epoch 7/50\n",
      "25/25 [==============================] - 32s 1s/step - loss: 0.0775 - acc: 0.6655 - val_loss: 0.0820 - val_acc: 0.6070\n",
      "Epoch 8/50\n",
      "25/25 [==============================] - 33s 1s/step - loss: 0.0727 - acc: 0.6881 - val_loss: 0.0794 - val_acc: 0.6463\n",
      "Epoch 9/50\n",
      "25/25 [==============================] - 32s 1s/step - loss: 0.0689 - acc: 0.7086 - val_loss: 0.0779 - val_acc: 0.6419\n",
      "Epoch 10/50\n",
      "25/25 [==============================] - 33s 1s/step - loss: 0.0649 - acc: 0.7296 - val_loss: 0.0762 - val_acc: 0.6376\n",
      "Epoch 11/50\n",
      "25/25 [==============================] - 32s 1s/step - loss: 0.0622 - acc: 0.7428 - val_loss: 0.0733 - val_acc: 0.6507\n",
      "Epoch 12/50\n",
      "25/25 [==============================] - 33s 1s/step - loss: 0.0587 - acc: 0.7621 - val_loss: 0.0718 - val_acc: 0.6463\n",
      "Epoch 13/50\n",
      "25/25 [==============================] - 32s 1s/step - loss: 0.0553 - acc: 0.7778 - val_loss: 0.0717 - val_acc: 0.6725\n",
      "Epoch 14/50\n",
      "25/25 [==============================] - 33s 1s/step - loss: 0.0528 - acc: 0.7876 - val_loss: 0.0683 - val_acc: 0.6769\n",
      "Epoch 15/50\n",
      "25/25 [==============================] - 32s 1s/step - loss: 0.0501 - acc: 0.7999 - val_loss: 0.0663 - val_acc: 0.7118\n",
      "Epoch 16/50\n",
      "25/25 [==============================] - 32s 1s/step - loss: 0.0471 - acc: 0.8151 - val_loss: 0.0649 - val_acc: 0.6987\n",
      "Epoch 17/50\n",
      "25/25 [==============================] - 33s 1s/step - loss: 0.0455 - acc: 0.8206 - val_loss: 0.0640 - val_acc: 0.7118\n",
      "Epoch 18/50\n",
      "25/25 [==============================] - 32s 1s/step - loss: 0.0436 - acc: 0.8308 - val_loss: 0.0628 - val_acc: 0.7162\n",
      "Epoch 19/50\n",
      "25/25 [==============================] - 33s 1s/step - loss: 0.0415 - acc: 0.8390 - val_loss: 0.0624 - val_acc: 0.7293\n",
      "Epoch 20/50\n",
      "25/25 [==============================] - 33s 1s/step - loss: 0.0406 - acc: 0.8406 - val_loss: 0.0616 - val_acc: 0.7249\n",
      "Epoch 21/50\n",
      "25/25 [==============================] - 33s 1s/step - loss: 0.0390 - acc: 0.8499 - val_loss: 0.0613 - val_acc: 0.7205\n",
      "Epoch 22/50\n",
      "25/25 [==============================] - 33s 1s/step - loss: 0.0382 - acc: 0.8523 - val_loss: 0.0608 - val_acc: 0.7249\n",
      "Epoch 23/50\n",
      "25/25 [==============================] - 33s 1s/step - loss: 0.0366 - acc: 0.8600 - val_loss: 0.0593 - val_acc: 0.7293\n",
      "Epoch 24/50\n",
      "25/25 [==============================] - 32s 1s/step - loss: 0.0360 - acc: 0.8625 - val_loss: 0.0595 - val_acc: 0.7162\n",
      "Epoch 25/50\n",
      "25/25 [==============================] - 32s 1s/step - loss: 0.0345 - acc: 0.8681 - val_loss: 0.0588 - val_acc: 0.7249\n",
      "Epoch 26/50\n",
      "25/25 [==============================] - 33s 1s/step - loss: 0.0336 - acc: 0.8725 - val_loss: 0.0589 - val_acc: 0.7205\n",
      "Epoch 27/50\n",
      "25/25 [==============================] - 34s 1s/step - loss: 0.0326 - acc: 0.8758 - val_loss: 0.0576 - val_acc: 0.7293\n",
      "Epoch 28/50\n",
      "25/25 [==============================] - 33s 1s/step - loss: 0.0322 - acc: 0.8773 - val_loss: 0.0575 - val_acc: 0.7249\n",
      "Epoch 29/50\n",
      "25/25 [==============================] - 33s 1s/step - loss: 0.0314 - acc: 0.8801 - val_loss: 0.0572 - val_acc: 0.7336\n",
      "Epoch 30/50\n",
      "25/25 [==============================] - 32s 1s/step - loss: 0.0304 - acc: 0.8848 - val_loss: 0.0562 - val_acc: 0.7380\n",
      "Epoch 31/50\n",
      "25/25 [==============================] - 32s 1s/step - loss: 0.0296 - acc: 0.8881 - val_loss: 0.0565 - val_acc: 0.7336\n",
      "Epoch 32/50\n",
      "25/25 [==============================] - 33s 1s/step - loss: 0.0290 - acc: 0.8899 - val_loss: 0.0565 - val_acc: 0.7293\n",
      "Epoch 33/50\n",
      "25/25 [==============================] - 32s 1s/step - loss: 0.0278 - acc: 0.8936 - val_loss: 0.0551 - val_acc: 0.7336\n",
      "Epoch 34/50\n",
      "25/25 [==============================] - 33s 1s/step - loss: 0.0277 - acc: 0.8945 - val_loss: 0.0559 - val_acc: 0.7336\n",
      "Epoch 35/50\n",
      "25/25 [==============================] - 33s 1s/step - loss: 0.0271 - acc: 0.8964 - val_loss: 0.0554 - val_acc: 0.7424\n",
      "Epoch 36/50\n",
      "25/25 [==============================] - 33s 1s/step - loss: 0.0268 - acc: 0.8995 - val_loss: 0.0562 - val_acc: 0.7424\n",
      "Epoch 37/50\n",
      "25/25 [==============================] - 32s 1s/step - loss: 0.0266 - acc: 0.9004 - val_loss: 0.0551 - val_acc: 0.7424\n",
      "Epoch 38/50\n",
      "25/25 [==============================] - 33s 1s/step - loss: 0.0261 - acc: 0.9016 - val_loss: 0.0551 - val_acc: 0.7467\n",
      "Epoch 39/50\n",
      "25/25 [==============================] - 33s 1s/step - loss: 0.0256 - acc: 0.9036 - val_loss: 0.0546 - val_acc: 0.7467\n",
      "Epoch 40/50\n",
      "25/25 [==============================] - 32s 1s/step - loss: 0.0252 - acc: 0.9063 - val_loss: 0.0543 - val_acc: 0.7511\n",
      "Epoch 41/50\n",
      "25/25 [==============================] - 32s 1s/step - loss: 0.0248 - acc: 0.9068 - val_loss: 0.0533 - val_acc: 0.7555\n",
      "Epoch 42/50\n",
      "25/25 [==============================] - 32s 1s/step - loss: 0.0244 - acc: 0.9081 - val_loss: 0.0535 - val_acc: 0.7555\n",
      "Epoch 43/50\n",
      "25/25 [==============================] - 33s 1s/step - loss: 0.0243 - acc: 0.9083 - val_loss: 0.0537 - val_acc: 0.7511\n",
      "Epoch 44/50\n",
      "25/25 [==============================] - 33s 1s/step - loss: 0.0240 - acc: 0.9101 - val_loss: 0.0536 - val_acc: 0.7511\n",
      "Epoch 45/50\n",
      "25/25 [==============================] - 32s 1s/step - loss: 0.0232 - acc: 0.9130 - val_loss: 0.0529 - val_acc: 0.7467\n",
      "Epoch 46/50\n",
      "25/25 [==============================] - 32s 1s/step - loss: 0.0228 - acc: 0.9156 - val_loss: 0.0529 - val_acc: 0.7511\n",
      "Epoch 47/50\n",
      "25/25 [==============================] - 33s 1s/step - loss: 0.0223 - acc: 0.9179 - val_loss: 0.0522 - val_acc: 0.7598\n",
      "Epoch 48/50\n",
      "25/25 [==============================] - 32s 1s/step - loss: 0.0223 - acc: 0.9160 - val_loss: 0.0535 - val_acc: 0.7642\n",
      "Epoch 49/50\n",
      "25/25 [==============================] - 32s 1s/step - loss: 0.0220 - acc: 0.9185 - val_loss: 0.0540 - val_acc: 0.7511\n",
      "Epoch 50/50\n",
      "25/25 [==============================] - 33s 1s/step - loss: 0.0214 - acc: 0.9204 - val_loss: 0.0533 - val_acc: 0.7729\n"
     ]
    }
   ],
   "source": [
    "history4=model.fit(X_train,\n",
    "         y_train,\n",
    "          batch_size=64,\n",
    "         steps_per_epoch=25,\n",
    "          validation_data=(X_test,y_test),\n",
    "         epochs=50)"
   ]
  },
  {
   "cell_type": "code",
   "execution_count": 38,
   "metadata": {},
   "outputs": [
    {
     "name": "stdout",
     "output_type": "stream",
     "text": [
      "\n",
      " Test accuracy: 0.77292573\n"
     ]
    }
   ],
   "source": [
    "# Evaluate the model on test set\n",
    "score = model.evaluate(X_test, y_test, verbose=0)\n",
    "# Print test accuracy\n",
    "print('\\n', 'Test accuracy:', score[1])"
   ]
  },
  {
   "cell_type": "code",
   "execution_count": 39,
   "metadata": {},
   "outputs": [
    {
     "data": {
      "image/png": "[encoded data removed]",
      "text/plain": [
       "<matplotlib.figure.Figure at 0x22f318bf198>"
      ]
     },
     "metadata": {},
     "output_type": "display_data"
    }
   ],
   "source": [
    "train_test_plot(history4,50)"
   ]
  },
  {
   "cell_type": "markdown",
   "metadata": {},
   "source": [
    "**The network plateaus after 25 epochs but after 35 epochs it becomes more stable with a accuracy of 0.75 **"
   ]
  },
  {
   "cell_type": "markdown",
   "metadata": {},
   "source": [
    "**Changing the cost function from 'categorical_crossentropy' to 'mean_squared_error', still the accuracy remains same at 0.77 **"
   ]
  },
  {
   "cell_type": "markdown",
   "metadata": {},
   "source": [
    "**Changing the cost function from 'categorical_crossentropy' to 'categorical_hinge'**"
   ]
  },
  {
   "cell_type": "code",
   "execution_count": 40,
   "metadata": {},
   "outputs": [],
   "source": [
    "model = tf.keras.Sequential()\n",
    " #Must define the input shape in the first layer of the neural network\n",
    "    #layer 1\n",
    "model.add(tf.keras.layers.Conv2D(filters=64, kernel_size=2, padding='same', activation='relu', input_shape=(32,32,1),kernel_initializer ='glorot_uniform',bias_initializer ='glorot_uniform')) \n",
    "model.add(tf.keras.layers.MaxPooling2D(pool_size=2))\n",
    "model.add(tf.keras.layers.Dropout(0.3))\n",
    "    #layer 2\n",
    "model.add(tf.keras.layers.Conv2D(filters=32, kernel_size=2, padding='same', activation='relu',kernel_initializer ='glorot_uniform',bias_initializer ='glorot_uniform'))\n",
    "model.add(tf.keras.layers.MaxPooling2D(pool_size=2))\n",
    "model.add(tf.keras.layers.Dropout(0.3))\n",
    "    #flattenning the layer\n",
    "model.add(tf.keras.layers.Flatten())\n",
    "model.add(tf.keras.layers.Dropout(0.5))\n",
    "model.add(tf.keras.layers.Dense(6, activation='softmax'))"
   ]
  },
  {
   "cell_type": "code",
   "execution_count": 41,
   "metadata": {},
   "outputs": [],
   "source": [
    "model.compile(loss='categorical_hinge',\n",
    "             optimizer='adam',\n",
    "             metrics=['accuracy'])"
   ]
  },
  {
   "cell_type": "code",
   "execution_count": 42,
   "metadata": {},
   "outputs": [
    {
     "name": "stdout",
     "output_type": "stream",
     "text": [
      "WARNING:tensorflow:From C:\\Users\\jaina\\Anaconda3\\lib\\site-packages\\tensorflow\\python\\ops\\math_grad.py:102: div (from tensorflow.python.ops.math_ops) is deprecated and will be removed in a future version.\n",
      "Instructions for updating:\n",
      "Deprecated in favor of operator or tf.math.divide.\n",
      "Epoch 1/50\n",
      "25/25 [==============================] - 33s 1s/step - loss: 1.0563 - acc: 0.1863 - val_loss: 1.0045 - val_acc: 0.2751\n",
      "Epoch 2/50\n",
      "25/25 [==============================] - 33s 1s/step - loss: 1.0082 - acc: 0.2234 - val_loss: 1.0008 - val_acc: 0.2664\n",
      "Epoch 3/50\n",
      "25/25 [==============================] - 33s 1s/step - loss: 1.0019 - acc: 0.2585 - val_loss: 1.0002 - val_acc: 0.2533\n",
      "Epoch 4/50\n",
      "25/25 [==============================] - 33s 1s/step - loss: 1.0006 - acc: 0.2140 - val_loss: 1.0001 - val_acc: 0.2664\n",
      "Epoch 5/50\n",
      "25/25 [==============================] - 33s 1s/step - loss: 1.0002 - acc: 0.1889 - val_loss: 1.0001 - val_acc: 0.2795\n",
      "Epoch 6/50\n",
      "25/25 [==============================] - 33s 1s/step - loss: 1.0001 - acc: 0.1862 - val_loss: 1.0001 - val_acc: 0.2227\n",
      "Epoch 7/50\n",
      "25/25 [==============================] - 32s 1s/step - loss: 1.0001 - acc: 0.1832 - val_loss: 1.0001 - val_acc: 0.1223\n",
      "Epoch 8/50\n",
      "25/25 [==============================] - 33s 1s/step - loss: 1.0001 - acc: 0.1813 - val_loss: 1.0001 - val_acc: 0.1266\n",
      "Epoch 9/50\n",
      "25/25 [==============================] - 32s 1s/step - loss: 1.0001 - acc: 0.1786 - val_loss: 1.0000 - val_acc: 0.2227\n",
      "Epoch 10/50\n",
      "25/25 [==============================] - 32s 1s/step - loss: 1.0001 - acc: 0.1796 - val_loss: 1.0001 - val_acc: 0.1266\n",
      "Epoch 11/50\n",
      "25/25 [==============================] - 32s 1s/step - loss: 1.0001 - acc: 0.1827 - val_loss: 1.0000 - val_acc: 0.2227\n",
      "Epoch 12/50\n",
      "25/25 [==============================] - 33s 1s/step - loss: 1.0001 - acc: 0.1834 - val_loss: 1.0000 - val_acc: 0.2795\n",
      "Epoch 13/50\n",
      "25/25 [==============================] - 35s 1s/step - loss: 1.0001 - acc: 0.1796 - val_loss: 1.0001 - val_acc: 0.1354\n",
      "Epoch 14/50\n",
      "25/25 [==============================] - 36s 1s/step - loss: 1.0001 - acc: 0.1852 - val_loss: 1.0001 - val_acc: 0.2227\n",
      "Epoch 15/50\n",
      "25/25 [==============================] - 48s 2s/step - loss: 1.0000 - acc: 0.1789 - val_loss: 1.0000 - val_acc: 0.1310\n",
      "Epoch 16/50\n",
      "25/25 [==============================] - 38s 2s/step - loss: 1.0001 - acc: 0.1807 - val_loss: 1.0000 - val_acc: 0.2227\n",
      "Epoch 17/50\n",
      "25/25 [==============================] - 36s 1s/step - loss: 1.0001 - acc: 0.1787 - val_loss: 1.0000 - val_acc: 0.2795\n",
      "Epoch 18/50\n",
      "25/25 [==============================] - 34s 1s/step - loss: 1.0000 - acc: 0.1780 - val_loss: 1.0000 - val_acc: 0.1528\n",
      "Epoch 19/50\n",
      "25/25 [==============================] - 34s 1s/step - loss: 1.0000 - acc: 0.1824 - val_loss: 1.0001 - val_acc: 0.1266\n",
      "Epoch 20/50\n",
      "25/25 [==============================] - 36s 1s/step - loss: 1.0001 - acc: 0.1778 - val_loss: 1.0000 - val_acc: 0.1266\n",
      "Epoch 21/50\n",
      "25/25 [==============================] - 34s 1s/step - loss: 1.0000 - acc: 0.1752 - val_loss: 1.0000 - val_acc: 0.2227\n",
      "Epoch 22/50\n",
      "25/25 [==============================] - 35s 1s/step - loss: 1.0001 - acc: 0.1860 - val_loss: 1.0001 - val_acc: 0.2795\n",
      "Epoch 23/50\n",
      "25/25 [==============================] - 35s 1s/step - loss: 1.0001 - acc: 0.1826 - val_loss: 1.0000 - val_acc: 0.1223\n",
      "Epoch 24/50\n",
      "25/25 [==============================] - 32s 1s/step - loss: 1.0001 - acc: 0.1798 - val_loss: 1.0000 - val_acc: 0.2227\n",
      "Epoch 25/50\n",
      "25/25 [==============================] - 33s 1s/step - loss: 1.0000 - acc: 0.1810 - val_loss: 1.0001 - val_acc: 0.1354\n",
      "Epoch 26/50\n",
      "25/25 [==============================] - 44s 2s/step - loss: 1.0000 - acc: 0.1773 - val_loss: 1.0000 - val_acc: 0.2795\n",
      "Epoch 27/50\n",
      "25/25 [==============================] - 44s 2s/step - loss: 1.0001 - acc: 0.1800 - val_loss: 1.0000 - val_acc: 0.1354\n",
      "Epoch 28/50\n",
      "25/25 [==============================] - 34s 1s/step - loss: 1.0001 - acc: 0.1787 - val_loss: 1.0001 - val_acc: 0.1266\n",
      "Epoch 29/50\n",
      "25/25 [==============================] - 35s 1s/step - loss: 1.0001 - acc: 0.1776 - val_loss: 1.0001 - val_acc: 0.2227\n",
      "Epoch 30/50\n",
      "25/25 [==============================] - 36s 1s/step - loss: 1.0001 - acc: 0.1837 - val_loss: 1.0000 - val_acc: 0.1223\n",
      "Epoch 31/50\n",
      "25/25 [==============================] - 32s 1s/step - loss: 1.0000 - acc: 0.1794 - val_loss: 1.0001 - val_acc: 0.1135\n",
      "Epoch 32/50\n",
      "25/25 [==============================] - 34s 1s/step - loss: 1.0000 - acc: 0.1790 - val_loss: 1.0000 - val_acc: 0.2795\n",
      "Epoch 33/50\n",
      "25/25 [==============================] - 36s 1s/step - loss: 1.0000 - acc: 0.1793 - val_loss: 1.0000 - val_acc: 0.1223\n",
      "Epoch 34/50\n",
      "25/25 [==============================] - 41s 2s/step - loss: 1.0000 - acc: 0.1758 - val_loss: 1.0000 - val_acc: 0.2795\n",
      "Epoch 35/50\n",
      "25/25 [==============================] - 37s 1s/step - loss: 1.0000 - acc: 0.1771 - val_loss: 1.0000 - val_acc: 0.1223\n",
      "Epoch 36/50\n",
      "25/25 [==============================] - 34s 1s/step - loss: 1.0000 - acc: 0.1772 - val_loss: 1.0001 - val_acc: 0.2227\n",
      "Epoch 37/50\n",
      "25/25 [==============================] - 32s 1s/step - loss: 1.0000 - acc: 0.1799 - val_loss: 1.0000 - val_acc: 0.2664\n",
      "Epoch 38/50\n",
      "25/25 [==============================] - 38s 2s/step - loss: 1.0000 - acc: 0.1825 - val_loss: 1.0001 - val_acc: 0.1354\n",
      "Epoch 39/50\n",
      "25/25 [==============================] - 36s 1s/step - loss: 1.0000 - acc: 0.1791 - val_loss: 1.0000 - val_acc: 0.2227\n",
      "Epoch 40/50\n",
      "25/25 [==============================] - 38s 2s/step - loss: 1.0000 - acc: 0.1763 - val_loss: 1.0001 - val_acc: 0.2227\n",
      "Epoch 41/50\n",
      "25/25 [==============================] - 38s 2s/step - loss: 1.0001 - acc: 0.1815 - val_loss: 1.0000 - val_acc: 0.2227\n",
      "Epoch 42/50\n",
      "25/25 [==============================] - 39s 2s/step - loss: 1.0000 - acc: 0.1759 - val_loss: 1.0000 - val_acc: 0.1135\n",
      "Epoch 43/50\n",
      "25/25 [==============================] - 39s 2s/step - loss: 1.0001 - acc: 0.1780 - val_loss: 1.0001 - val_acc: 0.2795\n",
      "Epoch 44/50\n",
      "25/25 [==============================] - 37s 1s/step - loss: 1.0000 - acc: 0.1861 - val_loss: 1.0000 - val_acc: 0.1354\n",
      "Epoch 45/50\n",
      "25/25 [==============================] - 33s 1s/step - loss: 1.0000 - acc: 0.1747 - val_loss: 1.0000 - val_acc: 0.1266\n",
      "Epoch 46/50\n",
      "25/25 [==============================] - 32s 1s/step - loss: 1.0000 - acc: 0.1779 - val_loss: 1.0000 - val_acc: 0.2795\n",
      "Epoch 47/50\n",
      "25/25 [==============================] - 33s 1s/step - loss: 1.0000 - acc: 0.1811 - val_loss: 1.0000 - val_acc: 0.2227\n",
      "Epoch 48/50\n",
      "25/25 [==============================] - 33s 1s/step - loss: 1.0000 - acc: 0.1830 - val_loss: 1.0000 - val_acc: 0.2271\n",
      "Epoch 49/50\n",
      "25/25 [==============================] - 32s 1s/step - loss: 1.0000 - acc: 0.1814 - val_loss: 1.0001 - val_acc: 0.1135\n",
      "Epoch 50/50\n",
      "25/25 [==============================] - 33s 1s/step - loss: 1.0000 - acc: 0.1767 - val_loss: 1.0000 - val_acc: 0.1354\n"
     ]
    }
   ],
   "source": [
    "history5=model.fit(X_train,\n",
    "         y_train,\n",
    "          batch_size=64,\n",
    "         steps_per_epoch=25,\n",
    "        validation_data=(X_test,y_test),\n",
    "         epochs=50)"
   ]
  },
  {
   "cell_type": "code",
   "execution_count": 43,
   "metadata": {},
   "outputs": [
    {
     "name": "stdout",
     "output_type": "stream",
     "text": [
      "\n",
      " Test accuracy: 0.13537118\n"
     ]
    }
   ],
   "source": [
    "# Evaluate the model on test set\n",
    "score = model.evaluate(X_test, y_test, verbose=0)\n",
    "# Print test accuracy\n",
    "print('\\n', 'Test accuracy:', score[1])"
   ]
  },
  {
   "cell_type": "code",
   "execution_count": 44,
   "metadata": {},
   "outputs": [
    {
     "data": {
      "image/png": "[encoded data removed]",
      "text/plain": [
       "<matplotlib.figure.Figure at 0x22f32ed02e8>"
      ]
     },
     "metadata": {},
     "output_type": "display_data"
    }
   ],
   "source": [
    "train_test_plot(history5,50)"
   ]
  },
  {
   "cell_type": "markdown",
   "metadata": {},
   "source": [
    "**The network plateaus after 5 epochs with a accuracy of 0.2795**"
   ]
  },
  {
   "cell_type": "markdown",
   "metadata": {},
   "source": [
    "**Changing the cost function from 'categorical_crossentropy' to 'categorical_hinge' reduces the accuracy from 0.77 to 0.13**"
   ]
  },
  {
   "cell_type": "markdown",
   "metadata": {},
   "source": [
    "**Changing the cost function from 'categorical_crossentropy' to 'cosine_proximity'**"
   ]
  },
  {
   "cell_type": "code",
   "execution_count": 45,
   "metadata": {},
   "outputs": [],
   "source": [
    "model = tf.keras.Sequential()\n",
    " #Must define the input shape in the first layer of the neural network\n",
    "    #layer 1\n",
    "model.add(tf.keras.layers.Conv2D(filters=64, kernel_size=2, padding='same', activation='relu', input_shape=(32,32,1),kernel_initializer ='glorot_uniform',bias_initializer ='glorot_uniform')) \n",
    "model.add(tf.keras.layers.MaxPooling2D(pool_size=2))\n",
    "model.add(tf.keras.layers.Dropout(0.3))\n",
    "    #layer 2\n",
    "model.add(tf.keras.layers.Conv2D(filters=32, kernel_size=2, padding='same', activation='relu',kernel_initializer ='glorot_uniform',bias_initializer ='glorot_uniform'))\n",
    "model.add(tf.keras.layers.MaxPooling2D(pool_size=2))\n",
    "model.add(tf.keras.layers.Dropout(0.3))\n",
    "    #flattening the layer\n",
    "model.add(tf.keras.layers.Flatten())\n",
    "model.add(tf.keras.layers.Dropout(0.5))\n",
    "model.add(tf.keras.layers.Dense(6, activation='softmax'))"
   ]
  },
  {
   "cell_type": "code",
   "execution_count": 46,
   "metadata": {},
   "outputs": [],
   "source": [
    "model.compile(loss='cosine_proximity',\n",
    "             optimizer='adam',\n",
    "             metrics=['accuracy'])"
   ]
  },
  {
   "cell_type": "code",
   "execution_count": 47,
   "metadata": {},
   "outputs": [
    {
     "name": "stdout",
     "output_type": "stream",
     "text": [
      "Epoch 1/50\n",
      "25/25 [==============================] - 33s 1s/step - loss: -0.4149 - acc: 0.2271 - val_loss: -0.4387 - val_acc: 0.3886\n",
      "Epoch 2/50\n",
      "25/25 [==============================] - 33s 1s/step - loss: -0.4888 - acc: 0.3735 - val_loss: -0.5618 - val_acc: 0.5284\n",
      "Epoch 3/50\n",
      "25/25 [==============================] - 33s 1s/step - loss: -0.5993 - acc: 0.5264 - val_loss: -0.6307 - val_acc: 0.5677\n",
      "Epoch 4/50\n",
      "25/25 [==============================] - 33s 1s/step - loss: -0.6536 - acc: 0.5950 - val_loss: -0.6638 - val_acc: 0.5895\n",
      "Epoch 5/50\n",
      "25/25 [==============================] - 33s 1s/step - loss: -0.6880 - acc: 0.6365 - val_loss: -0.6896 - val_acc: 0.5939\n",
      "Epoch 6/50\n",
      "25/25 [==============================] - 33s 1s/step - loss: -0.7154 - acc: 0.6719 - val_loss: -0.7061 - val_acc: 0.6332\n",
      "Epoch 7/50\n",
      "25/25 [==============================] - 33s 1s/step - loss: -0.7381 - acc: 0.6995 - val_loss: -0.7164 - val_acc: 0.6594\n",
      "Epoch 8/50\n",
      "25/25 [==============================] - 33s 1s/step - loss: -0.7576 - acc: 0.7211 - val_loss: -0.7256 - val_acc: 0.6681\n",
      "Epoch 9/50\n",
      "25/25 [==============================] - 33s 1s/step - loss: -0.7757 - acc: 0.7470 - val_loss: -0.7420 - val_acc: 0.6812\n",
      "Epoch 10/50\n",
      "25/25 [==============================] - 32s 1s/step - loss: -0.7905 - acc: 0.7644 - val_loss: -0.7507 - val_acc: 0.6987\n",
      "Epoch 11/50\n",
      "25/25 [==============================] - 33s 1s/step - loss: -0.8073 - acc: 0.7861 - val_loss: -0.7686 - val_acc: 0.7074\n",
      "Epoch 12/50\n",
      "25/25 [==============================] - 32s 1s/step - loss: -0.8233 - acc: 0.8073 - val_loss: -0.7776 - val_acc: 0.7249\n",
      "Epoch 13/50\n",
      "25/25 [==============================] - 33s 1s/step - loss: -0.8333 - acc: 0.8165 - val_loss: -0.7863 - val_acc: 0.7424\n",
      "Epoch 14/50\n",
      "25/25 [==============================] - 32s 1s/step - loss: -0.8442 - acc: 0.8315 - val_loss: -0.7955 - val_acc: 0.7467\n",
      "Epoch 15/50\n",
      "25/25 [==============================] - 33s 1s/step - loss: -0.8533 - acc: 0.8391 - val_loss: -0.8040 - val_acc: 0.7598\n",
      "Epoch 16/50\n",
      "25/25 [==============================] - 32s 1s/step - loss: -0.8617 - acc: 0.8502 - val_loss: -0.8074 - val_acc: 0.7729\n",
      "Epoch 17/50\n",
      "25/25 [==============================] - 33s 1s/step - loss: -0.8693 - acc: 0.8596 - val_loss: -0.8102 - val_acc: 0.7773\n",
      "Epoch 18/50\n",
      "25/25 [==============================] - 33s 1s/step - loss: -0.8702 - acc: 0.8594 - val_loss: -0.8162 - val_acc: 0.7948\n",
      "Epoch 19/50\n",
      "25/25 [==============================] - 33s 1s/step - loss: -0.8792 - acc: 0.8697 - val_loss: -0.8181 - val_acc: 0.7948\n",
      "Epoch 20/50\n",
      "25/25 [==============================] - 34s 1s/step - loss: -0.8812 - acc: 0.8724 - val_loss: -0.8217 - val_acc: 0.7948\n",
      "Epoch 21/50\n",
      "25/25 [==============================] - 38s 2s/step - loss: -0.8872 - acc: 0.8779 - val_loss: -0.8222 - val_acc: 0.7817\n",
      "Epoch 22/50\n",
      "25/25 [==============================] - 33s 1s/step - loss: -0.8919 - acc: 0.8835 - val_loss: -0.8255 - val_acc: 0.8035\n",
      "Epoch 23/50\n",
      "25/25 [==============================] - 35s 1s/step - loss: -0.8939 - acc: 0.8860 - val_loss: -0.8306 - val_acc: 0.8035\n",
      "Epoch 24/50\n",
      "25/25 [==============================] - 34s 1s/step - loss: -0.8966 - acc: 0.8881 - val_loss: -0.8311 - val_acc: 0.8035\n",
      "Epoch 25/50\n",
      "25/25 [==============================] - 32s 1s/step - loss: -0.9010 - acc: 0.8928 - val_loss: -0.8330 - val_acc: 0.8122\n",
      "Epoch 26/50\n",
      "25/25 [==============================] - 32s 1s/step - loss: -0.9039 - acc: 0.8973 - val_loss: -0.8300 - val_acc: 0.7904\n",
      "Epoch 27/50\n",
      "25/25 [==============================] - 32s 1s/step - loss: -0.9057 - acc: 0.8983 - val_loss: -0.8341 - val_acc: 0.8035\n",
      "Epoch 28/50\n",
      "25/25 [==============================] - 32s 1s/step - loss: -0.9084 - acc: 0.9008 - val_loss: -0.8335 - val_acc: 0.8035\n",
      "Epoch 29/50\n",
      "25/25 [==============================] - 32s 1s/step - loss: -0.9117 - acc: 0.9055 - val_loss: -0.8354 - val_acc: 0.7948\n",
      "Epoch 30/50\n",
      "25/25 [==============================] - 32s 1s/step - loss: -0.9141 - acc: 0.9056 - val_loss: -0.8333 - val_acc: 0.7991\n",
      "Epoch 31/50\n",
      "25/25 [==============================] - 33s 1s/step - loss: -0.9167 - acc: 0.9104 - val_loss: -0.8375 - val_acc: 0.7948\n",
      "Epoch 32/50\n",
      "25/25 [==============================] - 32s 1s/step - loss: -0.9181 - acc: 0.9101 - val_loss: -0.8355 - val_acc: 0.7948\n",
      "Epoch 33/50\n",
      "25/25 [==============================] - 32s 1s/step - loss: -0.9205 - acc: 0.9142 - val_loss: -0.8373 - val_acc: 0.7991\n",
      "Epoch 34/50\n",
      "25/25 [==============================] - 32s 1s/step - loss: -0.9200 - acc: 0.9138 - val_loss: -0.8368 - val_acc: 0.7904\n",
      "Epoch 35/50\n",
      "25/25 [==============================] - 32s 1s/step - loss: -0.9237 - acc: 0.9176 - val_loss: -0.8399 - val_acc: 0.8122\n",
      "Epoch 36/50\n",
      "25/25 [==============================] - 32s 1s/step - loss: -0.9275 - acc: 0.9216 - val_loss: -0.8413 - val_acc: 0.8035\n",
      "Epoch 37/50\n",
      "25/25 [==============================] - 32s 1s/step - loss: -0.9295 - acc: 0.9239 - val_loss: -0.8395 - val_acc: 0.8210\n",
      "Epoch 38/50\n",
      "25/25 [==============================] - 32s 1s/step - loss: -0.9308 - acc: 0.9268 - val_loss: -0.8377 - val_acc: 0.8035\n",
      "Epoch 39/50\n",
      "25/25 [==============================] - 32s 1s/step - loss: -0.9313 - acc: 0.9255 - val_loss: -0.8409 - val_acc: 0.8122\n",
      "Epoch 40/50\n",
      "25/25 [==============================] - 32s 1s/step - loss: -0.9352 - acc: 0.9316 - val_loss: -0.8396 - val_acc: 0.8079\n",
      "Epoch 41/50\n",
      "25/25 [==============================] - 32s 1s/step - loss: -0.9351 - acc: 0.9305 - val_loss: -0.8424 - val_acc: 0.8122\n",
      "Epoch 42/50\n",
      "25/25 [==============================] - 32s 1s/step - loss: -0.9372 - acc: 0.9331 - val_loss: -0.8415 - val_acc: 0.8035\n",
      "Epoch 43/50\n",
      "25/25 [==============================] - 32s 1s/step - loss: -0.9371 - acc: 0.9320 - val_loss: -0.8426 - val_acc: 0.8166\n",
      "Epoch 44/50\n",
      "25/25 [==============================] - 32s 1s/step - loss: -0.9382 - acc: 0.9333 - val_loss: -0.8396 - val_acc: 0.8035\n",
      "Epoch 45/50\n",
      "25/25 [==============================] - 38s 2s/step - loss: -0.9391 - acc: 0.9350 - val_loss: -0.8399 - val_acc: 0.7904\n",
      "Epoch 46/50\n",
      "25/25 [==============================] - 32s 1s/step - loss: -0.9407 - acc: 0.9365 - val_loss: -0.8438 - val_acc: 0.8122\n",
      "Epoch 47/50\n",
      "25/25 [==============================] - 33s 1s/step - loss: -0.9438 - acc: 0.9387 - val_loss: -0.8417 - val_acc: 0.8035\n",
      "Epoch 48/50\n",
      "25/25 [==============================] - 35s 1s/step - loss: -0.9412 - acc: 0.9359 - val_loss: -0.8415 - val_acc: 0.8079\n",
      "Epoch 49/50\n",
      "25/25 [==============================] - 35s 1s/step - loss: -0.9418 - acc: 0.9371 - val_loss: -0.8402 - val_acc: 0.8122\n",
      "Epoch 50/50\n",
      "25/25 [==============================] - 36s 1s/step - loss: -0.9435 - acc: 0.9401 - val_loss: -0.8407 - val_acc: 0.8079\n"
     ]
    }
   ],
   "source": [
    "history6=model.fit(X_train,\n",
    "         y_train,\n",
    "          batch_size=64,\n",
    "         steps_per_epoch=25,\n",
    "        validation_data=(X_test,y_test),\n",
    "         epochs=50)"
   ]
  },
  {
   "cell_type": "code",
   "execution_count": 48,
   "metadata": {},
   "outputs": [
    {
     "name": "stdout",
     "output_type": "stream",
     "text": [
      "\n",
      " Test accuracy: 0.80786026\n"
     ]
    }
   ],
   "source": [
    "# Evaluate the model on test set\n",
    "score = model.evaluate(X_test, y_test, verbose=0)\n",
    "# Print test accuracy\n",
    "print('\\n', 'Test accuracy:', score[1])"
   ]
  },
  {
   "cell_type": "code",
   "execution_count": 49,
   "metadata": {},
   "outputs": [
    {
     "data": {
      "image/png": "[encoded data removed]",
      "text/plain": [
       "<matplotlib.figure.Figure at 0x22f34798908>"
      ]
     },
     "metadata": {},
     "output_type": "display_data"
    }
   ],
   "source": [
    "train_test_plot(history6,50)"
   ]
  },
  {
   "cell_type": "markdown",
   "metadata": {},
   "source": [
    "**The network plateaus after epoch 25 with an accuracy of 0.81**"
   ]
  },
  {
   "cell_type": "markdown",
   "metadata": {},
   "source": [
    "**Changing the cost function from 'categorical_crossentropy' to 'cosine_proximity' increases the accuracy from 0.77 to 0.80**"
   ]
  },
  {
   "cell_type": "markdown",
   "metadata": {},
   "source": [
    "### PART C SUMMARY\n",
    "**mean_squared_error- 0.77**\n",
    "\n",
    "**categorical_hinge- 0.13**\n",
    "\n",
    "**cosine_proximity- 0.80**"
   ]
  },
  {
   "cell_type": "markdown",
   "metadata": {},
   "source": [
    "# PART D - EPOCHS"
   ]
  },
  {
   "cell_type": "markdown",
   "metadata": {},
   "source": [
    "**Changing the number of epochs from 50 to 75**"
   ]
  },
  {
   "cell_type": "code",
   "execution_count": 50,
   "metadata": {},
   "outputs": [],
   "source": [
    "model = tf.keras.Sequential()\n",
    " #Must define the input shape in the first layer of the neural network\n",
    "model.add(tf.keras.layers.Conv2D(filters=64, kernel_size=2, padding='same', activation='relu', input_shape=(32,32,1),kernel_initializer ='glorot_uniform',bias_initializer ='glorot_uniform')) \n",
    "model.add(tf.keras.layers.MaxPooling2D(pool_size=2))\n",
    "model.add(tf.keras.layers.Dropout(0.3))\n",
    "model.add(tf.keras.layers.Conv2D(filters=32, kernel_size=2, padding='same', activation='relu',kernel_initializer ='glorot_uniform',bias_initializer ='glorot_uniform'))\n",
    "model.add(tf.keras.layers.MaxPooling2D(pool_size=2))\n",
    "model.add(tf.keras.layers.Dropout(0.3))\n",
    "model.add(tf.keras.layers.Flatten())\n",
    "model.add(tf.keras.layers.Dropout(0.5))\n",
    "model.add(tf.keras.layers.Dense(6, activation='softmax'))"
   ]
  },
  {
   "cell_type": "code",
   "execution_count": 51,
   "metadata": {},
   "outputs": [],
   "source": [
    "model.compile(loss='categorical_crossentropy',\n",
    "             optimizer='adam',\n",
    "             metrics=['accuracy'])"
   ]
  },
  {
   "cell_type": "code",
   "execution_count": 52,
   "metadata": {},
   "outputs": [
    {
     "name": "stdout",
     "output_type": "stream",
     "text": [
      "Epoch 1/75\n",
      "25/25 [==============================] - 36s 1s/step - loss: 1.8034 - acc: 0.2097 - val_loss: 1.7158 - val_acc: 0.2882\n",
      "Epoch 2/75\n",
      "25/25 [==============================] - 34s 1s/step - loss: 1.6206 - acc: 0.3264 - val_loss: 1.4653 - val_acc: 0.5109\n",
      "Epoch 3/75\n",
      "25/25 [==============================] - 32s 1s/step - loss: 1.3630 - acc: 0.4775 - val_loss: 1.2819 - val_acc: 0.5328\n",
      "Epoch 4/75\n",
      "25/25 [==============================] - 42s 2s/step - loss: 1.2195 - acc: 0.5484 - val_loss: 1.1729 - val_acc: 0.5721\n",
      "Epoch 5/75\n",
      "25/25 [==============================] - 37s 1s/step - loss: 1.1101 - acc: 0.5941 - val_loss: 1.0798 - val_acc: 0.5983\n",
      "Epoch 6/75\n",
      "25/25 [==============================] - 32s 1s/step - loss: 1.0124 - acc: 0.6318 - val_loss: 1.0041 - val_acc: 0.6376\n",
      "Epoch 7/75\n",
      "25/25 [==============================] - 34s 1s/step - loss: 0.9306 - acc: 0.6631 - val_loss: 0.9464 - val_acc: 0.6725\n",
      "Epoch 8/75\n",
      "25/25 [==============================] - 35s 1s/step - loss: 0.8665 - acc: 0.6876 - val_loss: 0.8797 - val_acc: 0.7031\n",
      "Epoch 9/75\n",
      "25/25 [==============================] - 40s 2s/step - loss: 0.8040 - acc: 0.7146 - val_loss: 0.8302 - val_acc: 0.7118\n",
      "Epoch 10/75\n",
      "25/25 [==============================] - 35s 1s/step - loss: 0.7453 - acc: 0.7307 - val_loss: 0.7818 - val_acc: 0.7336\n",
      "Epoch 11/75\n",
      "25/25 [==============================] - 36s 1s/step - loss: 0.6968 - acc: 0.7540 - val_loss: 0.7514 - val_acc: 0.7467\n",
      "Epoch 12/75\n",
      "25/25 [==============================] - 33s 1s/step - loss: 0.6568 - acc: 0.7657 - val_loss: 0.7218 - val_acc: 0.7467\n",
      "Epoch 13/75\n",
      "25/25 [==============================] - 32s 1s/step - loss: 0.6194 - acc: 0.7825 - val_loss: 0.7058 - val_acc: 0.7380\n",
      "Epoch 14/75\n",
      "25/25 [==============================] - 32s 1s/step - loss: 0.5894 - acc: 0.7917 - val_loss: 0.6830 - val_acc: 0.7555\n",
      "Epoch 15/75\n",
      "25/25 [==============================] - 33s 1s/step - loss: 0.5643 - acc: 0.8000 - val_loss: 0.6609 - val_acc: 0.7729\n",
      "Epoch 16/75\n",
      "25/25 [==============================] - 33s 1s/step - loss: 0.5397 - acc: 0.8101 - val_loss: 0.6592 - val_acc: 0.7598\n",
      "Epoch 17/75\n",
      "25/25 [==============================] - 32s 1s/step - loss: 0.5206 - acc: 0.8141 - val_loss: 0.6369 - val_acc: 0.7642\n",
      "Epoch 18/75\n",
      "25/25 [==============================] - 34s 1s/step - loss: 0.4947 - acc: 0.8253 - val_loss: 0.6238 - val_acc: 0.7686\n",
      "Epoch 19/75\n",
      "25/25 [==============================] - 33s 1s/step - loss: 0.4796 - acc: 0.8303 - val_loss: 0.6270 - val_acc: 0.7686\n",
      "Epoch 20/75\n",
      "25/25 [==============================] - 35s 1s/step - loss: 0.4502 - acc: 0.8424 - val_loss: 0.6121 - val_acc: 0.7686\n",
      "Epoch 21/75\n",
      "25/25 [==============================] - 32s 1s/step - loss: 0.4375 - acc: 0.8432 - val_loss: 0.6023 - val_acc: 0.7686\n",
      "Epoch 22/75\n",
      "25/25 [==============================] - 33s 1s/step - loss: 0.4123 - acc: 0.8528 - val_loss: 0.5994 - val_acc: 0.7729\n",
      "Epoch 23/75\n",
      "25/25 [==============================] - 34s 1s/step - loss: 0.3953 - acc: 0.8603 - val_loss: 0.5968 - val_acc: 0.7686\n",
      "Epoch 24/75\n",
      "25/25 [==============================] - 34s 1s/step - loss: 0.3855 - acc: 0.8638 - val_loss: 0.5967 - val_acc: 0.7817\n",
      "Epoch 25/75\n",
      "25/25 [==============================] - 32s 1s/step - loss: 0.3655 - acc: 0.8694 - val_loss: 0.5974 - val_acc: 0.7817\n",
      "Epoch 26/75\n",
      "25/25 [==============================] - 35s 1s/step - loss: 0.3548 - acc: 0.8745 - val_loss: 0.5897 - val_acc: 0.7860\n",
      "Epoch 27/75\n",
      "25/25 [==============================] - 35s 1s/step - loss: 0.3372 - acc: 0.8800 - val_loss: 0.5800 - val_acc: 0.7860\n",
      "Epoch 28/75\n",
      "25/25 [==============================] - 34s 1s/step - loss: 0.3339 - acc: 0.8810 - val_loss: 0.5724 - val_acc: 0.7817\n",
      "Epoch 29/75\n",
      "25/25 [==============================] - 33s 1s/step - loss: 0.3151 - acc: 0.8872 - val_loss: 0.5725 - val_acc: 0.7860\n",
      "Epoch 30/75\n",
      "25/25 [==============================] - 32s 1s/step - loss: 0.3161 - acc: 0.8868 - val_loss: 0.5639 - val_acc: 0.7991\n",
      "Epoch 31/75\n",
      "25/25 [==============================] - 35s 1s/step - loss: 0.3066 - acc: 0.8922 - val_loss: 0.5649 - val_acc: 0.7991\n",
      "Epoch 32/75\n",
      "25/25 [==============================] - 34s 1s/step - loss: 0.2981 - acc: 0.8940 - val_loss: 0.5823 - val_acc: 0.7948\n",
      "Epoch 33/75\n",
      "25/25 [==============================] - 35s 1s/step - loss: 0.2928 - acc: 0.8959 - val_loss: 0.5633 - val_acc: 0.7948\n",
      "Epoch 34/75\n",
      "25/25 [==============================] - 33s 1s/step - loss: 0.2848 - acc: 0.9001 - val_loss: 0.5652 - val_acc: 0.7904\n",
      "Epoch 35/75\n",
      "25/25 [==============================] - 34s 1s/step - loss: 0.2806 - acc: 0.9009 - val_loss: 0.5637 - val_acc: 0.7948\n",
      "Epoch 36/75\n",
      "25/25 [==============================] - 34s 1s/step - loss: 0.2732 - acc: 0.9027 - val_loss: 0.5739 - val_acc: 0.7948\n",
      "Epoch 37/75\n",
      "25/25 [==============================] - 32s 1s/step - loss: 0.2665 - acc: 0.9066 - val_loss: 0.5731 - val_acc: 0.7904\n",
      "Epoch 38/75\n",
      "25/25 [==============================] - 32s 1s/step - loss: 0.2568 - acc: 0.9078 - val_loss: 0.5640 - val_acc: 0.7948\n",
      "Epoch 39/75\n",
      "25/25 [==============================] - 32s 1s/step - loss: 0.2577 - acc: 0.9089 - val_loss: 0.5925 - val_acc: 0.7991\n",
      "Epoch 40/75\n",
      "25/25 [==============================] - 32s 1s/step - loss: 0.2541 - acc: 0.9130 - val_loss: 0.5763 - val_acc: 0.7904\n",
      "Epoch 41/75\n",
      "25/25 [==============================] - 32s 1s/step - loss: 0.2483 - acc: 0.9123 - val_loss: 0.5719 - val_acc: 0.8035\n",
      "Epoch 42/75\n",
      "25/25 [==============================] - 33s 1s/step - loss: 0.2421 - acc: 0.9152 - val_loss: 0.5758 - val_acc: 0.7991\n",
      "Epoch 43/75\n",
      "25/25 [==============================] - 33s 1s/step - loss: 0.2378 - acc: 0.9161 - val_loss: 0.5813 - val_acc: 0.7991\n",
      "Epoch 44/75\n",
      "25/25 [==============================] - 32s 1s/step - loss: 0.2354 - acc: 0.9175 - val_loss: 0.5965 - val_acc: 0.7904\n",
      "Epoch 45/75\n",
      "25/25 [==============================] - 32s 1s/step - loss: 0.2294 - acc: 0.9196 - val_loss: 0.5776 - val_acc: 0.7991\n",
      "Epoch 46/75\n",
      "25/25 [==============================] - 33s 1s/step - loss: 0.2269 - acc: 0.9203 - val_loss: 0.5675 - val_acc: 0.7948\n",
      "Epoch 47/75\n",
      "25/25 [==============================] - 32s 1s/step - loss: 0.2170 - acc: 0.9226 - val_loss: 0.5792 - val_acc: 0.7991\n",
      "Epoch 48/75\n",
      "25/25 [==============================] - 32s 1s/step - loss: 0.2207 - acc: 0.9212 - val_loss: 0.5706 - val_acc: 0.7948\n",
      "Epoch 49/75\n",
      "25/25 [==============================] - 32s 1s/step - loss: 0.2154 - acc: 0.9252 - val_loss: 0.5711 - val_acc: 0.7991\n",
      "Epoch 50/75\n",
      "25/25 [==============================] - 32s 1s/step - loss: 0.2146 - acc: 0.9230 - val_loss: 0.5695 - val_acc: 0.8035\n",
      "Epoch 51/75\n",
      "25/25 [==============================] - 32s 1s/step - loss: 0.2107 - acc: 0.9274 - val_loss: 0.5728 - val_acc: 0.8035\n",
      "Epoch 52/75\n",
      "25/25 [==============================] - 32s 1s/step - loss: 0.2025 - acc: 0.9292 - val_loss: 0.5785 - val_acc: 0.8035\n",
      "Epoch 53/75\n",
      "25/25 [==============================] - 32s 1s/step - loss: 0.2065 - acc: 0.9261 - val_loss: 0.5638 - val_acc: 0.7948\n",
      "Epoch 54/75\n",
      "25/25 [==============================] - 32s 1s/step - loss: 0.2052 - acc: 0.9289 - val_loss: 0.5807 - val_acc: 0.8035\n",
      "Epoch 55/75\n",
      "25/25 [==============================] - 32s 1s/step - loss: 0.1988 - acc: 0.9290 - val_loss: 0.5762 - val_acc: 0.8122\n",
      "Epoch 56/75\n",
      "25/25 [==============================] - 34s 1s/step - loss: 0.1971 - acc: 0.9315 - val_loss: 0.5670 - val_acc: 0.8035\n",
      "Epoch 57/75\n",
      "25/25 [==============================] - 33s 1s/step - loss: 0.1958 - acc: 0.9320 - val_loss: 0.5817 - val_acc: 0.8035\n",
      "Epoch 58/75\n",
      "25/25 [==============================] - 34s 1s/step - loss: 0.1927 - acc: 0.9315 - val_loss: 0.5683 - val_acc: 0.8035\n",
      "Epoch 59/75\n",
      "25/25 [==============================] - 35s 1s/step - loss: 0.1909 - acc: 0.9321 - val_loss: 0.5688 - val_acc: 0.8035\n",
      "Epoch 60/75\n",
      "25/25 [==============================] - 35s 1s/step - loss: 0.1921 - acc: 0.9335 - val_loss: 0.5665 - val_acc: 0.8035\n",
      "Epoch 61/75\n",
      "25/25 [==============================] - 34s 1s/step - loss: 0.1811 - acc: 0.9367 - val_loss: 0.5722 - val_acc: 0.8079\n",
      "Epoch 62/75\n",
      "25/25 [==============================] - 34s 1s/step - loss: 0.1857 - acc: 0.9338 - val_loss: 0.5736 - val_acc: 0.7948\n",
      "Epoch 63/75\n",
      "25/25 [==============================] - 32s 1s/step - loss: 0.1891 - acc: 0.9341 - val_loss: 0.5834 - val_acc: 0.7991\n",
      "Epoch 64/75\n",
      "25/25 [==============================] - 38s 2s/step - loss: 0.1802 - acc: 0.9368 - val_loss: 0.5844 - val_acc: 0.8035\n",
      "Epoch 65/75\n",
      "25/25 [==============================] - 34s 1s/step - loss: 0.1805 - acc: 0.9383 - val_loss: 0.5811 - val_acc: 0.8035\n",
      "Epoch 66/75\n",
      "25/25 [==============================] - 34s 1s/step - loss: 0.1769 - acc: 0.9377 - val_loss: 0.5668 - val_acc: 0.8035\n",
      "Epoch 67/75\n",
      "25/25 [==============================] - 33s 1s/step - loss: 0.1741 - acc: 0.9388 - val_loss: 0.5718 - val_acc: 0.8035\n",
      "Epoch 68/75\n",
      "25/25 [==============================] - 32s 1s/step - loss: 0.1711 - acc: 0.9401 - val_loss: 0.5795 - val_acc: 0.8035\n",
      "Epoch 69/75\n",
      "25/25 [==============================] - 34s 1s/step - loss: 0.1704 - acc: 0.9414 - val_loss: 0.5822 - val_acc: 0.8079\n",
      "Epoch 70/75\n",
      "25/25 [==============================] - 39s 2s/step - loss: 0.1690 - acc: 0.9423 - val_loss: 0.5856 - val_acc: 0.8079\n",
      "Epoch 71/75\n",
      "25/25 [==============================] - 33s 1s/step - loss: 0.1653 - acc: 0.9408 - val_loss: 0.5781 - val_acc: 0.8035\n",
      "Epoch 72/75\n",
      "25/25 [==============================] - 32s 1s/step - loss: 0.1730 - acc: 0.9403 - val_loss: 0.5752 - val_acc: 0.7991\n",
      "Epoch 73/75\n",
      "25/25 [==============================] - 32s 1s/step - loss: 0.1630 - acc: 0.9434 - val_loss: 0.6041 - val_acc: 0.8122\n",
      "Epoch 74/75\n",
      "25/25 [==============================] - 33s 1s/step - loss: 0.1657 - acc: 0.9412 - val_loss: 0.5827 - val_acc: 0.7991\n",
      "Epoch 75/75\n",
      "25/25 [==============================] - 34s 1s/step - loss: 0.1688 - acc: 0.9414 - val_loss: 0.5747 - val_acc: 0.8035\n"
     ]
    }
   ],
   "source": [
    "history7=model.fit(X_train,\n",
    "         y_train,\n",
    "          batch_size=64,\n",
    "         steps_per_epoch=25,\n",
    "          validation_data=(X_test,y_test),\n",
    "         epochs=75)"
   ]
  },
  {
   "cell_type": "code",
   "execution_count": 53,
   "metadata": {},
   "outputs": [
    {
     "name": "stdout",
     "output_type": "stream",
     "text": [
      "\n",
      " Test accuracy: 0.80349344\n"
     ]
    }
   ],
   "source": [
    "# Evaluate the model on test set\n",
    "score = model.evaluate(X_test, y_test, verbose=0)\n",
    "# Print test accuracy\n",
    "print('\\n', 'Test accuracy:', score[1])"
   ]
  },
  {
   "cell_type": "code",
   "execution_count": 54,
   "metadata": {},
   "outputs": [
    {
     "data": {
      "image/png": "[encoded data removed]",
      "text/plain": [
       "<matplotlib.figure.Figure at 0x22f33fc1dd8>"
      ]
     },
     "metadata": {},
     "output_type": "display_data"
    }
   ],
   "source": [
    "train_test_plot(history7,75)"
   ]
  },
  {
   "cell_type": "markdown",
   "metadata": {},
   "source": [
    "**The network starts to plateau after almost 30 epochs with a accuracy of about 0.79  **"
   ]
  },
  {
   "cell_type": "markdown",
   "metadata": {},
   "source": [
    "**Changing the epoch from 50 to 75 increases the accuracy from 0.77 to 0.80 **"
   ]
  },
  {
   "cell_type": "markdown",
   "metadata": {},
   "source": [
    "**Changing the number of epochs from 50 to 100**"
   ]
  },
  {
   "cell_type": "code",
   "execution_count": 55,
   "metadata": {},
   "outputs": [],
   "source": [
    "model = tf.keras.Sequential()\n",
    " #Must define the input shape in the first layer of the neural network\n",
    "    #layer 1\n",
    "model.add(tf.keras.layers.Conv2D(filters=64, kernel_size=2, padding='same', activation='relu', input_shape=(32,32,1),kernel_initializer ='glorot_uniform',bias_initializer ='glorot_uniform')) \n",
    "model.add(tf.keras.layers.MaxPooling2D(pool_size=2))\n",
    "model.add(tf.keras.layers.Dropout(0.3))\n",
    "    #layer 2\n",
    "model.add(tf.keras.layers.Conv2D(filters=32, kernel_size=2, padding='same', activation='relu',kernel_initializer ='glorot_uniform',bias_initializer ='glorot_uniform'))\n",
    "model.add(tf.keras.layers.MaxPooling2D(pool_size=2))\n",
    "model.add(tf.keras.layers.Dropout(0.3))\n",
    "    #flattening the layer\n",
    "model.add(tf.keras.layers.Flatten())\n",
    "model.add(tf.keras.layers.Dropout(0.5))\n",
    "model.add(tf.keras.layers.Dense(6, activation='softmax'))"
   ]
  },
  {
   "cell_type": "code",
   "execution_count": 56,
   "metadata": {},
   "outputs": [],
   "source": [
    "model.compile(loss='categorical_crossentropy',\n",
    "             optimizer='adam',\n",
    "             metrics=['accuracy'])"
   ]
  },
  {
   "cell_type": "code",
   "execution_count": 57,
   "metadata": {},
   "outputs": [
    {
     "name": "stdout",
     "output_type": "stream",
     "text": [
      "Epoch 1/100\n",
      "25/25 [==============================] - 34s 1s/step - loss: 1.8165 - acc: 0.2075 - val_loss: 1.7639 - val_acc: 0.3362\n",
      "Epoch 2/100\n",
      "25/25 [==============================] - 33s 1s/step - loss: 1.7040 - acc: 0.2666 - val_loss: 1.6065 - val_acc: 0.4716\n",
      "Epoch 3/100\n",
      "25/25 [==============================] - 32s 1s/step - loss: 1.4528 - acc: 0.4355 - val_loss: 1.2867 - val_acc: 0.5371\n",
      "Epoch 4/100\n",
      "25/25 [==============================] - 32s 1s/step - loss: 1.2590 - acc: 0.5344 - val_loss: 1.1958 - val_acc: 0.5590\n",
      "Epoch 5/100\n",
      "25/25 [==============================] - 32s 1s/step - loss: 1.1633 - acc: 0.5693 - val_loss: 1.1164 - val_acc: 0.5939\n",
      "Epoch 6/100\n",
      "25/25 [==============================] - 32s 1s/step - loss: 1.0789 - acc: 0.6041 - val_loss: 1.0503 - val_acc: 0.6245\n",
      "Epoch 7/100\n",
      "25/25 [==============================] - 32s 1s/step - loss: 0.9812 - acc: 0.6412 - val_loss: 0.9671 - val_acc: 0.6638\n",
      "Epoch 8/100\n",
      "25/25 [==============================] - 32s 1s/step - loss: 0.9028 - acc: 0.6717 - val_loss: 0.9125 - val_acc: 0.6725\n",
      "Epoch 9/100\n",
      "25/25 [==============================] - 36s 1s/step - loss: 0.8426 - acc: 0.6981 - val_loss: 0.8650 - val_acc: 0.6987\n",
      "Epoch 10/100\n",
      "25/25 [==============================] - 38s 2s/step - loss: 0.7827 - acc: 0.7215 - val_loss: 0.8276 - val_acc: 0.7118\n",
      "Epoch 11/100\n",
      "25/25 [==============================] - 32s 1s/step - loss: 0.7465 - acc: 0.7351 - val_loss: 0.7971 - val_acc: 0.7380\n",
      "Epoch 12/100\n",
      "25/25 [==============================] - 34s 1s/step - loss: 0.7014 - acc: 0.7507 - val_loss: 0.7718 - val_acc: 0.7293\n",
      "Epoch 13/100\n",
      "25/25 [==============================] - 37s 1s/step - loss: 0.6670 - acc: 0.7671 - val_loss: 0.7341 - val_acc: 0.7336\n",
      "Epoch 14/100\n",
      "25/25 [==============================] - 37s 1s/step - loss: 0.6223 - acc: 0.7839 - val_loss: 0.7081 - val_acc: 0.7555\n",
      "Epoch 15/100\n",
      "25/25 [==============================] - 35s 1s/step - loss: 0.5869 - acc: 0.7943 - val_loss: 0.6889 - val_acc: 0.7511\n",
      "Epoch 16/100\n",
      "25/25 [==============================] - 34s 1s/step - loss: 0.5478 - acc: 0.8088 - val_loss: 0.6576 - val_acc: 0.7598\n",
      "Epoch 17/100\n",
      "25/25 [==============================] - 33s 1s/step - loss: 0.5113 - acc: 0.8226 - val_loss: 0.6341 - val_acc: 0.7642\n",
      "Epoch 18/100\n",
      "25/25 [==============================] - 32s 1s/step - loss: 0.4890 - acc: 0.8299 - val_loss: 0.6190 - val_acc: 0.7642\n",
      "Epoch 19/100\n",
      "25/25 [==============================] - 32s 1s/step - loss: 0.4571 - acc: 0.8404 - val_loss: 0.6040 - val_acc: 0.7642\n",
      "Epoch 20/100\n",
      "25/25 [==============================] - 32s 1s/step - loss: 0.4292 - acc: 0.8487 - val_loss: 0.5910 - val_acc: 0.7686\n",
      "Epoch 21/100\n",
      "25/25 [==============================] - 35s 1s/step - loss: 0.4067 - acc: 0.8580 - val_loss: 0.5792 - val_acc: 0.7860\n",
      "Epoch 22/100\n",
      "25/25 [==============================] - 34s 1s/step - loss: 0.3881 - acc: 0.8637 - val_loss: 0.5680 - val_acc: 0.7773\n",
      "Epoch 23/100\n",
      "25/25 [==============================] - 44s 2s/step - loss: 0.3757 - acc: 0.8662 - val_loss: 0.5625 - val_acc: 0.8035\n",
      "Epoch 24/100\n",
      "25/25 [==============================] - 45s 2s/step - loss: 0.3551 - acc: 0.8761 - val_loss: 0.5618 - val_acc: 0.7991\n",
      "Epoch 25/100\n",
      "25/25 [==============================] - 45s 2s/step - loss: 0.3406 - acc: 0.8831 - val_loss: 0.5425 - val_acc: 0.8035\n",
      "Epoch 26/100\n",
      "25/25 [==============================] - 47s 2s/step - loss: 0.3194 - acc: 0.8899 - val_loss: 0.5477 - val_acc: 0.8035\n",
      "Epoch 27/100\n",
      "25/25 [==============================] - 49s 2s/step - loss: 0.3058 - acc: 0.8954 - val_loss: 0.5400 - val_acc: 0.7991\n",
      "Epoch 28/100\n",
      "25/25 [==============================] - 46s 2s/step - loss: 0.3060 - acc: 0.8917 - val_loss: 0.5350 - val_acc: 0.7904\n",
      "Epoch 29/100\n",
      "25/25 [==============================] - 43s 2s/step - loss: 0.2974 - acc: 0.8963 - val_loss: 0.5297 - val_acc: 0.8035\n",
      "Epoch 30/100\n",
      "25/25 [==============================] - 43s 2s/step - loss: 0.2874 - acc: 0.8994 - val_loss: 0.5306 - val_acc: 0.7991\n",
      "Epoch 31/100\n",
      "25/25 [==============================] - 44s 2s/step - loss: 0.2700 - acc: 0.9065 - val_loss: 0.5243 - val_acc: 0.7991\n",
      "Epoch 32/100\n",
      "25/25 [==============================] - 44s 2s/step - loss: 0.2636 - acc: 0.9076 - val_loss: 0.5241 - val_acc: 0.8122\n",
      "Epoch 33/100\n",
      "25/25 [==============================] - 44s 2s/step - loss: 0.2581 - acc: 0.9106 - val_loss: 0.5314 - val_acc: 0.8166\n",
      "Epoch 34/100\n",
      "25/25 [==============================] - 45s 2s/step - loss: 0.2590 - acc: 0.9085 - val_loss: 0.5412 - val_acc: 0.8079\n",
      "Epoch 35/100\n",
      "25/25 [==============================] - 45s 2s/step - loss: 0.2465 - acc: 0.9150 - val_loss: 0.5268 - val_acc: 0.8166\n",
      "Epoch 36/100\n",
      "25/25 [==============================] - 45s 2s/step - loss: 0.2436 - acc: 0.9153 - val_loss: 0.5249 - val_acc: 0.8122\n",
      "Epoch 37/100\n",
      "25/25 [==============================] - 45s 2s/step - loss: 0.2389 - acc: 0.9159 - val_loss: 0.5218 - val_acc: 0.8122\n",
      "Epoch 38/100\n",
      "25/25 [==============================] - 45s 2s/step - loss: 0.2303 - acc: 0.9189 - val_loss: 0.5351 - val_acc: 0.8122\n",
      "Epoch 39/100\n",
      "25/25 [==============================] - 45s 2s/step - loss: 0.2285 - acc: 0.9205 - val_loss: 0.5353 - val_acc: 0.8122\n",
      "Epoch 40/100\n",
      "25/25 [==============================] - 47s 2s/step - loss: 0.2210 - acc: 0.9222 - val_loss: 0.5143 - val_acc: 0.8253\n",
      "Epoch 41/100\n",
      "25/25 [==============================] - 44s 2s/step - loss: 0.2199 - acc: 0.9234 - val_loss: 0.5290 - val_acc: 0.8079\n",
      "Epoch 42/100\n",
      "25/25 [==============================] - 44s 2s/step - loss: 0.2168 - acc: 0.9232 - val_loss: 0.5171 - val_acc: 0.8122\n",
      "Epoch 43/100\n",
      "25/25 [==============================] - 44s 2s/step - loss: 0.2042 - acc: 0.9287 - val_loss: 0.5085 - val_acc: 0.8253\n",
      "Epoch 44/100\n",
      "25/25 [==============================] - 45s 2s/step - loss: 0.2105 - acc: 0.9255 - val_loss: 0.5135 - val_acc: 0.8297\n",
      "Epoch 45/100\n",
      "25/25 [==============================] - 45s 2s/step - loss: 0.2100 - acc: 0.9259 - val_loss: 0.5137 - val_acc: 0.8210\n",
      "Epoch 46/100\n",
      "25/25 [==============================] - 45s 2s/step - loss: 0.1964 - acc: 0.9313 - val_loss: 0.5065 - val_acc: 0.8297\n",
      "Epoch 47/100\n",
      "25/25 [==============================] - 43s 2s/step - loss: 0.1991 - acc: 0.9333 - val_loss: 0.5141 - val_acc: 0.8253\n",
      "Epoch 48/100\n",
      "25/25 [==============================] - 44s 2s/step - loss: 0.1942 - acc: 0.9304 - val_loss: 0.5019 - val_acc: 0.8297\n",
      "Epoch 49/100\n",
      "25/25 [==============================] - 44s 2s/step - loss: 0.1932 - acc: 0.9326 - val_loss: 0.5068 - val_acc: 0.8166\n",
      "Epoch 50/100\n",
      "25/25 [==============================] - 44s 2s/step - loss: 0.1858 - acc: 0.9345 - val_loss: 0.5034 - val_acc: 0.8428\n",
      "Epoch 51/100\n",
      "25/25 [==============================] - 44s 2s/step - loss: 0.1775 - acc: 0.9379 - val_loss: 0.5085 - val_acc: 0.8253\n",
      "Epoch 52/100\n",
      "25/25 [==============================] - 44s 2s/step - loss: 0.1816 - acc: 0.9347 - val_loss: 0.5084 - val_acc: 0.8253\n",
      "Epoch 53/100\n",
      "25/25 [==============================] - 45s 2s/step - loss: 0.1788 - acc: 0.9374 - val_loss: 0.5011 - val_acc: 0.8297\n",
      "Epoch 54/100\n",
      "25/25 [==============================] - 44s 2s/step - loss: 0.1785 - acc: 0.9383 - val_loss: 0.5053 - val_acc: 0.8297\n",
      "Epoch 55/100\n",
      "25/25 [==============================] - 44s 2s/step - loss: 0.1767 - acc: 0.9388 - val_loss: 0.5079 - val_acc: 0.8384\n",
      "Epoch 56/100\n",
      "25/25 [==============================] - 44s 2s/step - loss: 0.1718 - acc: 0.9408 - val_loss: 0.5071 - val_acc: 0.8297\n",
      "Epoch 57/100\n",
      "25/25 [==============================] - 44s 2s/step - loss: 0.1713 - acc: 0.9402 - val_loss: 0.5013 - val_acc: 0.8384\n",
      "Epoch 58/100\n",
      "25/25 [==============================] - 44s 2s/step - loss: 0.1737 - acc: 0.9391 - val_loss: 0.4988 - val_acc: 0.8428\n",
      "Epoch 59/100\n",
      "25/25 [==============================] - 44s 2s/step - loss: 0.1633 - acc: 0.9446 - val_loss: 0.5032 - val_acc: 0.8341\n",
      "Epoch 60/100\n",
      "25/25 [==============================] - 44s 2s/step - loss: 0.1627 - acc: 0.9429 - val_loss: 0.5017 - val_acc: 0.8341\n",
      "Epoch 61/100\n",
      "25/25 [==============================] - 44s 2s/step - loss: 0.1646 - acc: 0.9433 - val_loss: 0.4990 - val_acc: 0.8341\n",
      "Epoch 62/100\n",
      "25/25 [==============================] - 45s 2s/step - loss: 0.1600 - acc: 0.9461 - val_loss: 0.5119 - val_acc: 0.8253\n",
      "Epoch 63/100\n",
      "25/25 [==============================] - 44s 2s/step - loss: 0.1547 - acc: 0.9472 - val_loss: 0.5036 - val_acc: 0.8341\n",
      "Epoch 64/100\n",
      "25/25 [==============================] - 44s 2s/step - loss: 0.1542 - acc: 0.9478 - val_loss: 0.5147 - val_acc: 0.8384\n",
      "Epoch 65/100\n",
      "25/25 [==============================] - 45s 2s/step - loss: 0.1589 - acc: 0.9438 - val_loss: 0.5001 - val_acc: 0.8515\n",
      "Epoch 66/100\n",
      "25/25 [==============================] - 44s 2s/step - loss: 0.1567 - acc: 0.9450 - val_loss: 0.5012 - val_acc: 0.8428\n",
      "Epoch 67/100\n",
      "25/25 [==============================] - 44s 2s/step - loss: 0.1519 - acc: 0.9456 - val_loss: 0.5104 - val_acc: 0.8341\n",
      "Epoch 68/100\n",
      "25/25 [==============================] - 44s 2s/step - loss: 0.1475 - acc: 0.9487 - val_loss: 0.5066 - val_acc: 0.8341\n",
      "Epoch 69/100\n",
      "25/25 [==============================] - 44s 2s/step - loss: 0.1460 - acc: 0.9500 - val_loss: 0.5201 - val_acc: 0.8341\n",
      "Epoch 70/100\n",
      "25/25 [==============================] - 44s 2s/step - loss: 0.1481 - acc: 0.9473 - val_loss: 0.5091 - val_acc: 0.8428\n",
      "Epoch 71/100\n",
      "25/25 [==============================] - 44s 2s/step - loss: 0.1436 - acc: 0.9490 - val_loss: 0.5129 - val_acc: 0.8472\n",
      "Epoch 72/100\n",
      "25/25 [==============================] - 44s 2s/step - loss: 0.1508 - acc: 0.9483 - val_loss: 0.5073 - val_acc: 0.8428\n",
      "Epoch 73/100\n",
      "25/25 [==============================] - 44s 2s/step - loss: 0.1456 - acc: 0.9500 - val_loss: 0.5051 - val_acc: 0.8341\n",
      "Epoch 74/100\n",
      "25/25 [==============================] - 44s 2s/step - loss: 0.1442 - acc: 0.9497 - val_loss: 0.5324 - val_acc: 0.8297\n",
      "Epoch 75/100\n",
      "25/25 [==============================] - 44s 2s/step - loss: 0.1473 - acc: 0.9482 - val_loss: 0.5005 - val_acc: 0.8384\n",
      "Epoch 76/100\n",
      "25/25 [==============================] - 44s 2s/step - loss: 0.1440 - acc: 0.9507 - val_loss: 0.5065 - val_acc: 0.8341\n",
      "Epoch 77/100\n",
      "25/25 [==============================] - 44s 2s/step - loss: 0.1398 - acc: 0.9515 - val_loss: 0.5098 - val_acc: 0.8341\n",
      "Epoch 78/100\n",
      "25/25 [==============================] - 44s 2s/step - loss: 0.1372 - acc: 0.9535 - val_loss: 0.5107 - val_acc: 0.8384\n",
      "Epoch 79/100\n",
      "25/25 [==============================] - 44s 2s/step - loss: 0.1369 - acc: 0.9527 - val_loss: 0.5261 - val_acc: 0.8253\n",
      "Epoch 80/100\n",
      "25/25 [==============================] - 44s 2s/step - loss: 0.1365 - acc: 0.9522 - val_loss: 0.5164 - val_acc: 0.8384\n",
      "Epoch 81/100\n",
      "25/25 [==============================] - 44s 2s/step - loss: 0.1306 - acc: 0.9540 - val_loss: 0.5105 - val_acc: 0.8384\n",
      "Epoch 82/100\n",
      "25/25 [==============================] - 45s 2s/step - loss: 0.1284 - acc: 0.9561 - val_loss: 0.5157 - val_acc: 0.8384\n",
      "Epoch 83/100\n",
      "25/25 [==============================] - 44s 2s/step - loss: 0.1330 - acc: 0.9536 - val_loss: 0.5208 - val_acc: 0.8297\n",
      "Epoch 84/100\n",
      "25/25 [==============================] - 44s 2s/step - loss: 0.1322 - acc: 0.9539 - val_loss: 0.5124 - val_acc: 0.8341\n",
      "Epoch 85/100\n",
      "25/25 [==============================] - 44s 2s/step - loss: 0.1294 - acc: 0.9542 - val_loss: 0.5121 - val_acc: 0.8428\n",
      "Epoch 86/100\n",
      "25/25 [==============================] - 44s 2s/step - loss: 0.1251 - acc: 0.9558 - val_loss: 0.5015 - val_acc: 0.8384\n",
      "Epoch 87/100\n",
      "25/25 [==============================] - 44s 2s/step - loss: 0.1254 - acc: 0.9558 - val_loss: 0.5243 - val_acc: 0.8341\n",
      "Epoch 88/100\n",
      "25/25 [==============================] - 45s 2s/step - loss: 0.1236 - acc: 0.9572 - val_loss: 0.5097 - val_acc: 0.8428\n",
      "Epoch 89/100\n",
      "25/25 [==============================] - 44s 2s/step - loss: 0.1265 - acc: 0.9556 - val_loss: 0.5249 - val_acc: 0.8297\n",
      "Epoch 90/100\n",
      "25/25 [==============================] - 44s 2s/step - loss: 0.1192 - acc: 0.9582 - val_loss: 0.5236 - val_acc: 0.8341\n",
      "Epoch 91/100\n",
      "25/25 [==============================] - 44s 2s/step - loss: 0.1223 - acc: 0.9579 - val_loss: 0.5119 - val_acc: 0.8559\n",
      "Epoch 92/100\n",
      "25/25 [==============================] - 43s 2s/step - loss: 0.1202 - acc: 0.9585 - val_loss: 0.5118 - val_acc: 0.8428\n",
      "Epoch 93/100\n",
      "25/25 [==============================] - 44s 2s/step - loss: 0.1194 - acc: 0.9587 - val_loss: 0.5188 - val_acc: 0.8384\n",
      "Epoch 94/100\n",
      "25/25 [==============================] - 44s 2s/step - loss: 0.1258 - acc: 0.9568 - val_loss: 0.5200 - val_acc: 0.8341\n",
      "Epoch 95/100\n",
      "25/25 [==============================] - 44s 2s/step - loss: 0.1193 - acc: 0.9593 - val_loss: 0.5125 - val_acc: 0.8428\n",
      "Epoch 96/100\n",
      "25/25 [==============================] - 44s 2s/step - loss: 0.1165 - acc: 0.9599 - val_loss: 0.5244 - val_acc: 0.8472\n",
      "Epoch 97/100\n",
      "25/25 [==============================] - 44s 2s/step - loss: 0.1112 - acc: 0.9607 - val_loss: 0.5154 - val_acc: 0.8472\n",
      "Epoch 98/100\n",
      "25/25 [==============================] - 44s 2s/step - loss: 0.1165 - acc: 0.9593 - val_loss: 0.5079 - val_acc: 0.8428\n",
      "Epoch 99/100\n",
      "25/25 [==============================] - 44s 2s/step - loss: 0.1206 - acc: 0.9578 - val_loss: 0.5026 - val_acc: 0.8472\n",
      "Epoch 100/100\n",
      "25/25 [==============================] - 44s 2s/step - loss: 0.1141 - acc: 0.9604 - val_loss: 0.5025 - val_acc: 0.8603\n"
     ]
    }
   ],
   "source": [
    "history8=model.fit(X_train,\n",
    "         y_train,\n",
    "          batch_size=64,\n",
    "         steps_per_epoch=25,\n",
    "          validation_data=(X_test,y_test),\n",
    "         epochs=100)"
   ]
  },
  {
   "cell_type": "code",
   "execution_count": 58,
   "metadata": {},
   "outputs": [
    {
     "name": "stdout",
     "output_type": "stream",
     "text": [
      "\n",
      " Test accuracy: 0.86026204\n"
     ]
    }
   ],
   "source": [
    "# Evaluate the model on test set\n",
    "score = model.evaluate(X_test, y_test, verbose=0)\n",
    "# Print test accuracy\n",
    "print('\\n', 'Test accuracy:', score[1])"
   ]
  },
  {
   "cell_type": "code",
   "execution_count": 59,
   "metadata": {},
   "outputs": [
    {
     "data": {
      "image/png": "[encoded data removed]",
      "text/plain": [
       "<matplotlib.figure.Figure at 0x22f3476fb38>"
      ]
     },
     "metadata": {},
     "output_type": "display_data"
    }
   ],
   "source": [
    "train_test_plot(history8,100)"
   ]
  },
  {
   "cell_type": "markdown",
   "metadata": {},
   "source": [
    "**The network starts to plateau at 50 epoch with a accuracy of 0.85 **"
   ]
  },
  {
   "cell_type": "markdown",
   "metadata": {},
   "source": [
    "**Changing the epoch from 50 to 100 increases the accuracy from 0.77 to 0.86 **"
   ]
  },
  {
   "cell_type": "markdown",
   "metadata": {},
   "source": [
    "### PART D SUMMARY\n",
    "**epochs 75- 0.80**\n",
    "\n",
    "**epochs 100- 0.86 **"
   ]
  },
  {
   "cell_type": "markdown",
   "metadata": {},
   "source": [
    "# PART E- GRADIENT ESTIMATION"
   ]
  },
  {
   "cell_type": "markdown",
   "metadata": {},
   "source": [
    "**Changing the optimizer from 'adam' to 'RMSProp'**"
   ]
  },
  {
   "cell_type": "code",
   "execution_count": 60,
   "metadata": {},
   "outputs": [],
   "source": [
    "model = tf.keras.Sequential()\n",
    " #Must define the input shape in the first layer of the neural network\n",
    "    #layer 1\n",
    "model.add(tf.keras.layers.Conv2D(filters=64, kernel_size=2, padding='same', activation='relu', input_shape=(32,32,1),kernel_initializer ='glorot_uniform',bias_initializer ='glorot_uniform')) \n",
    "model.add(tf.keras.layers.MaxPooling2D(pool_size=2))\n",
    "model.add(tf.keras.layers.Dropout(0.3))\n",
    "    #layer 2\n",
    "model.add(tf.keras.layers.Conv2D(filters=32, kernel_size=2, padding='same', activation='relu',kernel_initializer ='glorot_uniform',bias_initializer ='glorot_uniform'))\n",
    "model.add(tf.keras.layers.MaxPooling2D(pool_size=2))\n",
    "model.add(tf.keras.layers.Dropout(0.3))\n",
    "    #flattening the layers\n",
    "model.add(tf.keras.layers.Flatten())\n",
    "model.add(tf.keras.layers.Dropout(0.5))\n",
    "model.add(tf.keras.layers.Dense(6, activation='softmax'))"
   ]
  },
  {
   "cell_type": "code",
   "execution_count": 61,
   "metadata": {},
   "outputs": [],
   "source": [
    "model.compile(loss='categorical_crossentropy',\n",
    "             optimizer='RMSProp',\n",
    "             metrics=['accuracy'])"
   ]
  },
  {
   "cell_type": "code",
   "execution_count": 62,
   "metadata": {},
   "outputs": [
    {
     "name": "stdout",
     "output_type": "stream",
     "text": [
      "Epoch 1/50\n",
      "25/25 [==============================] - 45s 2s/step - loss: 1.7068 - acc: 0.2719 - val_loss: 1.5387 - val_acc: 0.4017\n",
      "Epoch 2/50\n",
      "25/25 [==============================] - 45s 2s/step - loss: 1.4359 - acc: 0.4377 - val_loss: 1.3407 - val_acc: 0.5546\n",
      "Epoch 3/50\n",
      "25/25 [==============================] - 45s 2s/step - loss: 1.2959 - acc: 0.5109 - val_loss: 1.3234 - val_acc: 0.4803\n",
      "Epoch 4/50\n",
      "25/25 [==============================] - 44s 2s/step - loss: 1.2186 - acc: 0.5430 - val_loss: 1.2304 - val_acc: 0.5240\n",
      "Epoch 5/50\n",
      "25/25 [==============================] - 45s 2s/step - loss: 1.1540 - acc: 0.5688 - val_loss: 1.1994 - val_acc: 0.5546\n",
      "Epoch 6/50\n",
      "25/25 [==============================] - 44s 2s/step - loss: 1.1015 - acc: 0.5957 - val_loss: 1.0926 - val_acc: 0.5721\n",
      "Epoch 7/50\n",
      "25/25 [==============================] - 45s 2s/step - loss: 1.0508 - acc: 0.6154 - val_loss: 1.0800 - val_acc: 0.5808\n",
      "Epoch 8/50\n",
      "25/25 [==============================] - 45s 2s/step - loss: 1.0068 - acc: 0.6352 - val_loss: 1.0552 - val_acc: 0.6070\n",
      "Epoch 9/50\n",
      "25/25 [==============================] - 45s 2s/step - loss: 0.9677 - acc: 0.6477 - val_loss: 1.0072 - val_acc: 0.6245\n",
      "Epoch 10/50\n",
      "25/25 [==============================] - 43s 2s/step - loss: 0.9275 - acc: 0.6665 - val_loss: 0.9735 - val_acc: 0.6376\n",
      "Epoch 11/50\n",
      "25/25 [==============================] - 44s 2s/step - loss: 0.9008 - acc: 0.6724 - val_loss: 0.9777 - val_acc: 0.6332\n",
      "Epoch 12/50\n",
      "25/25 [==============================] - 44s 2s/step - loss: 0.8624 - acc: 0.6882 - val_loss: 0.9351 - val_acc: 0.6376\n",
      "Epoch 13/50\n",
      "25/25 [==============================] - 44s 2s/step - loss: 0.8351 - acc: 0.7001 - val_loss: 0.9206 - val_acc: 0.6419\n",
      "Epoch 14/50\n",
      "25/25 [==============================] - 44s 2s/step - loss: 0.8128 - acc: 0.7099 - val_loss: 0.8854 - val_acc: 0.6681\n",
      "Epoch 15/50\n",
      "25/25 [==============================] - 45s 2s/step - loss: 0.7857 - acc: 0.7203 - val_loss: 0.8709 - val_acc: 0.6463\n",
      "Epoch 16/50\n",
      "25/25 [==============================] - 45s 2s/step - loss: 0.7569 - acc: 0.7343 - val_loss: 0.8790 - val_acc: 0.7031\n",
      "Epoch 17/50\n",
      "25/25 [==============================] - 44s 2s/step - loss: 0.7342 - acc: 0.7431 - val_loss: 0.8380 - val_acc: 0.6812\n",
      "Epoch 18/50\n",
      "25/25 [==============================] - 45s 2s/step - loss: 0.7113 - acc: 0.7530 - val_loss: 0.8302 - val_acc: 0.6856\n",
      "Epoch 19/50\n",
      "25/25 [==============================] - 44s 2s/step - loss: 0.6872 - acc: 0.7589 - val_loss: 0.7992 - val_acc: 0.6900\n",
      "Epoch 20/50\n",
      "25/25 [==============================] - 44s 2s/step - loss: 0.6700 - acc: 0.7625 - val_loss: 0.8036 - val_acc: 0.6987\n",
      "Epoch 21/50\n",
      "25/25 [==============================] - 44s 2s/step - loss: 0.6475 - acc: 0.7746 - val_loss: 0.7647 - val_acc: 0.7467\n",
      "Epoch 22/50\n",
      "25/25 [==============================] - 44s 2s/step - loss: 0.6275 - acc: 0.7810 - val_loss: 0.7574 - val_acc: 0.7336\n",
      "Epoch 23/50\n",
      "25/25 [==============================] - 44s 2s/step - loss: 0.6063 - acc: 0.7877 - val_loss: 0.7409 - val_acc: 0.7336\n",
      "Epoch 24/50\n",
      "25/25 [==============================] - 44s 2s/step - loss: 0.5910 - acc: 0.7955 - val_loss: 0.7606 - val_acc: 0.7031\n",
      "Epoch 25/50\n",
      "25/25 [==============================] - 37s 1s/step - loss: 0.5693 - acc: 0.8006 - val_loss: 0.7304 - val_acc: 0.7555\n",
      "Epoch 26/50\n",
      "25/25 [==============================] - 37s 1s/step - loss: 0.5469 - acc: 0.8090 - val_loss: 0.7127 - val_acc: 0.7598\n",
      "Epoch 27/50\n",
      "25/25 [==============================] - 36s 1s/step - loss: 0.5386 - acc: 0.8111 - val_loss: 0.7210 - val_acc: 0.7642\n",
      "Epoch 28/50\n",
      "25/25 [==============================] - 39s 2s/step - loss: 0.5170 - acc: 0.8231 - val_loss: 0.6724 - val_acc: 0.7686\n",
      "Epoch 29/50\n",
      "25/25 [==============================] - 39s 2s/step - loss: 0.5079 - acc: 0.8251 - val_loss: 0.6908 - val_acc: 0.7380\n",
      "Epoch 30/50\n",
      "25/25 [==============================] - 39s 2s/step - loss: 0.4929 - acc: 0.8292 - val_loss: 0.6978 - val_acc: 0.7162\n",
      "Epoch 31/50\n",
      "25/25 [==============================] - 39s 2s/step - loss: 0.4717 - acc: 0.8385 - val_loss: 0.6604 - val_acc: 0.7555\n",
      "Epoch 32/50\n",
      "25/25 [==============================] - 39s 2s/step - loss: 0.4641 - acc: 0.8378 - val_loss: 0.6499 - val_acc: 0.7686\n",
      "Epoch 33/50\n",
      "25/25 [==============================] - 39s 2s/step - loss: 0.4491 - acc: 0.8437 - val_loss: 0.6548 - val_acc: 0.7773\n",
      "Epoch 34/50\n",
      "25/25 [==============================] - 39s 2s/step - loss: 0.4387 - acc: 0.8446 - val_loss: 0.6515 - val_acc: 0.7686\n",
      "Epoch 35/50\n",
      "25/25 [==============================] - 39s 2s/step - loss: 0.4298 - acc: 0.8541 - val_loss: 0.6283 - val_acc: 0.7817\n",
      "Epoch 36/50\n",
      "25/25 [==============================] - 40s 2s/step - loss: 0.4116 - acc: 0.8582 - val_loss: 0.6683 - val_acc: 0.7598\n",
      "Epoch 37/50\n",
      "25/25 [==============================] - 39s 2s/step - loss: 0.4079 - acc: 0.8586 - val_loss: 0.6136 - val_acc: 0.8035\n",
      "Epoch 38/50\n",
      "25/25 [==============================] - 39s 2s/step - loss: 0.4004 - acc: 0.8595 - val_loss: 0.6256 - val_acc: 0.7642\n",
      "Epoch 39/50\n",
      "25/25 [==============================] - 39s 2s/step - loss: 0.3903 - acc: 0.8641 - val_loss: 0.6240 - val_acc: 0.7773\n",
      "Epoch 40/50\n",
      "25/25 [==============================] - 39s 2s/step - loss: 0.3868 - acc: 0.8653 - val_loss: 0.6062 - val_acc: 0.7991\n",
      "Epoch 41/50\n",
      "25/25 [==============================] - 39s 2s/step - loss: 0.3670 - acc: 0.8719 - val_loss: 0.6117 - val_acc: 0.7729\n",
      "Epoch 42/50\n",
      "25/25 [==============================] - 41s 2s/step - loss: 0.3623 - acc: 0.8729 - val_loss: 0.6057 - val_acc: 0.8035\n",
      "Epoch 43/50\n",
      "25/25 [==============================] - 39s 2s/step - loss: 0.3553 - acc: 0.8760 - val_loss: 0.6517 - val_acc: 0.7598\n",
      "Epoch 44/50\n",
      "25/25 [==============================] - 38s 2s/step - loss: 0.3503 - acc: 0.8770 - val_loss: 0.5970 - val_acc: 0.7817\n",
      "Epoch 45/50\n",
      "25/25 [==============================] - 37s 1s/step - loss: 0.3385 - acc: 0.8807 - val_loss: 0.5933 - val_acc: 0.8079\n",
      "Epoch 46/50\n",
      "25/25 [==============================] - 38s 2s/step - loss: 0.3373 - acc: 0.8831 - val_loss: 0.6134 - val_acc: 0.7817\n",
      "Epoch 47/50\n",
      "25/25 [==============================] - 37s 1s/step - loss: 0.3296 - acc: 0.8829 - val_loss: 0.5955 - val_acc: 0.7991\n",
      "Epoch 48/50\n",
      "25/25 [==============================] - 37s 1s/step - loss: 0.3281 - acc: 0.8848 - val_loss: 0.6158 - val_acc: 0.7948\n",
      "Epoch 49/50\n",
      "25/25 [==============================] - 38s 2s/step - loss: 0.3048 - acc: 0.8938 - val_loss: 0.5856 - val_acc: 0.7948\n",
      "Epoch 50/50\n",
      "25/25 [==============================] - 37s 1s/step - loss: 0.3084 - acc: 0.8919 - val_loss: 0.5717 - val_acc: 0.8079\n"
     ]
    }
   ],
   "source": [
    "history9=model.fit(X_train,\n",
    "         y_train,\n",
    "          batch_size=64,\n",
    "         steps_per_epoch=25,\n",
    "          validation_data=(X_test,y_test),\n",
    "         epochs=50)"
   ]
  },
  {
   "cell_type": "code",
   "execution_count": 63,
   "metadata": {},
   "outputs": [
    {
     "name": "stdout",
     "output_type": "stream",
     "text": [
      "\n",
      " Test accuracy: 0.80786026\n"
     ]
    }
   ],
   "source": [
    "# Evaluate the model on test set\n",
    "score = model.evaluate(X_test, y_test, verbose=0)\n",
    "# Print test accuracy\n",
    "print('\\n', 'Test accuracy:', score[1])"
   ]
  },
  {
   "cell_type": "code",
   "execution_count": 64,
   "metadata": {},
   "outputs": [
    {
     "data": {
      "image/png": "[encoded data removed]",
      "text/plain": [
       "<matplotlib.figure.Figure at 0x22f387f53c8>"
      ]
     },
     "metadata": {},
     "output_type": "display_data"
    }
   ],
   "source": [
    "train_test_plot(history9,50)"
   ]
  },
  {
   "cell_type": "markdown",
   "metadata": {},
   "source": [
    "**The network plateau after 37 epochs with a accuracy of 0.80**"
   ]
  },
  {
   "cell_type": "markdown",
   "metadata": {},
   "source": [
    "**Changing the optimizer from 'adam' to 'RMSProp' increases the accuracy from 0.77 to 0.80 **"
   ]
  },
  {
   "cell_type": "markdown",
   "metadata": {},
   "source": [
    "**Changing the optimizer from 'adam' to 'Adagrad'**"
   ]
  },
  {
   "cell_type": "code",
   "execution_count": 65,
   "metadata": {},
   "outputs": [],
   "source": [
    "model = tf.keras.Sequential()\n",
    " #Must define the input shape in the first layer of the neural network\n",
    "    #layer 1\n",
    "model.add(tf.keras.layers.Conv2D(filters=64, kernel_size=2, padding='same', activation='relu', input_shape=(32,32,1),kernel_initializer ='glorot_uniform',bias_initializer ='glorot_uniform')) \n",
    "model.add(tf.keras.layers.MaxPooling2D(pool_size=2))\n",
    "model.add(tf.keras.layers.Dropout(0.3))\n",
    "    #layer 2\n",
    "model.add(tf.keras.layers.Conv2D(filters=32, kernel_size=2, padding='same', activation='relu',kernel_initializer ='glorot_uniform',bias_initializer ='glorot_uniform'))\n",
    "model.add(tf.keras.layers.MaxPooling2D(pool_size=2))\n",
    "model.add(tf.keras.layers.Dropout(0.3))\n",
    "    #flattening the layer\n",
    "model.add(tf.keras.layers.Flatten())\n",
    "model.add(tf.keras.layers.Dropout(0.5))\n",
    "model.add(tf.keras.layers.Dense(6, activation='softmax'))"
   ]
  },
  {
   "cell_type": "code",
   "execution_count": 66,
   "metadata": {},
   "outputs": [],
   "source": [
    "model.compile(loss='categorical_crossentropy',\n",
    "             optimizer='Adagrad',\n",
    "             metrics=['accuracy'])"
   ]
  },
  {
   "cell_type": "code",
   "execution_count": 67,
   "metadata": {},
   "outputs": [
    {
     "name": "stdout",
     "output_type": "stream",
     "text": [
      "Epoch 1/50\n",
      "25/25 [==============================] - 38s 2s/step - loss: 1.7296 - acc: 0.2661 - val_loss: 1.5108 - val_acc: 0.4585\n",
      "Epoch 2/50\n",
      "25/25 [==============================] - 37s 1s/step - loss: 1.4249 - acc: 0.4445 - val_loss: 1.3657 - val_acc: 0.4847\n",
      "Epoch 3/50\n",
      "25/25 [==============================] - 37s 1s/step - loss: 1.2850 - acc: 0.5183 - val_loss: 1.2292 - val_acc: 0.5546\n",
      "Epoch 4/50\n",
      "25/25 [==============================] - 37s 1s/step - loss: 1.2012 - acc: 0.5544 - val_loss: 1.1620 - val_acc: 0.5983\n",
      "Epoch 5/50\n",
      "25/25 [==============================] - 37s 1s/step - loss: 1.1430 - acc: 0.5762 - val_loss: 1.1177 - val_acc: 0.5939\n",
      "Epoch 6/50\n",
      "25/25 [==============================] - 38s 2s/step - loss: 1.0917 - acc: 0.5976 - val_loss: 1.0916 - val_acc: 0.6070\n",
      "Epoch 7/50\n",
      "25/25 [==============================] - 37s 1s/step - loss: 1.0480 - acc: 0.6199 - val_loss: 1.0397 - val_acc: 0.6114\n",
      "Epoch 8/50\n",
      "25/25 [==============================] - 37s 1s/step - loss: 0.9953 - acc: 0.6360 - val_loss: 1.0169 - val_acc: 0.6550\n",
      "Epoch 9/50\n",
      "25/25 [==============================] - 37s 1s/step - loss: 0.9689 - acc: 0.6515 - val_loss: 0.9809 - val_acc: 0.6376\n",
      "Epoch 10/50\n",
      "25/25 [==============================] - 37s 1s/step - loss: 0.9286 - acc: 0.6655 - val_loss: 0.9750 - val_acc: 0.6376\n",
      "Epoch 11/50\n",
      "25/25 [==============================] - 37s 1s/step - loss: 0.9020 - acc: 0.6764 - val_loss: 0.9452 - val_acc: 0.6638\n",
      "Epoch 12/50\n",
      "25/25 [==============================] - 37s 1s/step - loss: 0.8706 - acc: 0.6878 - val_loss: 0.9283 - val_acc: 0.6638\n",
      "Epoch 13/50\n",
      "25/25 [==============================] - 38s 2s/step - loss: 0.8525 - acc: 0.6946 - val_loss: 0.9203 - val_acc: 0.6856\n",
      "Epoch 14/50\n",
      "25/25 [==============================] - 37s 1s/step - loss: 0.8211 - acc: 0.7072 - val_loss: 0.8953 - val_acc: 0.6900\n",
      "Epoch 15/50\n",
      "25/25 [==============================] - 37s 1s/step - loss: 0.8061 - acc: 0.7133 - val_loss: 0.8818 - val_acc: 0.6987\n",
      "Epoch 16/50\n",
      "25/25 [==============================] - 37s 1s/step - loss: 0.7917 - acc: 0.7216 - val_loss: 0.8721 - val_acc: 0.6900\n",
      "Epoch 17/50\n",
      "25/25 [==============================] - 38s 2s/step - loss: 0.7738 - acc: 0.7267 - val_loss: 0.8623 - val_acc: 0.6987\n",
      "Epoch 18/50\n",
      "25/25 [==============================] - 37s 1s/step - loss: 0.7579 - acc: 0.7298 - val_loss: 0.8529 - val_acc: 0.7074\n",
      "Epoch 19/50\n",
      "25/25 [==============================] - 37s 1s/step - loss: 0.7409 - acc: 0.7378 - val_loss: 0.8395 - val_acc: 0.7074\n",
      "Epoch 20/50\n",
      "25/25 [==============================] - 37s 1s/step - loss: 0.7256 - acc: 0.7436 - val_loss: 0.8289 - val_acc: 0.7074\n",
      "Epoch 21/50\n",
      "25/25 [==============================] - 37s 1s/step - loss: 0.7155 - acc: 0.7466 - val_loss: 0.8194 - val_acc: 0.7205\n",
      "Epoch 22/50\n",
      "25/25 [==============================] - 37s 1s/step - loss: 0.7038 - acc: 0.7519 - val_loss: 0.8079 - val_acc: 0.7205\n",
      "Epoch 23/50\n",
      "25/25 [==============================] - 37s 1s/step - loss: 0.6823 - acc: 0.7603 - val_loss: 0.7969 - val_acc: 0.7380\n",
      "Epoch 24/50\n",
      "25/25 [==============================] - 37s 1s/step - loss: 0.6704 - acc: 0.7672 - val_loss: 0.7896 - val_acc: 0.7424\n",
      "Epoch 25/50\n",
      "25/25 [==============================] - 37s 1s/step - loss: 0.6666 - acc: 0.7657 - val_loss: 0.7771 - val_acc: 0.7467\n",
      "Epoch 26/50\n",
      "25/25 [==============================] - 37s 1s/step - loss: 0.6528 - acc: 0.7669 - val_loss: 0.7769 - val_acc: 0.7118\n",
      "Epoch 27/50\n",
      "25/25 [==============================] - 37s 1s/step - loss: 0.6438 - acc: 0.7712 - val_loss: 0.7563 - val_acc: 0.7511\n",
      "Epoch 28/50\n",
      "25/25 [==============================] - 37s 1s/step - loss: 0.6322 - acc: 0.7794 - val_loss: 0.7495 - val_acc: 0.7249\n",
      "Epoch 29/50\n",
      "25/25 [==============================] - 37s 1s/step - loss: 0.6225 - acc: 0.7849 - val_loss: 0.7445 - val_acc: 0.7380\n",
      "Epoch 30/50\n",
      "25/25 [==============================] - 37s 1s/step - loss: 0.6111 - acc: 0.7870 - val_loss: 0.7336 - val_acc: 0.7424\n",
      "Epoch 31/50\n",
      "25/25 [==============================] - 37s 1s/step - loss: 0.5977 - acc: 0.7893 - val_loss: 0.7251 - val_acc: 0.7467\n",
      "Epoch 32/50\n",
      "25/25 [==============================] - 37s 1s/step - loss: 0.5884 - acc: 0.7935 - val_loss: 0.7203 - val_acc: 0.7380\n",
      "Epoch 33/50\n",
      "25/25 [==============================] - 37s 1s/step - loss: 0.5878 - acc: 0.7914 - val_loss: 0.7083 - val_acc: 0.7642\n",
      "Epoch 34/50\n",
      "25/25 [==============================] - 37s 1s/step - loss: 0.5731 - acc: 0.7991 - val_loss: 0.7021 - val_acc: 0.7424\n",
      "Epoch 35/50\n",
      "25/25 [==============================] - 37s 1s/step - loss: 0.5560 - acc: 0.8057 - val_loss: 0.6942 - val_acc: 0.7467\n",
      "Epoch 36/50\n",
      "25/25 [==============================] - 38s 2s/step - loss: 0.5462 - acc: 0.8081 - val_loss: 0.6910 - val_acc: 0.7380\n",
      "Epoch 37/50\n",
      "25/25 [==============================] - 38s 2s/step - loss: 0.5364 - acc: 0.8103 - val_loss: 0.6760 - val_acc: 0.7642\n",
      "Epoch 38/50\n",
      "25/25 [==============================] - 37s 1s/step - loss: 0.5281 - acc: 0.8160 - val_loss: 0.6692 - val_acc: 0.7686\n",
      "Epoch 39/50\n",
      "25/25 [==============================] - 37s 1s/step - loss: 0.5172 - acc: 0.8199 - val_loss: 0.6638 - val_acc: 0.7686\n",
      "Epoch 40/50\n",
      "25/25 [==============================] - 37s 1s/step - loss: 0.5104 - acc: 0.8212 - val_loss: 0.6705 - val_acc: 0.7555\n",
      "Epoch 41/50\n",
      "25/25 [==============================] - 37s 1s/step - loss: 0.5003 - acc: 0.8232 - val_loss: 0.6515 - val_acc: 0.7729\n",
      "Epoch 42/50\n",
      "25/25 [==============================] - 38s 2s/step - loss: 0.4962 - acc: 0.8276 - val_loss: 0.6474 - val_acc: 0.7817\n",
      "Epoch 43/50\n",
      "25/25 [==============================] - 38s 2s/step - loss: 0.4915 - acc: 0.8272 - val_loss: 0.6427 - val_acc: 0.7817\n",
      "Epoch 44/50\n",
      "25/25 [==============================] - 37s 1s/step - loss: 0.4830 - acc: 0.8285 - val_loss: 0.6470 - val_acc: 0.7686\n",
      "Epoch 45/50\n",
      "25/25 [==============================] - 38s 2s/step - loss: 0.4788 - acc: 0.8322 - val_loss: 0.6306 - val_acc: 0.7860\n",
      "Epoch 46/50\n",
      "25/25 [==============================] - 37s 1s/step - loss: 0.4616 - acc: 0.8387 - val_loss: 0.6333 - val_acc: 0.7729\n",
      "Epoch 47/50\n",
      "25/25 [==============================] - 37s 1s/step - loss: 0.4607 - acc: 0.8364 - val_loss: 0.6301 - val_acc: 0.7817\n",
      "Epoch 48/50\n",
      "25/25 [==============================] - 37s 1s/step - loss: 0.4614 - acc: 0.8368 - val_loss: 0.6233 - val_acc: 0.7904\n",
      "Epoch 49/50\n",
      "25/25 [==============================] - 37s 1s/step - loss: 0.4535 - acc: 0.8405 - val_loss: 0.6267 - val_acc: 0.7773\n",
      "Epoch 50/50\n",
      "25/25 [==============================] - 37s 1s/step - loss: 0.4476 - acc: 0.8431 - val_loss: 0.6216 - val_acc: 0.7773\n"
     ]
    }
   ],
   "source": [
    "history10=model.fit(X_train,\n",
    "         y_train,\n",
    "          batch_size=64,\n",
    "         steps_per_epoch=25,\n",
    "        validation_data=(X_test,y_test),\n",
    "         epochs=50)"
   ]
  },
  {
   "cell_type": "code",
   "execution_count": 68,
   "metadata": {},
   "outputs": [
    {
     "name": "stdout",
     "output_type": "stream",
     "text": [
      "\n",
      " Test accuracy: 0.77729255\n"
     ]
    }
   ],
   "source": [
    "# Evaluate the model on test set\n",
    "score = model.evaluate(X_test, y_test, verbose=0)\n",
    "# Print test accuracy\n",
    "print('\\n', 'Test accuracy:', score[1])"
   ]
  },
  {
   "cell_type": "code",
   "execution_count": 69,
   "metadata": {},
   "outputs": [
    {
     "data": {
      "image/png": "[encoded data removed]",
      "text/plain": [
       "<matplotlib.figure.Figure at 0x22f357807f0>"
      ]
     },
     "metadata": {},
     "output_type": "display_data"
    }
   ],
   "source": [
    "train_test_plot(history10,50)"
   ]
  },
  {
   "cell_type": "markdown",
   "metadata": {},
   "source": [
    "**The network starts to plateau after 40 epochs with accuracy of about 0.78**"
   ]
  },
  {
   "cell_type": "markdown",
   "metadata": {},
   "source": [
    "**Changing the optimizer from 'adam' to 'Adagrad' but the accuracy remains the same at 0.77**"
   ]
  },
  {
   "cell_type": "markdown",
   "metadata": {},
   "source": [
    "### SUMMARY PART E\n",
    "**Adam- 0.77**\n",
    "\n",
    "**RMSProp - 0.80**\n",
    "\n",
    "**Adagrad- 0.77**"
   ]
  },
  {
   "cell_type": "markdown",
   "metadata": {},
   "source": [
    "# PART F - NETWORK ARCHITECTURE"
   ]
  },
  {
   "cell_type": "markdown",
   "metadata": {},
   "source": [
    "**Changing the number of layers from 2 to 3**"
   ]
  },
  {
   "cell_type": "code",
   "execution_count": 70,
   "metadata": {},
   "outputs": [],
   "source": [
    "model = tf.keras.Sequential()\n",
    " #Must define the input shape in the first layer of the neural network\n",
    "    #layer 1\n",
    "model.add(tf.keras.layers.Conv2D(filters=64, kernel_size=2, padding='same', activation='relu', input_shape=(32,32,1),kernel_initializer ='glorot_uniform',bias_initializer ='glorot_uniform')) \n",
    "model.add(tf.keras.layers.MaxPooling2D(pool_size=2))\n",
    "model.add(tf.keras.layers.Dropout(0.3))\n",
    "    #layer 2\n",
    "model.add(tf.keras.layers.Conv2D(filters=32, kernel_size=2, padding='same', activation='relu',kernel_initializer ='glorot_uniform',bias_initializer ='glorot_uniform'))\n",
    "model.add(tf.keras.layers.MaxPooling2D(pool_size=2))\n",
    "model.add(tf.keras.layers.Dropout(0.3))\n",
    "    #layer 3\n",
    "model.add(tf.keras.layers.Conv2D(filters=16, kernel_size=2, padding='same', activation='relu',kernel_initializer ='glorot_uniform',bias_initializer ='glorot_uniform'))\n",
    "model.add(tf.keras.layers.MaxPooling2D(pool_size=2))\n",
    "model.add(tf.keras.layers.Dropout(0.3))\n",
    "    #flattening the layer\n",
    "model.add(tf.keras.layers.Flatten())\n",
    "model.add(tf.keras.layers.Dropout(0.5))\n",
    "model.add(tf.keras.layers.Dense(6, activation='softmax'))"
   ]
  },
  {
   "cell_type": "code",
   "execution_count": 71,
   "metadata": {},
   "outputs": [],
   "source": [
    "model.compile(loss='categorical_crossentropy',\n",
    "             optimizer='adam',\n",
    "             metrics=['accuracy'])"
   ]
  },
  {
   "cell_type": "code",
   "execution_count": 72,
   "metadata": {},
   "outputs": [
    {
     "name": "stdout",
     "output_type": "stream",
     "text": [
      "Epoch 1/50\n",
      "25/25 [==============================] - 38s 2s/step - loss: 1.8458 - acc: 0.1968 - val_loss: 1.7760 - val_acc: 0.2795\n",
      "Epoch 2/50\n",
      "25/25 [==============================] - 38s 2s/step - loss: 1.7710 - acc: 0.2203 - val_loss: 1.7687 - val_acc: 0.2838\n",
      "Epoch 3/50\n",
      "25/25 [==============================] - 39s 2s/step - loss: 1.7297 - acc: 0.2368 - val_loss: 1.6964 - val_acc: 0.3624\n",
      "Epoch 4/50\n",
      "25/25 [==============================] - 39s 2s/step - loss: 1.6381 - acc: 0.3051 - val_loss: 1.5567 - val_acc: 0.4192\n",
      "Epoch 5/50\n",
      "25/25 [==============================] - 38s 2s/step - loss: 1.5381 - acc: 0.3748 - val_loss: 1.4701 - val_acc: 0.4629\n",
      "Epoch 6/50\n",
      "25/25 [==============================] - 38s 2s/step - loss: 1.4707 - acc: 0.4136 - val_loss: 1.4034 - val_acc: 0.4716\n",
      "Epoch 7/50\n",
      "25/25 [==============================] - 38s 2s/step - loss: 1.4232 - acc: 0.4383 - val_loss: 1.3395 - val_acc: 0.5328\n",
      "Epoch 8/50\n",
      "25/25 [==============================] - 38s 2s/step - loss: 1.3827 - acc: 0.4563 - val_loss: 1.2900 - val_acc: 0.5546\n",
      "Epoch 9/50\n",
      "25/25 [==============================] - 38s 2s/step - loss: 1.3424 - acc: 0.4804 - val_loss: 1.2497 - val_acc: 0.5852\n",
      "Epoch 10/50\n",
      "25/25 [==============================] - 38s 2s/step - loss: 1.3158 - acc: 0.4914 - val_loss: 1.2173 - val_acc: 0.6070\n",
      "Epoch 11/50\n",
      "25/25 [==============================] - 39s 2s/step - loss: 1.2760 - acc: 0.5074 - val_loss: 1.1752 - val_acc: 0.6419\n",
      "Epoch 12/50\n",
      "25/25 [==============================] - 39s 2s/step - loss: 1.2403 - acc: 0.5211 - val_loss: 1.1285 - val_acc: 0.6376\n",
      "Epoch 13/50\n",
      "25/25 [==============================] - 38s 2s/step - loss: 1.2080 - acc: 0.5361 - val_loss: 1.0951 - val_acc: 0.6681\n",
      "Epoch 14/50\n",
      "25/25 [==============================] - 38s 2s/step - loss: 1.1749 - acc: 0.5483 - val_loss: 1.0565 - val_acc: 0.6594\n",
      "Epoch 15/50\n",
      "25/25 [==============================] - 38s 2s/step - loss: 1.1483 - acc: 0.5589 - val_loss: 1.0365 - val_acc: 0.6725\n",
      "Epoch 16/50\n",
      "25/25 [==============================] - 38s 2s/step - loss: 1.1268 - acc: 0.5673 - val_loss: 1.0121 - val_acc: 0.6943\n",
      "Epoch 17/50\n",
      "25/25 [==============================] - 38s 2s/step - loss: 1.1041 - acc: 0.5745 - val_loss: 0.9927 - val_acc: 0.6638\n",
      "Epoch 18/50\n",
      "25/25 [==============================] - 38s 2s/step - loss: 1.0889 - acc: 0.5814 - val_loss: 0.9731 - val_acc: 0.7031\n",
      "Epoch 19/50\n",
      "25/25 [==============================] - 38s 2s/step - loss: 1.0715 - acc: 0.5896 - val_loss: 0.9589 - val_acc: 0.6812\n",
      "Epoch 20/50\n",
      "25/25 [==============================] - 38s 2s/step - loss: 1.0529 - acc: 0.5977 - val_loss: 0.9429 - val_acc: 0.6900\n",
      "Epoch 21/50\n",
      "25/25 [==============================] - 38s 2s/step - loss: 1.0379 - acc: 0.6033 - val_loss: 0.9147 - val_acc: 0.7074\n",
      "Epoch 22/50\n",
      "25/25 [==============================] - 38s 2s/step - loss: 1.0155 - acc: 0.6099 - val_loss: 0.9055 - val_acc: 0.7118\n",
      "Epoch 23/50\n",
      "25/25 [==============================] - 38s 2s/step - loss: 1.0015 - acc: 0.6175 - val_loss: 0.8848 - val_acc: 0.7118\n",
      "Epoch 24/50\n",
      "25/25 [==============================] - 38s 2s/step - loss: 0.9840 - acc: 0.6257 - val_loss: 0.8615 - val_acc: 0.7162\n",
      "Epoch 25/50\n",
      "25/25 [==============================] - 38s 2s/step - loss: 0.9697 - acc: 0.6292 - val_loss: 0.8477 - val_acc: 0.7118\n",
      "Epoch 26/50\n",
      "25/25 [==============================] - 38s 2s/step - loss: 0.9579 - acc: 0.6370 - val_loss: 0.8397 - val_acc: 0.7467\n",
      "Epoch 27/50\n",
      "25/25 [==============================] - 38s 2s/step - loss: 0.9441 - acc: 0.6388 - val_loss: 0.8229 - val_acc: 0.7380\n",
      "Epoch 28/50\n",
      "25/25 [==============================] - 38s 2s/step - loss: 0.9261 - acc: 0.6400 - val_loss: 0.8046 - val_acc: 0.7293\n",
      "Epoch 29/50\n",
      "25/25 [==============================] - 38s 2s/step - loss: 0.9146 - acc: 0.6521 - val_loss: 0.7901 - val_acc: 0.7424\n",
      "Epoch 30/50\n",
      "25/25 [==============================] - 38s 2s/step - loss: 0.9059 - acc: 0.6496 - val_loss: 0.7855 - val_acc: 0.7555\n",
      "Epoch 31/50\n",
      "25/25 [==============================] - 39s 2s/step - loss: 0.8856 - acc: 0.6607 - val_loss: 0.7623 - val_acc: 0.7555\n",
      "Epoch 32/50\n",
      "25/25 [==============================] - 38s 2s/step - loss: 0.8752 - acc: 0.6618 - val_loss: 0.7547 - val_acc: 0.7773\n",
      "Epoch 33/50\n",
      "25/25 [==============================] - 38s 2s/step - loss: 0.8704 - acc: 0.6622 - val_loss: 0.7367 - val_acc: 0.7642\n",
      "Epoch 34/50\n",
      "25/25 [==============================] - 38s 2s/step - loss: 0.8644 - acc: 0.6647 - val_loss: 0.7377 - val_acc: 0.7729\n",
      "Epoch 35/50\n",
      "25/25 [==============================] - 38s 2s/step - loss: 0.8511 - acc: 0.6719 - val_loss: 0.7232 - val_acc: 0.7642\n",
      "Epoch 36/50\n",
      "25/25 [==============================] - 38s 2s/step - loss: 0.8503 - acc: 0.6741 - val_loss: 0.7210 - val_acc: 0.7511\n",
      "Epoch 37/50\n",
      "25/25 [==============================] - 38s 2s/step - loss: 0.8337 - acc: 0.6816 - val_loss: 0.7083 - val_acc: 0.7686\n",
      "Epoch 38/50\n",
      "25/25 [==============================] - 38s 2s/step - loss: 0.8264 - acc: 0.6785 - val_loss: 0.7148 - val_acc: 0.7555\n",
      "Epoch 39/50\n",
      "25/25 [==============================] - 38s 2s/step - loss: 0.8173 - acc: 0.6878 - val_loss: 0.7108 - val_acc: 0.7555\n",
      "Epoch 40/50\n",
      "25/25 [==============================] - 38s 2s/step - loss: 0.8209 - acc: 0.6830 - val_loss: 0.6923 - val_acc: 0.7598\n",
      "Epoch 41/50\n",
      "25/25 [==============================] - 38s 2s/step - loss: 0.8038 - acc: 0.6887 - val_loss: 0.6773 - val_acc: 0.7729\n",
      "Epoch 42/50\n",
      "25/25 [==============================] - 38s 2s/step - loss: 0.8043 - acc: 0.6914 - val_loss: 0.6863 - val_acc: 0.7686\n",
      "Epoch 43/50\n",
      "25/25 [==============================] - 38s 2s/step - loss: 0.8020 - acc: 0.6917 - val_loss: 0.6602 - val_acc: 0.7904\n",
      "Epoch 44/50\n",
      "25/25 [==============================] - 38s 2s/step - loss: 0.7838 - acc: 0.6963 - val_loss: 0.6651 - val_acc: 0.7686\n",
      "Epoch 45/50\n",
      "25/25 [==============================] - 38s 2s/step - loss: 0.7887 - acc: 0.6975 - val_loss: 0.6730 - val_acc: 0.7555\n",
      "Epoch 46/50\n",
      "25/25 [==============================] - 38s 2s/step - loss: 0.7834 - acc: 0.6964 - val_loss: 0.6569 - val_acc: 0.7773\n",
      "Epoch 47/50\n",
      "25/25 [==============================] - 38s 2s/step - loss: 0.7752 - acc: 0.6978 - val_loss: 0.6620 - val_acc: 0.7729\n",
      "Epoch 48/50\n",
      "25/25 [==============================] - 38s 2s/step - loss: 0.7720 - acc: 0.7019 - val_loss: 0.6510 - val_acc: 0.7686\n",
      "Epoch 49/50\n",
      "25/25 [==============================] - 38s 2s/step - loss: 0.7609 - acc: 0.7096 - val_loss: 0.6421 - val_acc: 0.7817\n",
      "Epoch 50/50\n",
      "25/25 [==============================] - 38s 2s/step - loss: 0.7519 - acc: 0.7112 - val_loss: 0.6366 - val_acc: 0.7686\n"
     ]
    }
   ],
   "source": [
    "history11=model.fit(X_train,\n",
    "         y_train,\n",
    "          batch_size=64,\n",
    "         steps_per_epoch=25,\n",
    "          validation_data=(X_test,y_test),\n",
    "         epochs=50)"
   ]
  },
  {
   "cell_type": "code",
   "execution_count": 73,
   "metadata": {},
   "outputs": [
    {
     "name": "stdout",
     "output_type": "stream",
     "text": [
      "\n",
      " Test accuracy: 0.768559\n"
     ]
    }
   ],
   "source": [
    "# Evaluate the model on test set\n",
    "score = model.evaluate(X_test, y_test, verbose=0)\n",
    "# Print test accuracy\n",
    "print('\\n', 'Test accuracy:', score[1])"
   ]
  },
  {
   "cell_type": "code",
   "execution_count": 74,
   "metadata": {},
   "outputs": [
    {
     "data": {
      "image/png": "[encoded data removed]",
      "text/plain": [
       "<matplotlib.figure.Figure at 0x22f3c9d37b8>"
      ]
     },
     "metadata": {},
     "output_type": "display_data"
    }
   ],
   "source": [
    "train_test_plot(history11,50)"
   ]
  },
  {
   "cell_type": "markdown",
   "metadata": {},
   "source": [
    "**The network plateaus after 35 epochs with a accuracy of 0.76**"
   ]
  },
  {
   "cell_type": "markdown",
   "metadata": {},
   "source": [
    "**Changing the number of layers from 2 to 3 reduces the accuracy from 0.77 to 0.76 **"
   ]
  },
  {
   "cell_type": "markdown",
   "metadata": {},
   "source": [
    "**Changing the number of layers from 2 to 4**"
   ]
  },
  {
   "cell_type": "code",
   "execution_count": 75,
   "metadata": {},
   "outputs": [],
   "source": [
    "model = tf.keras.Sequential()\n",
    " #Must define the input shape in the first layer of the neural network\n",
    "    #layer 1\n",
    "model.add(tf.keras.layers.Conv2D(filters=128, kernel_size=2, padding='same', activation='relu', input_shape=(32,32,1),kernel_initializer ='glorot_uniform',bias_initializer ='glorot_uniform')) \n",
    "model.add(tf.keras.layers.MaxPooling2D(pool_size=2))\n",
    "model.add(tf.keras.layers.Dropout(0.3))\n",
    "    #layer 2\n",
    "model.add(tf.keras.layers.Conv2D(filters=64, kernel_size=2, padding='same', activation='relu',kernel_initializer ='glorot_uniform',bias_initializer ='glorot_uniform'))\n",
    "model.add(tf.keras.layers.MaxPooling2D(pool_size=2))\n",
    "model.add(tf.keras.layers.Dropout(0.3))\n",
    "    #layer 3\n",
    "model.add(tf.keras.layers.Conv2D(filters=32, kernel_size=2, padding='same', activation='relu',kernel_initializer ='glorot_uniform',bias_initializer ='glorot_uniform'))\n",
    "model.add(tf.keras.layers.MaxPooling2D(pool_size=2))\n",
    "model.add(tf.keras.layers.Dropout(0.3))\n",
    "    #layer 4\n",
    "model.add(tf.keras.layers.Conv2D(filters=16, kernel_size=2, padding='same', activation='relu',kernel_initializer ='glorot_uniform',bias_initializer ='glorot_uniform'))\n",
    "model.add(tf.keras.layers.MaxPooling2D(pool_size=2))\n",
    "model.add(tf.keras.layers.Dropout(0.3))\n",
    "    #flattening the layer\n",
    "model.add(tf.keras.layers.Flatten())\n",
    "model.add(tf.keras.layers.Dropout(0.5))\n",
    "model.add(tf.keras.layers.Dense(6, activation='softmax'))"
   ]
  },
  {
   "cell_type": "code",
   "execution_count": 76,
   "metadata": {},
   "outputs": [],
   "source": [
    "model.compile(loss='categorical_crossentropy',\n",
    "             optimizer='adam',\n",
    "             metrics=['accuracy'])"
   ]
  },
  {
   "cell_type": "code",
   "execution_count": 77,
   "metadata": {},
   "outputs": [
    {
     "name": "stdout",
     "output_type": "stream",
     "text": [
      "Epoch 1/50\n",
      "25/25 [==============================] - 91s 4s/step - loss: 1.8285 - acc: 0.1752 - val_loss: 1.7763 - val_acc: 0.2795\n",
      "Epoch 2/50\n",
      "25/25 [==============================] - 90s 4s/step - loss: 1.7801 - acc: 0.2067 - val_loss: 1.7677 - val_acc: 0.2795\n",
      "Epoch 3/50\n",
      "25/25 [==============================] - 90s 4s/step - loss: 1.7653 - acc: 0.2273 - val_loss: 1.7572 - val_acc: 0.2795\n",
      "Epoch 4/50\n",
      "25/25 [==============================] - 92s 4s/step - loss: 1.7229 - acc: 0.2475 - val_loss: 1.6789 - val_acc: 0.3406\n",
      "Epoch 5/50\n",
      "25/25 [==============================] - 90s 4s/step - loss: 1.6643 - acc: 0.2828 - val_loss: 1.6077 - val_acc: 0.4061\n",
      "Epoch 6/50\n",
      "25/25 [==============================] - 90s 4s/step - loss: 1.6057 - acc: 0.3281 - val_loss: 1.5385 - val_acc: 0.5109\n",
      "Epoch 7/50\n",
      "25/25 [==============================] - 90s 4s/step - loss: 1.5403 - acc: 0.3676 - val_loss: 1.4771 - val_acc: 0.5240\n",
      "Epoch 8/50\n",
      "25/25 [==============================] - 90s 4s/step - loss: 1.4930 - acc: 0.3929 - val_loss: 1.4122 - val_acc: 0.5415\n",
      "Epoch 9/50\n",
      "25/25 [==============================] - 91s 4s/step - loss: 1.4492 - acc: 0.4205 - val_loss: 1.3603 - val_acc: 0.5764\n",
      "Epoch 10/50\n",
      "25/25 [==============================] - 90s 4s/step - loss: 1.4024 - acc: 0.4348 - val_loss: 1.3111 - val_acc: 0.5590\n",
      "Epoch 11/50\n",
      "25/25 [==============================] - 92s 4s/step - loss: 1.3747 - acc: 0.4517 - val_loss: 1.2852 - val_acc: 0.5764\n",
      "Epoch 12/50\n",
      "25/25 [==============================] - 90s 4s/step - loss: 1.3238 - acc: 0.4706 - val_loss: 1.2026 - val_acc: 0.6288\n",
      "Epoch 13/50\n",
      "25/25 [==============================] - 91s 4s/step - loss: 1.2779 - acc: 0.4929 - val_loss: 1.1663 - val_acc: 0.6550\n",
      "Epoch 14/50\n",
      "25/25 [==============================] - 90s 4s/step - loss: 1.2488 - acc: 0.5044 - val_loss: 1.1103 - val_acc: 0.6594\n",
      "Epoch 15/50\n",
      "25/25 [==============================] - 91s 4s/step - loss: 1.2061 - acc: 0.5266 - val_loss: 1.0569 - val_acc: 0.6725\n",
      "Epoch 16/50\n",
      "25/25 [==============================] - 90s 4s/step - loss: 1.1687 - acc: 0.5367 - val_loss: 1.0347 - val_acc: 0.6725\n",
      "Epoch 17/50\n",
      "25/25 [==============================] - 90s 4s/step - loss: 1.1377 - acc: 0.5492 - val_loss: 0.9872 - val_acc: 0.6900\n",
      "Epoch 18/50\n",
      "25/25 [==============================] - 90s 4s/step - loss: 1.1096 - acc: 0.5570 - val_loss: 0.9840 - val_acc: 0.6638\n",
      "Epoch 19/50\n",
      "25/25 [==============================] - 91s 4s/step - loss: 1.0881 - acc: 0.5676 - val_loss: 0.9110 - val_acc: 0.6856\n",
      "Epoch 20/50\n",
      "25/25 [==============================] - 92s 4s/step - loss: 1.0523 - acc: 0.5820 - val_loss: 0.8971 - val_acc: 0.7162\n",
      "Epoch 21/50\n",
      "25/25 [==============================] - 90s 4s/step - loss: 1.0236 - acc: 0.5926 - val_loss: 0.8759 - val_acc: 0.6900\n",
      "Epoch 22/50\n",
      "25/25 [==============================] - 90s 4s/step - loss: 0.9948 - acc: 0.6014 - val_loss: 0.8852 - val_acc: 0.6725\n",
      "Epoch 23/50\n",
      "25/25 [==============================] - 90s 4s/step - loss: 0.9831 - acc: 0.6052 - val_loss: 0.8133 - val_acc: 0.7162\n",
      "Epoch 24/50\n",
      "25/25 [==============================] - 91s 4s/step - loss: 0.9563 - acc: 0.6147 - val_loss: 0.8050 - val_acc: 0.7336\n",
      "Epoch 25/50\n",
      "25/25 [==============================] - 90s 4s/step - loss: 0.9413 - acc: 0.6182 - val_loss: 0.7915 - val_acc: 0.7249\n",
      "Epoch 26/50\n",
      "25/25 [==============================] - 90s 4s/step - loss: 0.9297 - acc: 0.6278 - val_loss: 0.7727 - val_acc: 0.7205\n",
      "Epoch 27/50\n",
      "25/25 [==============================] - 91s 4s/step - loss: 0.9024 - acc: 0.6408 - val_loss: 0.7638 - val_acc: 0.7467\n",
      "Epoch 28/50\n",
      "25/25 [==============================] - 90s 4s/step - loss: 0.9093 - acc: 0.6361 - val_loss: 0.7439 - val_acc: 0.7336\n",
      "Epoch 29/50\n",
      "25/25 [==============================] - 90s 4s/step - loss: 0.8928 - acc: 0.6423 - val_loss: 0.7539 - val_acc: 0.7074\n",
      "Epoch 30/50\n",
      "25/25 [==============================] - 90s 4s/step - loss: 0.8742 - acc: 0.6480 - val_loss: 0.7545 - val_acc: 0.7162\n",
      "Epoch 31/50\n",
      "25/25 [==============================] - 91s 4s/step - loss: 0.8556 - acc: 0.6553 - val_loss: 0.7370 - val_acc: 0.7205\n",
      "Epoch 32/50\n",
      "25/25 [==============================] - 91s 4s/step - loss: 0.8364 - acc: 0.6649 - val_loss: 0.7239 - val_acc: 0.7293\n",
      "Epoch 33/50\n",
      "25/25 [==============================] - 90s 4s/step - loss: 0.8319 - acc: 0.6627 - val_loss: 0.7167 - val_acc: 0.7249\n",
      "Epoch 34/50\n",
      "25/25 [==============================] - 90s 4s/step - loss: 0.8262 - acc: 0.6694 - val_loss: 0.7112 - val_acc: 0.7336\n",
      "Epoch 35/50\n",
      "25/25 [==============================] - 91s 4s/step - loss: 0.8174 - acc: 0.6739 - val_loss: 0.6981 - val_acc: 0.7467\n",
      "Epoch 36/50\n",
      "25/25 [==============================] - 90s 4s/step - loss: 0.8020 - acc: 0.6796 - val_loss: 0.6973 - val_acc: 0.7424\n",
      "Epoch 37/50\n",
      "25/25 [==============================] - 90s 4s/step - loss: 0.7999 - acc: 0.6797 - val_loss: 0.6930 - val_acc: 0.7336\n",
      "Epoch 38/50\n",
      "25/25 [==============================] - 90s 4s/step - loss: 0.7865 - acc: 0.6829 - val_loss: 0.7028 - val_acc: 0.7424\n",
      "Epoch 39/50\n",
      "25/25 [==============================] - 90s 4s/step - loss: 0.7744 - acc: 0.6915 - val_loss: 0.6801 - val_acc: 0.7380\n",
      "Epoch 40/50\n",
      "25/25 [==============================] - 92s 4s/step - loss: 0.7683 - acc: 0.6896 - val_loss: 0.6788 - val_acc: 0.7511\n",
      "Epoch 41/50\n",
      "25/25 [==============================] - 91s 4s/step - loss: 0.7654 - acc: 0.6950 - val_loss: 0.6754 - val_acc: 0.7467\n",
      "Epoch 42/50\n",
      "25/25 [==============================] - 90s 4s/step - loss: 0.7455 - acc: 0.7022 - val_loss: 0.6873 - val_acc: 0.7249\n",
      "Epoch 43/50\n",
      "25/25 [==============================] - 90s 4s/step - loss: 0.7380 - acc: 0.7044 - val_loss: 0.6792 - val_acc: 0.7074\n",
      "Epoch 44/50\n",
      "25/25 [==============================] - 90s 4s/step - loss: 0.7326 - acc: 0.7054 - val_loss: 0.6822 - val_acc: 0.7249\n",
      "Epoch 45/50\n",
      "25/25 [==============================] - 91s 4s/step - loss: 0.7246 - acc: 0.7089 - val_loss: 0.6619 - val_acc: 0.7293\n",
      "Epoch 46/50\n",
      "25/25 [==============================] - 91s 4s/step - loss: 0.7196 - acc: 0.7108 - val_loss: 0.6582 - val_acc: 0.7249\n",
      "Epoch 47/50\n",
      "25/25 [==============================] - 94s 4s/step - loss: 0.7129 - acc: 0.7190 - val_loss: 0.6570 - val_acc: 0.7555\n",
      "Epoch 48/50\n",
      "25/25 [==============================] - 92s 4s/step - loss: 0.7070 - acc: 0.7199 - val_loss: 0.6713 - val_acc: 0.7205\n",
      "Epoch 49/50\n",
      "25/25 [==============================] - 90s 4s/step - loss: 0.7010 - acc: 0.7208 - val_loss: 0.6475 - val_acc: 0.7249\n",
      "Epoch 50/50\n",
      "25/25 [==============================] - 90s 4s/step - loss: 0.6952 - acc: 0.7222 - val_loss: 0.6278 - val_acc: 0.7511\n"
     ]
    }
   ],
   "source": [
    "history12=model.fit(X_train,\n",
    "         y_train,\n",
    "          batch_size=64,\n",
    "         steps_per_epoch=25,\n",
    "        validation_data=(X_test,y_test),\n",
    "         epochs=50)"
   ]
  },
  {
   "cell_type": "code",
   "execution_count": 78,
   "metadata": {},
   "outputs": [
    {
     "name": "stdout",
     "output_type": "stream",
     "text": [
      "\n",
      " Test accuracy: 0.7510917\n"
     ]
    }
   ],
   "source": [
    "# Evaluate the model on test set\n",
    "score = model.evaluate(X_test, y_test, verbose=0)\n",
    "# Print test accuracy\n",
    "print('\\n', 'Test accuracy:', score[1])"
   ]
  },
  {
   "cell_type": "code",
   "execution_count": 79,
   "metadata": {},
   "outputs": [
    {
     "data": {
      "image/png": "[encoded data removed]",
      "text/plain": [
       "<matplotlib.figure.Figure at 0x22f3e38ad30>"
      ]
     },
     "metadata": {},
     "output_type": "display_data"
    }
   ],
   "source": [
    "train_test_plot(history12,50)"
   ]
  },
  {
   "cell_type": "markdown",
   "metadata": {},
   "source": [
    "**The network plateaus after 40 epochs with a accuracy of 0.75**"
   ]
  },
  {
   "cell_type": "markdown",
   "metadata": {},
   "source": [
    "**Changing the number of layers from 2 to 4 decreases the accuracy from 0.77 to 0.75**"
   ]
  },
  {
   "cell_type": "markdown",
   "metadata": {},
   "source": [
    "**Changing the number of filter and keeping the number of layers at 2**"
   ]
  },
  {
   "cell_type": "code",
   "execution_count": 80,
   "metadata": {},
   "outputs": [],
   "source": [
    "model = tf.keras.Sequential()\n",
    " #Must define the input shape in the first layer of the neural network\n",
    "    #layer 1\n",
    "model.add(tf.keras.layers.Conv2D(filters=128, kernel_size=2, padding='same', activation='relu', input_shape=(32,32,1),kernel_initializer ='glorot_uniform',bias_initializer ='glorot_uniform')) \n",
    "model.add(tf.keras.layers.MaxPooling2D(pool_size=2))\n",
    "model.add(tf.keras.layers.Dropout(0.3))\n",
    "    #layer 2\n",
    "model.add(tf.keras.layers.Conv2D(filters=64, kernel_size=2, padding='same', activation='relu',kernel_initializer ='glorot_uniform',bias_initializer ='glorot_uniform'))\n",
    "model.add(tf.keras.layers.MaxPooling2D(pool_size=2))\n",
    "model.add(tf.keras.layers.Dropout(0.3))\n",
    "    #flattening the layer\n",
    "model.add(tf.keras.layers.Flatten())\n",
    "model.add(tf.keras.layers.Dropout(0.5))\n",
    "model.add(tf.keras.layers.Dense(6, activation='softmax'))"
   ]
  },
  {
   "cell_type": "code",
   "execution_count": 81,
   "metadata": {},
   "outputs": [],
   "source": [
    "model.compile(loss='categorical_crossentropy',\n",
    "             optimizer='adam',\n",
    "             metrics=['accuracy'])"
   ]
  },
  {
   "cell_type": "code",
   "execution_count": 82,
   "metadata": {},
   "outputs": [
    {
     "name": "stdout",
     "output_type": "stream",
     "text": [
      "Epoch 1/50\n",
      "25/25 [==============================] - 88s 4s/step - loss: 1.7446 - acc: 0.2491 - val_loss: 1.6193 - val_acc: 0.3974\n",
      "Epoch 2/50\n",
      "25/25 [==============================] - 88s 4s/step - loss: 1.4137 - acc: 0.4545 - val_loss: 1.2766 - val_acc: 0.5240\n",
      "Epoch 3/50\n",
      "25/25 [==============================] - 89s 4s/step - loss: 1.1734 - acc: 0.5689 - val_loss: 1.1361 - val_acc: 0.5633\n",
      "Epoch 4/50\n",
      "25/25 [==============================] - 88s 4s/step - loss: 1.0187 - acc: 0.6345 - val_loss: 1.0487 - val_acc: 0.6332\n",
      "Epoch 5/50\n",
      "25/25 [==============================] - 88s 4s/step - loss: 0.9020 - acc: 0.6765 - val_loss: 0.9543 - val_acc: 0.6550\n",
      "Epoch 6/50\n",
      "25/25 [==============================] - 88s 4s/step - loss: 0.7955 - acc: 0.7172 - val_loss: 0.9072 - val_acc: 0.6812\n",
      "Epoch 7/50\n",
      "25/25 [==============================] - 88s 4s/step - loss: 0.7148 - acc: 0.7488 - val_loss: 0.8522 - val_acc: 0.7031\n",
      "Epoch 8/50\n",
      "25/25 [==============================] - 88s 4s/step - loss: 0.6398 - acc: 0.7789 - val_loss: 0.8232 - val_acc: 0.7118\n",
      "Epoch 9/50\n",
      "25/25 [==============================] - 88s 4s/step - loss: 0.5783 - acc: 0.7997 - val_loss: 0.7934 - val_acc: 0.7205\n",
      "Epoch 10/50\n",
      "25/25 [==============================] - 90s 4s/step - loss: 0.5166 - acc: 0.8209 - val_loss: 0.7548 - val_acc: 0.7380\n",
      "Epoch 11/50\n",
      "25/25 [==============================] - 88s 4s/step - loss: 0.4613 - acc: 0.8443 - val_loss: 0.7373 - val_acc: 0.7598\n",
      "Epoch 12/50\n",
      "25/25 [==============================] - 88s 4s/step - loss: 0.4128 - acc: 0.8592 - val_loss: 0.7226 - val_acc: 0.7380\n",
      "Epoch 13/50\n",
      "25/25 [==============================] - 88s 4s/step - loss: 0.3791 - acc: 0.8709 - val_loss: 0.7204 - val_acc: 0.7336\n",
      "Epoch 14/50\n",
      "25/25 [==============================] - 89s 4s/step - loss: 0.3405 - acc: 0.8853 - val_loss: 0.7019 - val_acc: 0.7467\n",
      "Epoch 15/50\n",
      "25/25 [==============================] - 88s 4s/step - loss: 0.3169 - acc: 0.8920 - val_loss: 0.6818 - val_acc: 0.7555\n",
      "Epoch 16/50\n",
      "25/25 [==============================] - 88s 4s/step - loss: 0.2931 - acc: 0.9005 - val_loss: 0.6823 - val_acc: 0.7773\n",
      "Epoch 17/50\n",
      "25/25 [==============================] - 88s 4s/step - loss: 0.2734 - acc: 0.9080 - val_loss: 0.6718 - val_acc: 0.7729\n",
      "Epoch 18/50\n",
      "25/25 [==============================] - 88s 4s/step - loss: 0.2520 - acc: 0.9144 - val_loss: 0.6799 - val_acc: 0.7773\n",
      "Epoch 19/50\n",
      "25/25 [==============================] - 88s 4s/step - loss: 0.2354 - acc: 0.9217 - val_loss: 0.6694 - val_acc: 0.7729\n",
      "Epoch 20/50\n",
      "25/25 [==============================] - 88s 4s/step - loss: 0.2159 - acc: 0.9285 - val_loss: 0.6603 - val_acc: 0.7686\n",
      "Epoch 21/50\n",
      "25/25 [==============================] - 89s 4s/step - loss: 0.2024 - acc: 0.9331 - val_loss: 0.6515 - val_acc: 0.7773\n",
      "Epoch 22/50\n",
      "25/25 [==============================] - 88s 4s/step - loss: 0.1913 - acc: 0.9365 - val_loss: 0.6493 - val_acc: 0.7729\n",
      "Epoch 23/50\n",
      "25/25 [==============================] - 88s 4s/step - loss: 0.1823 - acc: 0.9401 - val_loss: 0.6587 - val_acc: 0.7729\n",
      "Epoch 24/50\n",
      "25/25 [==============================] - 87s 3s/step - loss: 0.1703 - acc: 0.9423 - val_loss: 0.6420 - val_acc: 0.7817\n",
      "Epoch 25/50\n",
      "25/25 [==============================] - 89s 4s/step - loss: 0.1571 - acc: 0.9484 - val_loss: 0.6587 - val_acc: 0.7773\n",
      "Epoch 26/50\n",
      "25/25 [==============================] - 88s 4s/step - loss: 0.1467 - acc: 0.9518 - val_loss: 0.6647 - val_acc: 0.7773\n",
      "Epoch 27/50\n",
      "25/25 [==============================] - 88s 4s/step - loss: 0.1475 - acc: 0.9520 - val_loss: 0.6369 - val_acc: 0.7860\n",
      "Epoch 28/50\n",
      "25/25 [==============================] - 88s 4s/step - loss: 0.1350 - acc: 0.9566 - val_loss: 0.6580 - val_acc: 0.7860\n",
      "Epoch 29/50\n",
      "25/25 [==============================] - 88s 4s/step - loss: 0.1328 - acc: 0.9573 - val_loss: 0.6556 - val_acc: 0.7817\n",
      "Epoch 30/50\n",
      "25/25 [==============================] - 88s 4s/step - loss: 0.1271 - acc: 0.9593 - val_loss: 0.6470 - val_acc: 0.7817\n",
      "Epoch 31/50\n",
      "25/25 [==============================] - 88s 4s/step - loss: 0.1208 - acc: 0.9607 - val_loss: 0.6658 - val_acc: 0.7817\n",
      "Epoch 32/50\n",
      "25/25 [==============================] - 89s 4s/step - loss: 0.1124 - acc: 0.9635 - val_loss: 0.6558 - val_acc: 0.7773\n",
      "Epoch 33/50\n",
      "25/25 [==============================] - 88s 4s/step - loss: 0.1064 - acc: 0.9664 - val_loss: 0.6583 - val_acc: 0.7773\n",
      "Epoch 34/50\n",
      "25/25 [==============================] - 88s 4s/step - loss: 0.1070 - acc: 0.9656 - val_loss: 0.6784 - val_acc: 0.7686\n",
      "Epoch 35/50\n",
      "25/25 [==============================] - 88s 4s/step - loss: 0.1007 - acc: 0.9681 - val_loss: 0.6673 - val_acc: 0.7773\n",
      "Epoch 36/50\n",
      "25/25 [==============================] - 88s 4s/step - loss: 0.0998 - acc: 0.9678 - val_loss: 0.6413 - val_acc: 0.7729\n",
      "Epoch 37/50\n",
      "25/25 [==============================] - 87s 3s/step - loss: 0.0955 - acc: 0.9691 - val_loss: 0.6590 - val_acc: 0.7904\n",
      "Epoch 38/50\n",
      "25/25 [==============================] - 88s 4s/step - loss: 0.0902 - acc: 0.9712 - val_loss: 0.6539 - val_acc: 0.7904\n",
      "Epoch 39/50\n",
      "25/25 [==============================] - 88s 4s/step - loss: 0.0899 - acc: 0.9710 - val_loss: 0.6569 - val_acc: 0.7991\n",
      "Epoch 40/50\n",
      "25/25 [==============================] - 87s 3s/step - loss: 0.0862 - acc: 0.9717 - val_loss: 0.6632 - val_acc: 0.7904\n",
      "Epoch 41/50\n",
      "25/25 [==============================] - 88s 4s/step - loss: 0.0874 - acc: 0.9703 - val_loss: 0.6664 - val_acc: 0.7773\n",
      "Epoch 42/50\n",
      "25/25 [==============================] - 88s 4s/step - loss: 0.0834 - acc: 0.9727 - val_loss: 0.6558 - val_acc: 0.7948\n",
      "Epoch 43/50\n",
      "25/25 [==============================] - 88s 4s/step - loss: 0.0798 - acc: 0.9740 - val_loss: 0.6862 - val_acc: 0.7860\n",
      "Epoch 44/50\n",
      "25/25 [==============================] - 88s 4s/step - loss: 0.0751 - acc: 0.9773 - val_loss: 0.6786 - val_acc: 0.7991\n",
      "Epoch 45/50\n",
      "25/25 [==============================] - 88s 4s/step - loss: 0.0702 - acc: 0.9790 - val_loss: 0.6769 - val_acc: 0.7904\n",
      "Epoch 46/50\n",
      "25/25 [==============================] - 88s 4s/step - loss: 0.0730 - acc: 0.9765 - val_loss: 0.6791 - val_acc: 0.8035\n",
      "Epoch 47/50\n",
      "25/25 [==============================] - 88s 4s/step - loss: 0.0718 - acc: 0.9770 - val_loss: 0.6769 - val_acc: 0.8035\n",
      "Epoch 48/50\n",
      "25/25 [==============================] - 88s 4s/step - loss: 0.0740 - acc: 0.9757 - val_loss: 0.6788 - val_acc: 0.7860\n",
      "Epoch 49/50\n",
      "25/25 [==============================] - 87s 3s/step - loss: 0.0674 - acc: 0.9790 - val_loss: 0.6705 - val_acc: 0.7948\n",
      "Epoch 50/50\n",
      "25/25 [==============================] - 88s 4s/step - loss: 0.0673 - acc: 0.9791 - val_loss: 0.6679 - val_acc: 0.7991\n"
     ]
    }
   ],
   "source": [
    "history13=model.fit(X_train,\n",
    "         y_train,\n",
    "          batch_size=64,\n",
    "         steps_per_epoch=25,\n",
    "          validation_data=(X_test,y_test),\n",
    "         epochs=50)"
   ]
  },
  {
   "cell_type": "code",
   "execution_count": 83,
   "metadata": {},
   "outputs": [
    {
     "name": "stdout",
     "output_type": "stream",
     "text": [
      "\n",
      " Test accuracy: 0.7991266\n"
     ]
    }
   ],
   "source": [
    "# Evaluate the model on test set\n",
    "score = model.evaluate(X_test, y_test, verbose=0)\n",
    "# Print test accuracy\n",
    "print('\\n', 'Test accuracy:', score[1])"
   ]
  },
  {
   "cell_type": "code",
   "execution_count": 84,
   "metadata": {},
   "outputs": [
    {
     "data": {
      "image/png": "[encoded data removed]",
      "text/plain": [
       "<matplotlib.figure.Figure at 0x22f3ede5518>"
      ]
     },
     "metadata": {},
     "output_type": "display_data"
    }
   ],
   "source": [
    "train_test_plot(history13,50)"
   ]
  },
  {
   "cell_type": "markdown",
   "metadata": {},
   "source": [
    "**The network plateaus after 39 epochs with an accuracy of 0.79**"
   ]
  },
  {
   "cell_type": "markdown",
   "metadata": {},
   "source": [
    "**Changing the number of filter increases the accuracy from 0.77 to 0.79 **"
   ]
  },
  {
   "cell_type": "markdown",
   "metadata": {},
   "source": [
    "### SUMMARY PART F\n",
    "\n",
    "**Number of layers  -3: 0.76 **\n",
    "\n",
    "**Number of layers  -4: 0.75**\n",
    "    \n",
    "**Changing the filters : 0.79  **"
   ]
  },
  {
   "cell_type": "markdown",
   "metadata": {},
   "source": [
    "# PART G - NETWORK INITIALIZATION"
   ]
  },
  {
   "cell_type": "markdown",
   "metadata": {},
   "source": [
    "**Changing the initializer from 'glorot_uniform' to 'zeros'**"
   ]
  },
  {
   "cell_type": "code",
   "execution_count": 85,
   "metadata": {},
   "outputs": [],
   "source": [
    "model = tf.keras.Sequential()\n",
    " #Must define the input shape in the first layer of the neural network\n",
    "    #layer 1\n",
    "model.add(tf.keras.layers.Conv2D(filters=64, kernel_size=2, padding='same', activation='relu', input_shape=(32,32,1),kernel_initializer ='Zeros',bias_initializer ='Zeros')) \n",
    "model.add(tf.keras.layers.MaxPooling2D(pool_size=2))\n",
    "model.add(tf.keras.layers.Dropout(0.3))\n",
    "    #layer 2\n",
    "model.add(tf.keras.layers.Conv2D(filters=32, kernel_size=2, padding='same', activation='relu',kernel_initializer ='Zeros',bias_initializer ='Zeros'))\n",
    "model.add(tf.keras.layers.MaxPooling2D(pool_size=2))\n",
    "model.add(tf.keras.layers.Dropout(0.3))\n",
    "    #flattening the layer\n",
    "model.add(tf.keras.layers.Flatten())\n",
    "model.add(tf.keras.layers.Dropout(0.5))\n",
    "model.add(tf.keras.layers.Dense(6, activation='softmax'))"
   ]
  },
  {
   "cell_type": "code",
   "execution_count": 86,
   "metadata": {},
   "outputs": [],
   "source": [
    "model.compile(loss='categorical_crossentropy',\n",
    "             optimizer='adam',\n",
    "             metrics=['accuracy'])"
   ]
  },
  {
   "cell_type": "code",
   "execution_count": 87,
   "metadata": {},
   "outputs": [
    {
     "name": "stdout",
     "output_type": "stream",
     "text": [
      "Epoch 1/50\n",
      "25/25 [==============================] - 36s 1s/step - loss: 1.7897 - acc: 0.2333 - val_loss: 1.7866 - val_acc: 0.2795\n",
      "Epoch 2/50\n",
      "25/25 [==============================] - 37s 1s/step - loss: 1.7859 - acc: 0.2333 - val_loss: 1.7810 - val_acc: 0.2795\n",
      "Epoch 3/50\n",
      "25/25 [==============================] - 36s 1s/step - loss: 1.7825 - acc: 0.2333 - val_loss: 1.7763 - val_acc: 0.2795\n",
      "Epoch 4/50\n",
      "25/25 [==============================] - 36s 1s/step - loss: 1.7797 - acc: 0.2333 - val_loss: 1.7722 - val_acc: 0.2795\n",
      "Epoch 5/50\n",
      "25/25 [==============================] - 36s 1s/step - loss: 1.7773 - acc: 0.2333 - val_loss: 1.7687 - val_acc: 0.2795\n",
      "Epoch 6/50\n",
      "25/25 [==============================] - 36s 1s/step - loss: 1.7752 - acc: 0.2333 - val_loss: 1.7656 - val_acc: 0.2795\n",
      "Epoch 7/50\n",
      "25/25 [==============================] - 36s 1s/step - loss: 1.7734 - acc: 0.2333 - val_loss: 1.7630 - val_acc: 0.2795\n",
      "Epoch 8/50\n",
      "25/25 [==============================] - 36s 1s/step - loss: 1.7720 - acc: 0.2333 - val_loss: 1.7607 - val_acc: 0.2795\n",
      "Epoch 9/50\n",
      "25/25 [==============================] - 36s 1s/step - loss: 1.7707 - acc: 0.2333 - val_loss: 1.7587 - val_acc: 0.2795\n",
      "Epoch 10/50\n",
      "25/25 [==============================] - 36s 1s/step - loss: 1.7696 - acc: 0.2333 - val_loss: 1.7570 - val_acc: 0.2795\n",
      "Epoch 11/50\n",
      "25/25 [==============================] - 36s 1s/step - loss: 1.7688 - acc: 0.2333 - val_loss: 1.7555 - val_acc: 0.2795\n",
      "Epoch 12/50\n",
      "25/25 [==============================] - 37s 1s/step - loss: 1.7680 - acc: 0.2333 - val_loss: 1.7542 - val_acc: 0.2795\n",
      "Epoch 13/50\n",
      "25/25 [==============================] - 38s 2s/step - loss: 1.7674 - acc: 0.2333 - val_loss: 1.7532 - val_acc: 0.2795\n",
      "Epoch 14/50\n",
      "25/25 [==============================] - 38s 2s/step - loss: 1.7669 - acc: 0.2333 - val_loss: 1.7522 - val_acc: 0.2795\n",
      "Epoch 15/50\n",
      "25/25 [==============================] - 38s 2s/step - loss: 1.7665 - acc: 0.2333 - val_loss: 1.7514 - val_acc: 0.2795\n",
      "Epoch 16/50\n",
      "25/25 [==============================] - 37s 1s/step - loss: 1.7661 - acc: 0.2333 - val_loss: 1.7508 - val_acc: 0.2795\n",
      "Epoch 17/50\n",
      "25/25 [==============================] - 37s 1s/step - loss: 1.7659 - acc: 0.2333 - val_loss: 1.7502 - val_acc: 0.2795\n",
      "Epoch 18/50\n",
      "25/25 [==============================] - 38s 2s/step - loss: 1.7656 - acc: 0.2333 - val_loss: 1.7497 - val_acc: 0.2795\n",
      "Epoch 19/50\n",
      "25/25 [==============================] - 38s 2s/step - loss: 1.7655 - acc: 0.2333 - val_loss: 1.7493 - val_acc: 0.2795\n",
      "Epoch 20/50\n",
      "25/25 [==============================] - 38s 2s/step - loss: 1.7653 - acc: 0.2333 - val_loss: 1.7489 - val_acc: 0.2795\n",
      "Epoch 21/50\n",
      "25/25 [==============================] - 37s 1s/step - loss: 1.7652 - acc: 0.2333 - val_loss: 1.7486 - val_acc: 0.2795\n",
      "Epoch 22/50\n",
      "25/25 [==============================] - 38s 2s/step - loss: 1.7651 - acc: 0.2333 - val_loss: 1.7484 - val_acc: 0.2795\n",
      "Epoch 23/50\n",
      "25/25 [==============================] - 37s 1s/step - loss: 1.7651 - acc: 0.2333 - val_loss: 1.7482 - val_acc: 0.2795\n",
      "Epoch 24/50\n",
      "25/25 [==============================] - 38s 2s/step - loss: 1.7650 - acc: 0.2333 - val_loss: 1.7480 - val_acc: 0.2795\n",
      "Epoch 25/50\n",
      "25/25 [==============================] - 39s 2s/step - loss: 1.7650 - acc: 0.2333 - val_loss: 1.7479 - val_acc: 0.2795\n",
      "Epoch 26/50\n",
      "25/25 [==============================] - 37s 1s/step - loss: 1.7649 - acc: 0.2333 - val_loss: 1.7477 - val_acc: 0.2795\n",
      "Epoch 27/50\n",
      "25/25 [==============================] - 37s 1s/step - loss: 1.7649 - acc: 0.2333 - val_loss: 1.7476 - val_acc: 0.2795\n",
      "Epoch 28/50\n",
      "25/25 [==============================] - 36s 1s/step - loss: 1.7649 - acc: 0.2333 - val_loss: 1.7475 - val_acc: 0.2795\n",
      "Epoch 29/50\n",
      "25/25 [==============================] - 37s 1s/step - loss: 1.7649 - acc: 0.2333 - val_loss: 1.7475 - val_acc: 0.2795\n",
      "Epoch 30/50\n",
      "25/25 [==============================] - 36s 1s/step - loss: 1.7649 - acc: 0.2333 - val_loss: 1.7474 - val_acc: 0.2795\n",
      "Epoch 31/50\n",
      "25/25 [==============================] - 37s 1s/step - loss: 1.7649 - acc: 0.2333 - val_loss: 1.7474 - val_acc: 0.2795\n",
      "Epoch 32/50\n",
      "25/25 [==============================] - 36s 1s/step - loss: 1.7648 - acc: 0.2333 - val_loss: 1.7473 - val_acc: 0.2795\n",
      "Epoch 33/50\n",
      "25/25 [==============================] - 36s 1s/step - loss: 1.7648 - acc: 0.2333 - val_loss: 1.7473 - val_acc: 0.2795\n",
      "Epoch 34/50\n",
      "25/25 [==============================] - 36s 1s/step - loss: 1.7648 - acc: 0.2333 - val_loss: 1.7472 - val_acc: 0.2795\n",
      "Epoch 35/50\n",
      "25/25 [==============================] - 36s 1s/step - loss: 1.7648 - acc: 0.2333 - val_loss: 1.7472 - val_acc: 0.2795\n",
      "Epoch 36/50\n",
      "25/25 [==============================] - 36s 1s/step - loss: 1.7648 - acc: 0.2333 - val_loss: 1.7472 - val_acc: 0.2795\n",
      "Epoch 37/50\n",
      "25/25 [==============================] - 36s 1s/step - loss: 1.7648 - acc: 0.2333 - val_loss: 1.7472 - val_acc: 0.2795\n",
      "Epoch 38/50\n",
      "25/25 [==============================] - 36s 1s/step - loss: 1.7648 - acc: 0.2333 - val_loss: 1.7472 - val_acc: 0.2795\n",
      "Epoch 39/50\n",
      "25/25 [==============================] - 36s 1s/step - loss: 1.7648 - acc: 0.2333 - val_loss: 1.7472 - val_acc: 0.2795\n",
      "Epoch 40/50\n",
      "25/25 [==============================] - 36s 1s/step - loss: 1.7648 - acc: 0.2333 - val_loss: 1.7471 - val_acc: 0.2795\n",
      "Epoch 41/50\n",
      "25/25 [==============================] - 36s 1s/step - loss: 1.7648 - acc: 0.2333 - val_loss: 1.7471 - val_acc: 0.2795\n",
      "Epoch 42/50\n",
      "25/25 [==============================] - 36s 1s/step - loss: 1.7648 - acc: 0.2333 - val_loss: 1.7471 - val_acc: 0.2795\n",
      "Epoch 43/50\n",
      "25/25 [==============================] - 36s 1s/step - loss: 1.7648 - acc: 0.2333 - val_loss: 1.7471 - val_acc: 0.2795\n",
      "Epoch 44/50\n",
      "25/25 [==============================] - 36s 1s/step - loss: 1.7648 - acc: 0.2333 - val_loss: 1.7471 - val_acc: 0.2795\n",
      "Epoch 45/50\n",
      "25/25 [==============================] - 36s 1s/step - loss: 1.7648 - acc: 0.2333 - val_loss: 1.7471 - val_acc: 0.2795\n",
      "Epoch 46/50\n",
      "25/25 [==============================] - 36s 1s/step - loss: 1.7648 - acc: 0.2333 - val_loss: 1.7471 - val_acc: 0.2795\n",
      "Epoch 47/50\n",
      "25/25 [==============================] - 36s 1s/step - loss: 1.7648 - acc: 0.2333 - val_loss: 1.7471 - val_acc: 0.2795\n",
      "Epoch 48/50\n",
      "25/25 [==============================] - 36s 1s/step - loss: 1.7648 - acc: 0.2333 - val_loss: 1.7471 - val_acc: 0.2795\n",
      "Epoch 49/50\n",
      "25/25 [==============================] - 36s 1s/step - loss: 1.7648 - acc: 0.2333 - val_loss: 1.7471 - val_acc: 0.2795\n",
      "Epoch 50/50\n",
      "25/25 [==============================] - 36s 1s/step - loss: 1.7648 - acc: 0.2333 - val_loss: 1.7471 - val_acc: 0.2795\n"
     ]
    }
   ],
   "source": [
    "history14=model.fit(X_train,\n",
    "         y_train,\n",
    "          batch_size=64,\n",
    "         steps_per_epoch=25,\n",
    "          validation_data=(X_test,y_test),\n",
    "         epochs=50)"
   ]
  },
  {
   "cell_type": "code",
   "execution_count": 88,
   "metadata": {},
   "outputs": [
    {
     "name": "stdout",
     "output_type": "stream",
     "text": [
      "\n",
      " Test accuracy: 0.279476\n"
     ]
    }
   ],
   "source": [
    "# Evaluate the model on test set\n",
    "score = model.evaluate(X_test, y_test, verbose=0)\n",
    "# Print test accuracy\n",
    "print('\\n', 'Test accuracy:', score[1])"
   ]
  },
  {
   "cell_type": "code",
   "execution_count": 89,
   "metadata": {},
   "outputs": [
    {
     "data": {
      "image/png": "[encoded data removed]",
      "text/plain": [
       "<matplotlib.figure.Figure at 0x22f4059e5c0>"
      ]
     },
     "metadata": {},
     "output_type": "display_data"
    }
   ],
   "source": [
    "train_test_plot(history14,50)"
   ]
  },
  {
   "cell_type": "markdown",
   "metadata": {},
   "source": [
    "**The network plateaus after 1 epoch with a accuracy of 0.27**"
   ]
  },
  {
   "cell_type": "markdown",
   "metadata": {},
   "source": [
    "**Changing the initializer from 'glorot_uniform' to 'Zeros' reduces the accuracy from 0.77 to 0.27**"
   ]
  },
  {
   "cell_type": "markdown",
   "metadata": {},
   "source": [
    "**Changing the initializer from 'glorot_uniform' to 'RandomUniform'**"
   ]
  },
  {
   "cell_type": "code",
   "execution_count": 90,
   "metadata": {},
   "outputs": [],
   "source": [
    "model = tf.keras.Sequential()\n",
    " #Must define the input shape in the first layer of the neural network\n",
    "    #layer 1\n",
    "model.add(tf.keras.layers.Conv2D(filters=64, kernel_size=2, padding='same', activation='relu', input_shape=(32,32,1),kernel_initializer ='RandomUniform',bias_initializer ='RandomUniform')) \n",
    "model.add(tf.keras.layers.MaxPooling2D(pool_size=2))\n",
    "model.add(tf.keras.layers.Dropout(0.3))\n",
    "    #layer 2\n",
    "model.add(tf.keras.layers.Conv2D(filters=32, kernel_size=2, padding='same', activation='relu',kernel_initializer ='RandomUniform',bias_initializer ='RandomUniform'))\n",
    "model.add(tf.keras.layers.MaxPooling2D(pool_size=2))\n",
    "model.add(tf.keras.layers.Dropout(0.3))\n",
    "    #flatenning the layer\n",
    "model.add(tf.keras.layers.Flatten())\n",
    "model.add(tf.keras.layers.Dropout(0.5))\n",
    "model.add(tf.keras.layers.Dense(6, activation='softmax'))"
   ]
  },
  {
   "cell_type": "code",
   "execution_count": 91,
   "metadata": {},
   "outputs": [],
   "source": [
    "model.compile(loss='categorical_crossentropy',\n",
    "             optimizer='adam',\n",
    "             metrics=['accuracy'])"
   ]
  },
  {
   "cell_type": "code",
   "execution_count": 92,
   "metadata": {},
   "outputs": [
    {
     "name": "stdout",
     "output_type": "stream",
     "text": [
      "Epoch 1/50\n",
      "25/25 [==============================] - 38s 2s/step - loss: 1.7523 - acc: 0.2335 - val_loss: 1.6936 - val_acc: 0.2838\n",
      "Epoch 2/50\n",
      "25/25 [==============================] - 37s 1s/step - loss: 1.5573 - acc: 0.3832 - val_loss: 1.3478 - val_acc: 0.5284\n",
      "Epoch 3/50\n",
      "25/25 [==============================] - 37s 1s/step - loss: 1.2645 - acc: 0.5285 - val_loss: 1.1987 - val_acc: 0.5633\n",
      "Epoch 4/50\n",
      "25/25 [==============================] - 38s 2s/step - loss: 1.1417 - acc: 0.5808 - val_loss: 1.1200 - val_acc: 0.5721\n",
      "Epoch 5/50\n",
      "25/25 [==============================] - 37s 1s/step - loss: 1.0561 - acc: 0.6155 - val_loss: 1.0748 - val_acc: 0.6157\n",
      "Epoch 6/50\n",
      "25/25 [==============================] - 37s 1s/step - loss: 0.9788 - acc: 0.6441 - val_loss: 1.0320 - val_acc: 0.6157\n",
      "Epoch 7/50\n",
      "25/25 [==============================] - 37s 1s/step - loss: 0.9152 - acc: 0.6739 - val_loss: 0.9951 - val_acc: 0.6419\n",
      "Epoch 8/50\n",
      "25/25 [==============================] - 37s 1s/step - loss: 0.8539 - acc: 0.6989 - val_loss: 0.9660 - val_acc: 0.6550\n",
      "Epoch 9/50\n",
      "25/25 [==============================] - 37s 1s/step - loss: 0.8039 - acc: 0.7171 - val_loss: 0.9423 - val_acc: 0.6681\n",
      "Epoch 10/50\n",
      "25/25 [==============================] - 37s 1s/step - loss: 0.7658 - acc: 0.7282 - val_loss: 0.9194 - val_acc: 0.6769\n",
      "Epoch 11/50\n",
      "25/25 [==============================] - 37s 1s/step - loss: 0.7157 - acc: 0.7468 - val_loss: 0.8954 - val_acc: 0.6769\n",
      "Epoch 12/50\n",
      "25/25 [==============================] - 37s 1s/step - loss: 0.6804 - acc: 0.7626 - val_loss: 0.8810 - val_acc: 0.6856\n",
      "Epoch 13/50\n",
      "25/25 [==============================] - 37s 1s/step - loss: 0.6421 - acc: 0.7745 - val_loss: 0.8578 - val_acc: 0.6943\n",
      "Epoch 14/50\n",
      "25/25 [==============================] - 37s 1s/step - loss: 0.6201 - acc: 0.7798 - val_loss: 0.8397 - val_acc: 0.7031\n",
      "Epoch 15/50\n",
      "25/25 [==============================] - 37s 1s/step - loss: 0.5805 - acc: 0.7988 - val_loss: 0.8295 - val_acc: 0.7074\n",
      "Epoch 16/50\n",
      "25/25 [==============================] - 37s 1s/step - loss: 0.5553 - acc: 0.8056 - val_loss: 0.8077 - val_acc: 0.6987\n",
      "Epoch 17/50\n",
      "25/25 [==============================] - 37s 1s/step - loss: 0.5333 - acc: 0.8143 - val_loss: 0.7984 - val_acc: 0.7074\n",
      "Epoch 18/50\n",
      "25/25 [==============================] - 37s 1s/step - loss: 0.5129 - acc: 0.8183 - val_loss: 0.7844 - val_acc: 0.7031\n",
      "Epoch 19/50\n",
      "25/25 [==============================] - 37s 1s/step - loss: 0.4936 - acc: 0.8280 - val_loss: 0.7704 - val_acc: 0.7205\n",
      "Epoch 20/50\n",
      "25/25 [==============================] - 37s 1s/step - loss: 0.4685 - acc: 0.8336 - val_loss: 0.7670 - val_acc: 0.7249\n",
      "Epoch 21/50\n",
      "25/25 [==============================] - 37s 1s/step - loss: 0.4565 - acc: 0.8427 - val_loss: 0.7450 - val_acc: 0.7205\n",
      "Epoch 22/50\n",
      "25/25 [==============================] - 37s 1s/step - loss: 0.4390 - acc: 0.8427 - val_loss: 0.7529 - val_acc: 0.7293\n",
      "Epoch 23/50\n",
      "25/25 [==============================] - 37s 1s/step - loss: 0.4268 - acc: 0.8501 - val_loss: 0.7419 - val_acc: 0.7336\n",
      "Epoch 24/50\n",
      "25/25 [==============================] - 37s 1s/step - loss: 0.4155 - acc: 0.8523 - val_loss: 0.7312 - val_acc: 0.7249\n",
      "Epoch 25/50\n",
      "25/25 [==============================] - 37s 1s/step - loss: 0.4044 - acc: 0.8549 - val_loss: 0.7343 - val_acc: 0.7336\n",
      "Epoch 26/50\n",
      "25/25 [==============================] - 37s 1s/step - loss: 0.3855 - acc: 0.8655 - val_loss: 0.7274 - val_acc: 0.7249\n",
      "Epoch 27/50\n",
      "25/25 [==============================] - 37s 1s/step - loss: 0.3797 - acc: 0.8662 - val_loss: 0.7146 - val_acc: 0.7205\n",
      "Epoch 28/50\n",
      "25/25 [==============================] - 37s 1s/step - loss: 0.3687 - acc: 0.8703 - val_loss: 0.7175 - val_acc: 0.7249\n",
      "Epoch 29/50\n",
      "25/25 [==============================] - 37s 1s/step - loss: 0.3579 - acc: 0.8743 - val_loss: 0.7047 - val_acc: 0.7336\n",
      "Epoch 30/50\n",
      "25/25 [==============================] - 37s 1s/step - loss: 0.3441 - acc: 0.8760 - val_loss: 0.6998 - val_acc: 0.7205\n",
      "Epoch 31/50\n",
      "25/25 [==============================] - 37s 1s/step - loss: 0.3412 - acc: 0.8809 - val_loss: 0.6870 - val_acc: 0.7293\n",
      "Epoch 32/50\n",
      "25/25 [==============================] - 39s 2s/step - loss: 0.3258 - acc: 0.8848 - val_loss: 0.6906 - val_acc: 0.7424\n",
      "Epoch 33/50\n",
      "25/25 [==============================] - 37s 1s/step - loss: 0.3193 - acc: 0.8865 - val_loss: 0.6772 - val_acc: 0.7336\n",
      "Epoch 34/50\n",
      "25/25 [==============================] - 37s 1s/step - loss: 0.3152 - acc: 0.8860 - val_loss: 0.6828 - val_acc: 0.7380\n",
      "Epoch 35/50\n",
      "25/25 [==============================] - 37s 1s/step - loss: 0.3027 - acc: 0.8945 - val_loss: 0.6773 - val_acc: 0.7380\n",
      "Epoch 36/50\n",
      "25/25 [==============================] - 37s 1s/step - loss: 0.2932 - acc: 0.8979 - val_loss: 0.6728 - val_acc: 0.7424\n",
      "Epoch 37/50\n",
      "25/25 [==============================] - 37s 1s/step - loss: 0.2912 - acc: 0.8959 - val_loss: 0.6794 - val_acc: 0.7380\n",
      "Epoch 38/50\n",
      "25/25 [==============================] - 37s 1s/step - loss: 0.2859 - acc: 0.8982 - val_loss: 0.6774 - val_acc: 0.7424\n",
      "Epoch 39/50\n",
      "25/25 [==============================] - 37s 1s/step - loss: 0.2797 - acc: 0.9016 - val_loss: 0.6737 - val_acc: 0.7380\n",
      "Epoch 40/50\n",
      "25/25 [==============================] - 37s 1s/step - loss: 0.2753 - acc: 0.9048 - val_loss: 0.6732 - val_acc: 0.7555\n",
      "Epoch 41/50\n",
      "25/25 [==============================] - 37s 1s/step - loss: 0.2665 - acc: 0.9061 - val_loss: 0.6751 - val_acc: 0.7380\n",
      "Epoch 42/50\n",
      "25/25 [==============================] - 37s 1s/step - loss: 0.2599 - acc: 0.9102 - val_loss: 0.6579 - val_acc: 0.7467\n",
      "Epoch 43/50\n",
      "25/25 [==============================] - 37s 1s/step - loss: 0.2497 - acc: 0.9118 - val_loss: 0.6594 - val_acc: 0.7511\n",
      "Epoch 44/50\n",
      "25/25 [==============================] - 37s 1s/step - loss: 0.2529 - acc: 0.9109 - val_loss: 0.6552 - val_acc: 0.7598\n",
      "Epoch 45/50\n",
      "25/25 [==============================] - 37s 1s/step - loss: 0.2480 - acc: 0.9126 - val_loss: 0.6531 - val_acc: 0.7511\n",
      "Epoch 46/50\n",
      "25/25 [==============================] - 37s 1s/step - loss: 0.2438 - acc: 0.9148 - val_loss: 0.6490 - val_acc: 0.7598\n",
      "Epoch 47/50\n",
      "25/25 [==============================] - 37s 1s/step - loss: 0.2442 - acc: 0.9155 - val_loss: 0.6637 - val_acc: 0.7555\n",
      "Epoch 48/50\n",
      "25/25 [==============================] - 37s 1s/step - loss: 0.2409 - acc: 0.9131 - val_loss: 0.6584 - val_acc: 0.7642\n",
      "Epoch 49/50\n",
      "25/25 [==============================] - 37s 1s/step - loss: 0.2317 - acc: 0.9201 - val_loss: 0.6603 - val_acc: 0.7467\n",
      "Epoch 50/50\n",
      "25/25 [==============================] - 38s 2s/step - loss: 0.2218 - acc: 0.9219 - val_loss: 0.6467 - val_acc: 0.7598\n"
     ]
    }
   ],
   "source": [
    "history15=model.fit(X_train,\n",
    "         y_train,\n",
    "          batch_size=64,\n",
    "         steps_per_epoch=25,\n",
    "        validation_data=(X_test,y_test),\n",
    "         epochs=50)"
   ]
  },
  {
   "cell_type": "code",
   "execution_count": 93,
   "metadata": {},
   "outputs": [
    {
     "name": "stdout",
     "output_type": "stream",
     "text": [
      "\n",
      " Test accuracy: 0.75982535\n"
     ]
    }
   ],
   "source": [
    "# Evaluate the model on test set\n",
    "score = model.evaluate(X_test, y_test, verbose=0)\n",
    "# Print test accuracy\n",
    "print('\\n', 'Test accuracy:', score[1])"
   ]
  },
  {
   "cell_type": "code",
   "execution_count": 94,
   "metadata": {},
   "outputs": [
    {
     "data": {
      "image/png": "[encoded data removed]",
      "text/plain": [
       "<matplotlib.figure.Figure at 0x22f3d3503c8>"
      ]
     },
     "metadata": {},
     "output_type": "display_data"
    }
   ],
   "source": [
    "train_test_plot(history15,50)"
   ]
  },
  {
   "cell_type": "markdown",
   "metadata": {},
   "source": [
    "**The network plateaus after 44 epcohs with a accuracy from 0.75**"
   ]
  },
  {
   "cell_type": "markdown",
   "metadata": {},
   "source": [
    "**Changing the initializer from 'glorot_uniform' to 'RandomUniform' decreases the accuracy from 0.77 to 0.75**"
   ]
  },
  {
   "cell_type": "markdown",
   "metadata": {},
   "source": [
    "### SUMMARY PART G\n",
    "\n",
    "**'glorot_uniform' : 0.77**\n",
    "\n",
    "**'Zeros': 0.27 **\n",
    "\n",
    "**'RandomUniform' : 0.75 **"
   ]
  },
  {
   "cell_type": "markdown",
   "metadata": {},
   "source": [
    "# CONCLUSION"
   ]
  },
  {
   "cell_type": "markdown",
   "metadata": {},
   "source": [
    "![](files/conc.PNG)"
   ]
  },
  {
   "cell_type": "markdown",
   "metadata": {},
   "source": [
    "From this we see that as we increase the epochs the accuracy increases from 0.77 for 50 epochs to 0.86 for 100 epochs. 'elu' activation function the best for my dataset and 'cosine_proximity' is the best cost function. 'RMSProp' is the best optimizer with an accuracy of 0.80. By increasing the filters accuracy incareses from 0.77 to 0.79 and 'glorot_uniform' has the best accuracy of 0.77."
   ]
  },
  {
   "cell_type": "markdown",
   "metadata": {},
   "source": [
    "# CONTRIBUTION STATEMENT"
   ]
  },
  {
   "cell_type": "markdown",
   "metadata": {},
   "source": [
    "In this assignment all the code has been written by me with proper citations and explanation."
   ]
  },
  {
   "cell_type": "markdown",
   "metadata": {},
   "source": [
    "# LICENSE"
   ]
  },
  {
   "cell_type": "markdown",
   "metadata": {},
   "source": [
    "This document is Licensed under the MIT license and is documented by Ayush Jain.\n",
    "\n",
    "https://opensource.org/licenses/MIT\n",
    "\n",
    "MIT License\n",
    "\n",
    "Copyright (c) 2019 Ayush Jain \n",
    "\n",
    "Permission is hereby granted, free of charge, to any person obtaining a copy of this software and associated documentation files (the \"Software\"), to deal in the Software without restriction, including without limitation the rights to use, copy, modify, merge, publish, distribute, sublicense, and/or sell copies of the Software, and to permit persons to whom the Software is furnished to do so, subject to the following conditions:\n",
    "\n",
    "The above copyright notice and this permission notice shall be included in all copies or substantial portions of the Software.\n",
    "\n",
    "THE SOFTWARE IS PROVIDED \"AS IS\", WITHOUT WARRANTY OF ANY KIND, EXPRESS OR IMPLIED, INCLUDING BUT NOT LIMITED TO THE WARRANTIES OF MERCHANTABILITY, FITNESS FOR A PARTICULAR PURPOSE AND NONINFRINGEMENT. IN NO EVENT SHALL THE AUTHORS OR COPYRIGHT HOLDERS BE LIABLE FOR ANY CLAIM, DAMAGES OR OTHER LIABILITY, WHETHER IN AN ACTION OF CONTRACT, TORT OR OTHERWISE, ARISING FROM, OUT OF OR IN CONNECTION WITH THE SOFTWARE OR THE USE OR OTHER DEALINGS IN THE SOFTWARE."
   ]
  }
 ],
 "metadata": {
  "kernelspec": {
   "display_name": "Python 3",
   "language": "python",
   "name": "python3"
  },
  "language_info": {
   "codemirror_mode": {
    "name": "ipython",
    "version": 3
   },
   "file_extension": ".py",
   "mimetype": "text/x-python",
   "name": "python",
   "nbconvert_exporter": "python",
   "pygments_lexer": "ipython3",
   "version": "3.6.4"
  }
 },
 "nbformat": 4,
 "nbformat_minor": 2
}
